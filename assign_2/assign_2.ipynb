{
  "nbformat": 4,
  "nbformat_minor": 0,
  "metadata": {
    "colab": {
      "provenance": [],
      "authorship_tag": "ABX9TyNvzUoL5E3rviTjev0qKhKR",
      "include_colab_link": true
    },
    "kernelspec": {
      "name": "python3",
      "display_name": "Python 3"
    },
    "language_info": {
      "name": "python"
    }
  },
  "cells": [
    {
      "cell_type": "markdown",
      "metadata": {
        "id": "view-in-github",
        "colab_type": "text"
      },
      "source": [
        "<a href=\"https://colab.research.google.com/github/gc2321/3546-Deep-Learning/blob/main/assign_2/assign_2.ipynb\" target=\"_parent\"><img src=\"https://colab.research.google.com/assets/colab-badge.svg\" alt=\"Open In Colab\"/></a>"
      ]
    },
    {
      "cell_type": "markdown",
      "source": [
        "# Classifying Flowers using Transfer Learning in Keras"
      ],
      "metadata": {
        "id": "N02VKrQu0th2"
      }
    },
    {
      "cell_type": "markdown",
      "source": [
        "Assignment 2 - Convolutional Neural Nets and Transfer Learning\n",
        "\n",
        "By Gordon Chan (qq525548)"
      ],
      "metadata": {
        "id": "J54MGz7t0xdb"
      }
    },
    {
      "cell_type": "code",
      "execution_count": null,
      "metadata": {
        "id": "ydGDtyOHcYWB"
      },
      "outputs": [],
      "source": []
    }
  ]
}