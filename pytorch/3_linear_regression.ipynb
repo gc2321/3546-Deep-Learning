{
  "nbformat": 4,
  "nbformat_minor": 0,
  "metadata": {
    "colab": {
      "provenance": [],
      "authorship_tag": "ABX9TyM3ZYtLI7vU70JGLgiZHVUH",
      "include_colab_link": true
    },
    "kernelspec": {
      "name": "python3",
      "display_name": "Python 3"
    },
    "language_info": {
      "name": "python"
    }
  },
  "cells": [
    {
      "cell_type": "markdown",
      "metadata": {
        "id": "view-in-github",
        "colab_type": "text"
      },
      "source": [
        "<a href=\"https://colab.research.google.com/github/gc2321/3546-Deep-Learning/blob/main/pytorch/3_linear_regression.ipynb\" target=\"_parent\"><img src=\"https://colab.research.google.com/assets/colab-badge.svg\" alt=\"Open In Colab\"/></a>"
      ]
    },
    {
      "cell_type": "code",
      "execution_count": 5,
      "metadata": {
        "id": "OziT1vTBlMfo"
      },
      "outputs": [],
      "source": [
        "import torch\n",
        "import torch.nn as nn  # we'll use this a lot going forward!\n",
        "\n",
        "import numpy as np\n",
        "import matplotlib.pyplot as plt"
      ]
    },
    {
      "cell_type": "code",
      "source": [
        "torch.cuda.is_available()"
      ],
      "metadata": {
        "colab": {
          "base_uri": "https://localhost:8080/"
        },
        "id": "dhSQTukRlhTn",
        "outputId": "465c5192-e0cc-44fd-fde5-355ce44dde49"
      },
      "execution_count": 6,
      "outputs": [
        {
          "output_type": "execute_result",
          "data": {
            "text/plain": [
              "False"
            ]
          },
          "metadata": {},
          "execution_count": 6
        }
      ]
    },
    {
      "cell_type": "code",
      "source": [
        "#torch.cuda.current_device()"
      ],
      "metadata": {
        "id": "xKBo5YIXlm1H"
      },
      "execution_count": 7,
      "outputs": []
    },
    {
      "cell_type": "code",
      "source": [
        "#torch.cuda.get_device_name(0)"
      ],
      "metadata": {
        "id": "L8_esRoPlqL1"
      },
      "execution_count": 8,
      "outputs": []
    },
    {
      "cell_type": "code",
      "source": [
        "#torch.cuda.memory_allocated()"
      ],
      "metadata": {
        "id": "gLUDmgq_lv8q"
      },
      "execution_count": 9,
      "outputs": []
    },
    {
      "cell_type": "code",
      "source": [
        "#torch.cuda.memory_cached()"
      ],
      "metadata": {
        "id": "W6ioJTYElyjF"
      },
      "execution_count": 10,
      "outputs": []
    },
    {
      "cell_type": "code",
      "source": [
        "X = torch.linspace(1,50,50).reshape(-1,1)"
      ],
      "metadata": {
        "id": "BbwtqdT-mFIT"
      },
      "execution_count": 11,
      "outputs": []
    },
    {
      "cell_type": "code",
      "source": [
        "X"
      ],
      "metadata": {
        "colab": {
          "base_uri": "https://localhost:8080/"
        },
        "id": "qX9R5ugsmW4x",
        "outputId": "7bdde98b-647a-4c85-8173-1a595ff39615"
      },
      "execution_count": 12,
      "outputs": [
        {
          "output_type": "execute_result",
          "data": {
            "text/plain": [
              "tensor([[ 1.],\n",
              "        [ 2.],\n",
              "        [ 3.],\n",
              "        [ 4.],\n",
              "        [ 5.],\n",
              "        [ 6.],\n",
              "        [ 7.],\n",
              "        [ 8.],\n",
              "        [ 9.],\n",
              "        [10.],\n",
              "        [11.],\n",
              "        [12.],\n",
              "        [13.],\n",
              "        [14.],\n",
              "        [15.],\n",
              "        [16.],\n",
              "        [17.],\n",
              "        [18.],\n",
              "        [19.],\n",
              "        [20.],\n",
              "        [21.],\n",
              "        [22.],\n",
              "        [23.],\n",
              "        [24.],\n",
              "        [25.],\n",
              "        [26.],\n",
              "        [27.],\n",
              "        [28.],\n",
              "        [29.],\n",
              "        [30.],\n",
              "        [31.],\n",
              "        [32.],\n",
              "        [33.],\n",
              "        [34.],\n",
              "        [35.],\n",
              "        [36.],\n",
              "        [37.],\n",
              "        [38.],\n",
              "        [39.],\n",
              "        [40.],\n",
              "        [41.],\n",
              "        [42.],\n",
              "        [43.],\n",
              "        [44.],\n",
              "        [45.],\n",
              "        [46.],\n",
              "        [47.],\n",
              "        [48.],\n",
              "        [49.],\n",
              "        [50.]])"
            ]
          },
          "metadata": {},
          "execution_count": 12
        }
      ]
    },
    {
      "cell_type": "code",
      "source": [
        "torch.manual_seed(71) # to obtain reproducible results\n",
        "e = torch.randint(-8,9,(50,1),dtype=torch.float)\n",
        "print(e.sum())"
      ],
      "metadata": {
        "colab": {
          "base_uri": "https://localhost:8080/"
        },
        "id": "7L5f9Tq9mXyw",
        "outputId": "4a02a46d-64a8-4914-cb21-209f9cdc5d93"
      },
      "execution_count": 13,
      "outputs": [
        {
          "output_type": "stream",
          "name": "stdout",
          "text": [
            "tensor(0.)\n"
          ]
        }
      ]
    },
    {
      "cell_type": "code",
      "source": [
        "y = 2*X + 1 + e\n",
        "print(y.shape)"
      ],
      "metadata": {
        "colab": {
          "base_uri": "https://localhost:8080/"
        },
        "id": "4mjAR09smfYf",
        "outputId": "f7ff0d11-e005-45c9-c6f8-b92bb6dafc61"
      },
      "execution_count": 14,
      "outputs": [
        {
          "output_type": "stream",
          "name": "stdout",
          "text": [
            "torch.Size([50, 1])\n"
          ]
        }
      ]
    },
    {
      "cell_type": "code",
      "source": [
        "plt.scatter(X.numpy(), y.numpy())\n",
        "plt.ylabel('y')\n",
        "plt.xlabel('x');"
      ],
      "metadata": {
        "colab": {
          "base_uri": "https://localhost:8080/",
          "height": 469
        },
        "id": "Fgl8Gdd9mrS1",
        "outputId": "e6108fd6-49aa-4dc3-d642-30853d68f15d"
      },
      "execution_count": 15,
      "outputs": [
        {
          "output_type": "display_data",
          "data": {
            "text/plain": [
              "<Figure size 640x480 with 1 Axes>"
            ],
            "image/png": "[encoded data removed]"
          },
          "metadata": {}
        }
      ]
    },
    {
      "cell_type": "code",
      "source": [
        "torch.manual_seed(59)\n",
        "\n",
        "model = nn.Linear(in_features=1, out_features=1)\n",
        "print(model.weight)\n",
        "print(model.bias)"
      ],
      "metadata": {
        "colab": {
          "base_uri": "https://localhost:8080/"
        },
        "id": "B7VSrUYsmvY9",
        "outputId": "5a5d12ea-0063-4eb6-9485-eba3cc87a63b"
      },
      "execution_count": 16,
      "outputs": [
        {
          "output_type": "stream",
          "name": "stdout",
          "text": [
            "Parameter containing:\n",
            "tensor([[0.1060]], requires_grad=True)\n",
            "Parameter containing:\n",
            "tensor([0.9638], requires_grad=True)\n"
          ]
        }
      ]
    },
    {
      "cell_type": "code",
      "source": [
        "class Model(nn.Module):\n",
        "    def __init__(self, in_features, out_features):\n",
        "        super().__init__()\n",
        "        self.linear = nn.Linear(in_features, out_features)\n",
        "\n",
        "    def forward(self, x):\n",
        "        y_pred = self.linear(x)\n",
        "        return y_pred"
      ],
      "metadata": {
        "id": "xh6IJSvLmy3U"
      },
      "execution_count": 17,
      "outputs": []
    },
    {
      "cell_type": "code",
      "source": [
        "torch.manual_seed(59)\n",
        "model = Model(1, 1)\n",
        "print(model)\n",
        "print('Weight:', model.linear.weight.item())\n",
        "print('Bias:  ', model.linear.bias.item())"
      ],
      "metadata": {
        "colab": {
          "base_uri": "https://localhost:8080/"
        },
        "id": "dn2MeDT_m2Ki",
        "outputId": "e345b0e4-4c8d-44b0-e415-4b1f055908e6"
      },
      "execution_count": 18,
      "outputs": [
        {
          "output_type": "stream",
          "name": "stdout",
          "text": [
            "Model(\n",
            "  (linear): Linear(in_features=1, out_features=1, bias=True)\n",
            ")\n",
            "Weight: 0.10597813129425049\n",
            "Bias:   0.9637961387634277\n"
          ]
        }
      ]
    },
    {
      "cell_type": "code",
      "source": [
        "for name, param in model.named_parameters():\n",
        "    print(name, '\\t', param.item())"
      ],
      "metadata": {
        "colab": {
          "base_uri": "https://localhost:8080/"
        },
        "id": "R8dKhrMmm8bg",
        "outputId": "1d0c7d10-914a-4c3c-bc54-18153b5660ca"
      },
      "execution_count": 19,
      "outputs": [
        {
          "output_type": "stream",
          "name": "stdout",
          "text": [
            "linear.weight \t 0.10597813129425049\n",
            "linear.bias \t 0.9637961387634277\n"
          ]
        }
      ]
    },
    {
      "cell_type": "code",
      "source": [
        "x = torch.tensor([2.0])\n",
        "print(model.forward(x))   # equivalent to print(model(x))"
      ],
      "metadata": {
        "colab": {
          "base_uri": "https://localhost:8080/"
        },
        "id": "V_kbxI1lnDGV",
        "outputId": "a4a87432-8fcf-48b4-85b0-fed6d9b4cc12"
      },
      "execution_count": 20,
      "outputs": [
        {
          "output_type": "stream",
          "name": "stdout",
          "text": [
            "tensor([1.1758], grad_fn=<ViewBackward0>)\n"
          ]
        }
      ]
    },
    {
      "cell_type": "code",
      "source": [],
      "metadata": {
        "id": "lBv6xqC4nJ2v"
      },
      "execution_count": null,
      "outputs": []
    }
  ]
}