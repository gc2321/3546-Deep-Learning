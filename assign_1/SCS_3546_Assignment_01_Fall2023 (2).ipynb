{
  "cells": [
    {
      "cell_type": "markdown",
      "metadata": {
        "id": "C6OQBFpIHP30"
      },
      "source": [
        "# SCS 3546: Deep Learning\n",
        "> Assignment 1: Deep Learning Using Keras"
      ]
    },
    {
      "cell_type": "markdown",
      "metadata": {
        "id": "hzRpIFXzolmz"
      },
      "source": [
        "### Your name & student number:\n",
        "\n",
        "<pre> Gordon Chan </pre>\n",
        "\n",
        "<pre> qq525548 </pre>"
      ]
    },
    {
      "cell_type": "markdown",
      "metadata": {
        "id": "9aHEi-CRlKBb"
      },
      "source": [
        "## Assignment Description\n",
        "\n",
        "In this assignment you will demonstrate your ability to:\n",
        "\n",
        "- Train a neural network using Keras to solve a regression problem.\n",
        "\n",
        "- Perform sensible data preprocessing.\n",
        "\n",
        "- Experiment with hyperparemter tuning and different model architectures to achieve best performance.\n",
        "\n"
      ]
    },
    {
      "cell_type": "markdown",
      "metadata": {
        "id": "-OKLV1eJ12dy"
      },
      "source": [
        "### Grade Allocation\n",
        "\n",
        "**15 points total**\n",
        "\n",
        "- Part 1: 4 Marks\n",
        "- Part 2: 9 Marks\n",
        "- Clarity: 2 Marks\n",
        "\n",
        "The marks for clarity are awarded for code documentation and how well you explained/supported your answers, including the use of visualizations where appropriate."
      ]
    },
    {
      "cell_type": "code",
      "source": [
        "# OPTIONAL : For model evaluation and for those who choose to use the KerasRegressor from keras.wrappers, you would need to install tensorflow 2.12 or 2.11.another option is to use the scikeras.\n",
        "# please note that you may have many options and the below libraries are just meant to help you and to provide options\n",
        "\n",
        "# !pip install tensorflow==2.12\n",
        "# from keras.wrappers.scikit_learn import KerasRegressor\n",
        "\n",
        "# !pip install scikeras\n",
        "# from scikeras.wrappers import KerasClassifier, KerasRegressor\n"
      ],
      "metadata": {
        "id": "LUd8H6Ji_w16"
      },
      "execution_count": 2,
      "outputs": []
    },
    {
      "cell_type": "code",
      "execution_count": 3,
      "metadata": {
        "id": "ruXPP1zUT_B6"
      },
      "outputs": [],
      "source": [
        "# setting up the notebook with important libraries\n",
        "import tensorflow as tf\n",
        "from tensorflow import keras\n",
        "from keras.models import Sequential\n",
        "from keras.layers import Dense\n",
        "from sklearn.model_selection import cross_val_score\n",
        "from sklearn.model_selection import KFold\n",
        "from sklearn.preprocessing import StandardScaler\n",
        "from sklearn.pipeline import Pipeline"
      ]
    },
    {
      "cell_type": "markdown",
      "metadata": {
        "id": "Qn-eYs8MfGAQ"
      },
      "source": [
        "# Preamble\n",
        "\n",
        "### Hyperparameters\n",
        "\n",
        "A hyperparameter is a parameter whose value is set before the learning process begins.\n",
        "\n",
        "Some important Neural Networks hyperparameters include:\n",
        "\n",
        "- number of hidden layers\n",
        "- number of neurons\n",
        "- learning rate\n",
        "- activation function\n",
        "- optimizer settings\n",
        "\n",
        "Hyperparameters are crucial to the performance, speed, and quality of the machine learning models.\n",
        "\n",
        "Through Hyper parameter optimization, we find a tuple (best combination) of hyperparameters that yields an optimal model which minimizes a predefined loss function on given test data.\n",
        "\n",
        "Important hyperparameters that could be tuned include:\n",
        "\n",
        "- num_hidden_layers\n",
        "- neurons_per_layer\n",
        "- dropout_rate\n",
        "- activation\n",
        "- optimizer\n",
        "- learning_rate\n",
        "- batch_size\n",
        "\n",
        "### Loss Function\n",
        "\n",
        "- MSE (Mean Squared Error) is used as the score/loss function that will be minimized for hyperparameter optimization.\n",
        "- In this assignment, we are going to use Cross-Validation to calculate the score (MSE) for a given set of hyperparameter values\n",
        "\n",
        "- MSE is a desirable metric because by taking the square root gives us an error value we can directly understand in the context of the problem; for example, in this assignment it translates to thousands of dollars\n",
        "\n",
        "- Note: Your results may vary given the stochastic nature of the algorithm, evaluation procedure, or differences in numerical precision"
      ]
    },
    {
      "cell_type": "markdown",
      "metadata": {
        "id": "qs0FlcDeaSpi"
      },
      "source": [
        "## Dataset\n",
        "\n",
        "We will be using mock data for this assignment. the outcome is the sale price for some products. we have created 13 features to predict the sale price.\n",
        "\n",
        "- import provided mock data into your notebook.\n",
        "\n",
        "- You are **not** expected to perform Exploratory Data Analysis (EDA) on this dataset.\n",
        "\n",
        "- For the purpose of this assignment, your model's performance is not an important factor by itself - that is how far your sale price prediction is. The important factor is the changes that you observe when changing model architectures.\n",
        "\n",
        "- The information that follow are meant to be optional and to help you get familiar with the data. Your efforts on this assignment should focus on **model training and hyperparameter tuning**, not on EDA.\n"
      ]
    },
    {
      "cell_type": "markdown",
      "metadata": {
        "id": "iHL_GkQPoJE9"
      },
      "source": [
        "# Assignment Start\n",
        "***\n",
        "\n",
        "- Please follow all instructions carefully.\n",
        "\n",
        "- Use MSE (Mean Squared Error) as the score/loss function that will be minimized during optimization.\n",
        "\n",
        "\n",
        "\n",
        "\n",
        "\n",
        "\n"
      ]
    },
    {
      "cell_type": "code",
      "source": [],
      "metadata": {
        "id": "50_-6mCmWNHd"
      },
      "execution_count": null,
      "outputs": []
    },
    {
      "cell_type": "markdown",
      "metadata": {
        "id": "Ar6TpPmfeoDy"
      },
      "source": [
        "#Data Import\n",
        "\n",
        "The code below imports the data for you as dataframe, then you may need to convert it to numpy arrays.  "
      ]
    },
    {
      "cell_type": "code",
      "source": [
        "# You can use the code below to import the data\n",
        "\n",
        "# Option 3 - from local using the files that are available\n",
        "import pandas as pd\n",
        "\n",
        "# mount the colab\n",
        "from google.colab import drive\n",
        "drive.mount('/content/gdrive')\n"
      ],
      "metadata": {
        "colab": {
          "base_uri": "https://localhost:8080/"
        },
        "id": "DuK-rb0uwqw0",
        "outputId": "012778dc-f387-45c7-d72d-1926e1519fb8"
      },
      "execution_count": 22,
      "outputs": [
        {
          "output_type": "stream",
          "name": "stdout",
          "text": [
            "Drive already mounted at /content/gdrive; to attempt to forcibly remount, call drive.mount(\"/content/gdrive\", force_remount=True).\n"
          ]
        }
      ]
    },
    {
      "cell_type": "code",
      "source": [
        "dir = \"/content/gdrive/MyDrive/3546/assign_1/\"\n",
        "\n",
        "# Next, You need to upload tables to your G drive -  then you may need to update  paths below\n",
        "train_y = f\"{dir}/y_train.csv\"\n",
        "test_y = f\"{dir}/y_test.csv\"\n",
        "train_x = f\"{dir}/X_train.csv\"\n",
        "test_x = f\"{dir}/X_test.csv\"\n",
        "\n",
        "# load the  data into a pandas dataframe for easy viewing and manipulation\n",
        "y_train = pd.read_csv(train_y)\n",
        "y_test = pd.read_csv(test_y)\n",
        "X_train = pd.read_csv(train_x)\n",
        "X_test = pd.read_csv(test_x)\n"
      ],
      "metadata": {
        "id": "ROhwyw8T8PFx"
      },
      "execution_count": 40,
      "outputs": []
    },
    {
      "cell_type": "code",
      "source": [
        "y_train.isnull().sum(), y_test.isnull().sum(), X_train.isnull().sum(), X_test.isnull().sum()"
      ],
      "metadata": {
        "id": "0LaeTr_pyi9M",
        "colab": {
          "base_uri": "https://localhost:8080/"
        },
        "outputId": "f6d3b20e-806d-4a2f-c6a0-20c5f93ad542"
      },
      "execution_count": 41,
      "outputs": [
        {
          "output_type": "execute_result",
          "data": {
            "text/plain": [
              "(Unnamed: 0    0\n",
              " 0             0\n",
              " dtype: int64,\n",
              " Unnamed: 0    0\n",
              " 0             0\n",
              " dtype: int64,\n",
              " Unnamed: 0    0\n",
              " 0             0\n",
              " 1             0\n",
              " 2             0\n",
              " 3             0\n",
              " 4             0\n",
              " 5             0\n",
              " 6             0\n",
              " 7             0\n",
              " 8             0\n",
              " 9             0\n",
              " 10            0\n",
              " 11            0\n",
              " 12            0\n",
              " dtype: int64,\n",
              " Unnamed: 0    0\n",
              " 0             0\n",
              " 1             0\n",
              " 2             0\n",
              " 3             0\n",
              " 4             0\n",
              " 5             0\n",
              " 6             0\n",
              " 7             0\n",
              " 8             0\n",
              " 9             0\n",
              " 10            0\n",
              " 11            0\n",
              " 12            0\n",
              " dtype: int64)"
            ]
          },
          "metadata": {},
          "execution_count": 41
        }
      ]
    },
    {
      "cell_type": "code",
      "source": [
        "# Hint : to make it easier, you may try to standardize your data upfront\n",
        "\n",
        "from sklearn.preprocessing import MinMaxScaler\n",
        "scaler = MinMaxScaler()\n",
        "\n",
        "X_train = scaler.fit_transform(X_train)\n",
        "X_test = scaler.transform(X_test)"
      ],
      "metadata": {
        "id": "6PgAwae1wxpM"
      },
      "execution_count": 42,
      "outputs": []
    },
    {
      "cell_type": "code",
      "execution_count": null,
      "metadata": {
        "id": "Qi7E4sabEPCF"
      },
      "outputs": [],
      "source": []
    },
    {
      "cell_type": "markdown",
      "metadata": {
        "id": "sDl1bkKjbbGw"
      },
      "source": [
        "# Part 1: Impact of Changing Model Architecture\n",
        "\n",
        "In this section, we will be comparing a simple single-layer baseline model with two other models having a different network topology."
      ]
    },
    {
      "cell_type": "markdown",
      "metadata": {
        "id": "z82OOouVaVrt"
      },
      "source": [
        "## a) Baseline model [2 points]\n",
        "\n",
        "Use Keras to develop a baseline neural network model that has **one single fully-connected hidden layer with the same number of neurons as input features (i.e. 13 neurons).**\n",
        "\n",
        "Make sure to **standardize** your features (i.e. subtract mean and divide by standard deviation) before training your model. You can also perform any other data-preprocessing that you deem necessary.\n",
        "\n",
        "- Note: No activation function is used for the output layer because it is a regression problem and we are interested in predicting numerical values directly without transformation.\n",
        "\n",
        "- The ADAM optimization algorithm should be used to optimize mean squared error loss function.\n",
        "\n",
        "- Plot learning curves and report on both training and validation performance."
      ]
    },
    {
      "cell_type": "code",
      "source": [
        "# determine the number of features and number of rows of data\n",
        "X_train.shape"
      ],
      "metadata": {
        "colab": {
          "base_uri": "https://localhost:8080/"
        },
        "id": "8av9t9xu_Oqs",
        "outputId": "b139f0cc-2efd-412b-af2b-31890bc5b306"
      },
      "execution_count": 44,
      "outputs": [
        {
          "output_type": "execute_result",
          "data": {
            "text/plain": [
              "(404, 14)"
            ]
          },
          "metadata": {},
          "execution_count": 44
        }
      ]
    },
    {
      "cell_type": "code",
      "source": [
        "model = Sequential()\n",
        "\n",
        "# input is 14 features\n",
        "model.add(Dense(units=14,activation='relu'))\n",
        "# deep layer, fully connected\n",
        "model.add(Dense(units=14,activation='relu'))\n",
        "# output layer\n",
        "model.add(Dense(units=1))\n",
        "\n",
        "# use mse for regression, optimizer is ADAM\n",
        "model.compile(loss='mse', optimizer='adam')\n"
      ],
      "metadata": {
        "id": "_oYqMIcD_ZL4"
      },
      "execution_count": 55,
      "outputs": []
    },
    {
      "cell_type": "code",
      "source": [
        "model.fit(x=X_train, y=y_train, validation_data=(X_test, y_test), epochs=50,verbose=0)\n",
        "# set verbose to 0 to turn off log"
      ],
      "metadata": {
        "colab": {
          "base_uri": "https://localhost:8080/"
        },
        "id": "anMnKHMqASRt",
        "outputId": "0f72f99e-6e56-46b0-c479-7a85cfd2f03b"
      },
      "execution_count": 57,
      "outputs": [
        {
          "output_type": "stream",
          "name": "stdout",
          "text": [
            "Epoch 1/50\n",
            "13/13 [==============================] - 0s 19ms/step - loss: 18989.8281 - val_loss: 853.9077\n",
            "Epoch 2/50\n",
            "13/13 [==============================] - 0s 4ms/step - loss: 18200.6836 - val_loss: 1024.6864\n",
            "Epoch 3/50\n",
            "13/13 [==============================] - 0s 6ms/step - loss: 17508.1816 - val_loss: 1275.7334\n",
            "Epoch 4/50\n",
            "13/13 [==============================] - 0s 4ms/step - loss: 16864.0605 - val_loss: 1594.2887\n",
            "Epoch 5/50\n",
            "13/13 [==============================] - 0s 4ms/step - loss: 16326.6289 - val_loss: 1980.0098\n",
            "Epoch 6/50\n",
            "13/13 [==============================] - 0s 5ms/step - loss: 15854.7930 - val_loss: 2392.3574\n",
            "Epoch 7/50\n",
            "13/13 [==============================] - 0s 4ms/step - loss: 15495.0508 - val_loss: 2829.4185\n",
            "Epoch 8/50\n",
            "13/13 [==============================] - 0s 6ms/step - loss: 15210.1465 - val_loss: 3259.6355\n",
            "Epoch 9/50\n",
            "13/13 [==============================] - 0s 6ms/step - loss: 15011.5781 - val_loss: 3694.1094\n",
            "Epoch 10/50\n",
            "13/13 [==============================] - 0s 6ms/step - loss: 14859.8750 - val_loss: 4079.6755\n",
            "Epoch 11/50\n",
            "13/13 [==============================] - 0s 4ms/step - loss: 14756.7324 - val_loss: 4426.4414\n",
            "Epoch 12/50\n",
            "13/13 [==============================] - 0s 5ms/step - loss: 14677.8477 - val_loss: 4666.0303\n",
            "Epoch 13/50\n",
            "13/13 [==============================] - 0s 4ms/step - loss: 14623.7207 - val_loss: 4865.1484\n",
            "Epoch 14/50\n",
            "13/13 [==============================] - 0s 4ms/step - loss: 14584.4990 - val_loss: 5035.3799\n",
            "Epoch 15/50\n",
            "13/13 [==============================] - 0s 4ms/step - loss: 14557.8047 - val_loss: 5208.0142\n",
            "Epoch 16/50\n",
            "13/13 [==============================] - 0s 4ms/step - loss: 14526.9775 - val_loss: 5279.5415\n",
            "Epoch 17/50\n",
            "13/13 [==============================] - 0s 5ms/step - loss: 14506.8164 - val_loss: 5351.5742\n",
            "Epoch 18/50\n",
            "13/13 [==============================] - 0s 4ms/step - loss: 14478.4775 - val_loss: 5295.8706\n",
            "Epoch 19/50\n",
            "13/13 [==============================] - 0s 4ms/step - loss: 14456.5742 - val_loss: 5311.9590\n",
            "Epoch 20/50\n",
            "13/13 [==============================] - 0s 5ms/step - loss: 14433.4131 - val_loss: 5322.9229\n",
            "Epoch 21/50\n",
            "13/13 [==============================] - 0s 6ms/step - loss: 14410.6797 - val_loss: 5304.6064\n",
            "Epoch 22/50\n",
            "13/13 [==============================] - 0s 6ms/step - loss: 14389.8623 - val_loss: 5286.3750\n",
            "Epoch 23/50\n",
            "13/13 [==============================] - 0s 5ms/step - loss: 14365.6064 - val_loss: 5264.5293\n",
            "Epoch 24/50\n",
            "13/13 [==============================] - 0s 5ms/step - loss: 14343.3340 - val_loss: 5289.1807\n",
            "Epoch 25/50\n",
            "13/13 [==============================] - 0s 4ms/step - loss: 14321.1611 - val_loss: 5251.1577\n",
            "Epoch 26/50\n",
            "13/13 [==============================] - 0s 6ms/step - loss: 14300.6758 - val_loss: 5278.5200\n",
            "Epoch 27/50\n",
            "13/13 [==============================] - 0s 5ms/step - loss: 14275.5547 - val_loss: 5217.0962\n",
            "Epoch 28/50\n",
            "13/13 [==============================] - 0s 4ms/step - loss: 14253.5469 - val_loss: 5218.1367\n",
            "Epoch 29/50\n",
            "13/13 [==============================] - 0s 4ms/step - loss: 14230.6191 - val_loss: 5193.8613\n",
            "Epoch 30/50\n",
            "13/13 [==============================] - 0s 4ms/step - loss: 14208.7275 - val_loss: 5182.4424\n",
            "Epoch 31/50\n",
            "13/13 [==============================] - 0s 6ms/step - loss: 14186.6211 - val_loss: 5183.4155\n",
            "Epoch 32/50\n",
            "13/13 [==============================] - 0s 4ms/step - loss: 14164.2090 - val_loss: 5099.2437\n",
            "Epoch 33/50\n",
            "13/13 [==============================] - 0s 4ms/step - loss: 14140.8271 - val_loss: 5159.8511\n",
            "Epoch 34/50\n",
            "13/13 [==============================] - 0s 4ms/step - loss: 14115.9111 - val_loss: 5093.1216\n",
            "Epoch 35/50\n",
            "13/13 [==============================] - 0s 6ms/step - loss: 14092.2871 - val_loss: 5063.1421\n",
            "Epoch 36/50\n",
            "13/13 [==============================] - 0s 5ms/step - loss: 14068.3047 - val_loss: 5019.5469\n",
            "Epoch 37/50\n",
            "13/13 [==============================] - 0s 4ms/step - loss: 14043.5293 - val_loss: 5007.5054\n",
            "Epoch 38/50\n",
            "13/13 [==============================] - 0s 4ms/step - loss: 14019.1035 - val_loss: 4978.4731\n",
            "Epoch 39/50\n",
            "13/13 [==============================] - 0s 5ms/step - loss: 13994.4805 - val_loss: 4941.5498\n",
            "Epoch 40/50\n",
            "13/13 [==============================] - 0s 5ms/step - loss: 13969.1885 - val_loss: 4902.4214\n",
            "Epoch 41/50\n",
            "13/13 [==============================] - 0s 5ms/step - loss: 13944.1807 - val_loss: 4862.4741\n",
            "Epoch 42/50\n",
            "13/13 [==============================] - 0s 4ms/step - loss: 13918.9043 - val_loss: 4844.5488\n",
            "Epoch 43/50\n",
            "13/13 [==============================] - 0s 4ms/step - loss: 13892.1650 - val_loss: 4837.3926\n",
            "Epoch 44/50\n",
            "13/13 [==============================] - 0s 6ms/step - loss: 13866.9971 - val_loss: 4832.3325\n",
            "Epoch 45/50\n",
            "13/13 [==============================] - 0s 5ms/step - loss: 13840.2686 - val_loss: 4835.2402\n",
            "Epoch 46/50\n",
            "13/13 [==============================] - 0s 6ms/step - loss: 13814.6797 - val_loss: 4788.4731\n",
            "Epoch 47/50\n",
            "13/13 [==============================] - 0s 5ms/step - loss: 13789.3828 - val_loss: 4717.9634\n",
            "Epoch 48/50\n",
            "13/13 [==============================] - 0s 5ms/step - loss: 13761.9199 - val_loss: 4631.3975\n",
            "Epoch 49/50\n",
            "13/13 [==============================] - 0s 6ms/step - loss: 13735.3096 - val_loss: 4617.4380\n",
            "Epoch 50/50\n",
            "13/13 [==============================] - 0s 4ms/step - loss: 13709.3242 - val_loss: 4599.5244\n"
          ]
        },
        {
          "output_type": "execute_result",
          "data": {
            "text/plain": [
              "<keras.callbacks.History at 0x7b4cfd61de10>"
            ]
          },
          "metadata": {},
          "execution_count": 57
        }
      ]
    },
    {
      "cell_type": "code",
      "source": [
        "# plotting the loss and validation loss over training epochs.\n",
        "losses = pd.DataFrame(model.history.history)\n",
        "losses.plot()"
      ],
      "metadata": {
        "colab": {
          "base_uri": "https://localhost:8080/",
          "height": 468
        },
        "id": "1Vzu-GJ6CGtx",
        "outputId": "e0f17d92-2c7e-4a4b-c8a8-1bf45a1f047f"
      },
      "execution_count": 59,
      "outputs": [
        {
          "output_type": "execute_result",
          "data": {
            "text/plain": [
              "<Axes: >"
            ]
          },
          "metadata": {},
          "execution_count": 59
        },
        {
          "output_type": "display_data",
          "data": {
            "text/plain": [
              "<Figure size 640x480 with 1 Axes>"
            ],
            "image/png": "[encoded data removed]"
          },
          "metadata": {}
        }
      ]
    },
    {
      "cell_type": "markdown",
      "metadata": {
        "id": "2JimscX-Zb7T"
      },
      "source": [
        "## b) Deeper Network [1 point]\n",
        "\n",
        "Construct and evaluate a model with 2 dense layers having a smaller number of neurons (e.g. 16, 8)."
      ]
    },
    {
      "cell_type": "code",
      "execution_count": 60,
      "metadata": {
        "id": "ha6iU4_WKjJE"
      },
      "outputs": [],
      "source": [
        "model = Sequential()\n",
        "\n",
        "# input is 14 features\n",
        "model.add(Dense(units=14,activation='relu'))\n",
        "\n",
        "model.add(Dense(units=14,activation='relu'))\n",
        "model.add(Dense(units=7,activation='relu'))\n",
        "# output layer\n",
        "model.add(Dense(units=1))\n",
        "\n",
        "# use mse for regression, optimizer is ADAM\n",
        "model.compile(loss='mse', optimizer='adam')\n"
      ]
    },
    {
      "cell_type": "code",
      "source": [
        "model.fit(x=X_train, y=y_train, validation_data=(X_test, y_test), epochs=50, verbose=0)\n",
        "\n",
        "losses = pd.DataFrame(model.history.history)\n",
        "losses.plot()"
      ],
      "metadata": {
        "colab": {
          "base_uri": "https://localhost:8080/",
          "height": 1000
        },
        "id": "u6dUU2_wDMuU",
        "outputId": "0728895b-36c2-4d77-aca1-97656d47d6bc"
      },
      "execution_count": 61,
      "outputs": [
        {
          "output_type": "stream",
          "name": "stdout",
          "text": [
            "Epoch 1/50\n",
            "13/13 [==============================] - 2s 29ms/step - loss: 27423.1777 - val_loss: 2020.0613\n",
            "Epoch 2/50\n",
            "13/13 [==============================] - 0s 7ms/step - loss: 27392.7891 - val_loss: 2011.4281\n",
            "Epoch 3/50\n",
            "13/13 [==============================] - 0s 7ms/step - loss: 27366.4707 - val_loss: 2003.3087\n",
            "Epoch 4/50\n",
            "13/13 [==============================] - 0s 5ms/step - loss: 27338.8516 - val_loss: 1993.4349\n",
            "Epoch 5/50\n",
            "13/13 [==============================] - 0s 4ms/step - loss: 27300.8809 - val_loss: 1978.9191\n",
            "Epoch 6/50\n",
            "13/13 [==============================] - 0s 5ms/step - loss: 27240.7617 - val_loss: 1954.3514\n",
            "Epoch 7/50\n",
            "13/13 [==============================] - 0s 5ms/step - loss: 27140.8340 - val_loss: 1915.2203\n",
            "Epoch 8/50\n",
            "13/13 [==============================] - 0s 4ms/step - loss: 26993.9785 - val_loss: 1861.8864\n",
            "Epoch 9/50\n",
            "13/13 [==============================] - 0s 6ms/step - loss: 26795.4375 - val_loss: 1790.0780\n",
            "Epoch 10/50\n",
            "13/13 [==============================] - 0s 6ms/step - loss: 26520.0820 - val_loss: 1694.7249\n",
            "Epoch 11/50\n",
            "13/13 [==============================] - 0s 4ms/step - loss: 26135.3184 - val_loss: 1570.4867\n",
            "Epoch 12/50\n",
            "13/13 [==============================] - 0s 4ms/step - loss: 25623.0723 - val_loss: 1415.3514\n",
            "Epoch 13/50\n",
            "13/13 [==============================] - 0s 5ms/step - loss: 24966.3418 - val_loss: 1236.8364\n",
            "Epoch 14/50\n",
            "13/13 [==============================] - 0s 4ms/step - loss: 24132.9609 - val_loss: 1051.7400\n",
            "Epoch 15/50\n",
            "13/13 [==============================] - 0s 5ms/step - loss: 23170.8613 - val_loss: 878.9164\n",
            "Epoch 16/50\n",
            "13/13 [==============================] - 0s 4ms/step - loss: 22028.2188 - val_loss: 759.5063\n",
            "Epoch 17/50\n",
            "13/13 [==============================] - 0s 4ms/step - loss: 20831.2129 - val_loss: 735.0397\n",
            "Epoch 18/50\n",
            "13/13 [==============================] - 0s 4ms/step - loss: 19566.6055 - val_loss: 858.3452\n",
            "Epoch 19/50\n",
            "13/13 [==============================] - 0s 6ms/step - loss: 18332.4883 - val_loss: 1174.3508\n",
            "Epoch 20/50\n",
            "13/13 [==============================] - 0s 6ms/step - loss: 17230.2305 - val_loss: 1712.1188\n",
            "Epoch 21/50\n",
            "13/13 [==============================] - 0s 6ms/step - loss: 16310.8789 - val_loss: 2452.2737\n",
            "Epoch 22/50\n",
            "13/13 [==============================] - 0s 6ms/step - loss: 15646.1885 - val_loss: 3297.3914\n",
            "Epoch 23/50\n",
            "13/13 [==============================] - 0s 5ms/step - loss: 15222.3838 - val_loss: 4109.3569\n",
            "Epoch 24/50\n",
            "13/13 [==============================] - 0s 6ms/step - loss: 15002.8506 - val_loss: 4815.5166\n",
            "Epoch 25/50\n",
            "13/13 [==============================] - 0s 6ms/step - loss: 14873.1211 - val_loss: 5224.7588\n",
            "Epoch 26/50\n",
            "13/13 [==============================] - 0s 4ms/step - loss: 14819.9658 - val_loss: 5496.8081\n",
            "Epoch 27/50\n",
            "13/13 [==============================] - 0s 5ms/step - loss: 14776.5635 - val_loss: 5550.5200\n",
            "Epoch 28/50\n",
            "13/13 [==============================] - 0s 6ms/step - loss: 14743.4580 - val_loss: 5632.3706\n",
            "Epoch 29/50\n",
            "13/13 [==============================] - 0s 6ms/step - loss: 14711.2080 - val_loss: 5674.2949\n",
            "Epoch 30/50\n",
            "13/13 [==============================] - 0s 4ms/step - loss: 14675.2207 - val_loss: 5603.8311\n",
            "Epoch 31/50\n",
            "13/13 [==============================] - 0s 5ms/step - loss: 14642.7236 - val_loss: 5588.1846\n",
            "Epoch 32/50\n",
            "13/13 [==============================] - 0s 4ms/step - loss: 14609.5371 - val_loss: 5595.3555\n",
            "Epoch 33/50\n",
            "13/13 [==============================] - 0s 6ms/step - loss: 14574.4453 - val_loss: 5533.5562\n",
            "Epoch 34/50\n",
            "13/13 [==============================] - 0s 4ms/step - loss: 14540.8066 - val_loss: 5473.7070\n",
            "Epoch 35/50\n",
            "13/13 [==============================] - 0s 4ms/step - loss: 14503.8975 - val_loss: 5500.1929\n",
            "Epoch 36/50\n",
            "13/13 [==============================] - 0s 4ms/step - loss: 14469.6387 - val_loss: 5476.7568\n",
            "Epoch 37/50\n",
            "13/13 [==============================] - 0s 4ms/step - loss: 14431.8643 - val_loss: 5396.7114\n",
            "Epoch 38/50\n",
            "13/13 [==============================] - 0s 5ms/step - loss: 14396.9678 - val_loss: 5311.7158\n",
            "Epoch 39/50\n",
            "13/13 [==============================] - 0s 6ms/step - loss: 14359.1807 - val_loss: 5274.2305\n",
            "Epoch 40/50\n",
            "13/13 [==============================] - 0s 5ms/step - loss: 14322.5605 - val_loss: 5282.9736\n",
            "Epoch 41/50\n",
            "13/13 [==============================] - 0s 5ms/step - loss: 14285.0645 - val_loss: 5211.2373\n",
            "Epoch 42/50\n",
            "13/13 [==============================] - 0s 4ms/step - loss: 14249.2783 - val_loss: 5156.9336\n",
            "Epoch 43/50\n",
            "13/13 [==============================] - 0s 6ms/step - loss: 14209.4014 - val_loss: 5298.1328\n",
            "Epoch 44/50\n",
            "13/13 [==============================] - 0s 6ms/step - loss: 14173.7441 - val_loss: 5196.2563\n",
            "Epoch 45/50\n",
            "13/13 [==============================] - 0s 4ms/step - loss: 14138.5732 - val_loss: 5187.4585\n",
            "Epoch 46/50\n",
            "13/13 [==============================] - 0s 5ms/step - loss: 14100.1152 - val_loss: 5029.9424\n",
            "Epoch 47/50\n",
            "13/13 [==============================] - 0s 4ms/step - loss: 14070.3467 - val_loss: 5088.5015\n",
            "Epoch 48/50\n",
            "13/13 [==============================] - 0s 4ms/step - loss: 14026.9023 - val_loss: 4934.1577\n",
            "Epoch 49/50\n",
            "13/13 [==============================] - 0s 5ms/step - loss: 13988.4336 - val_loss: 4880.6582\n",
            "Epoch 50/50\n",
            "13/13 [==============================] - 0s 4ms/step - loss: 13950.2354 - val_loss: 4904.0449\n"
          ]
        },
        {
          "output_type": "execute_result",
          "data": {
            "text/plain": [
              "<Axes: >"
            ]
          },
          "metadata": {},
          "execution_count": 61
        },
        {
          "output_type": "display_data",
          "data": {
            "text/plain": [
              "<Figure size 640x480 with 1 Axes>"
            ],
            "image/png": "[encoded data removed]"
          },
          "metadata": {}
        }
      ]
    },
    {
      "cell_type": "markdown",
      "metadata": {
        "id": "2f0v_F7DZoAx"
      },
      "source": [
        "## c) Wider Network [1 point]\n",
        "\n",
        "Construct and evaluate a wider model with more neurons (e.g. 32, 16)."
      ]
    },
    {
      "cell_type": "code",
      "execution_count": 64,
      "metadata": {
        "id": "B9W6c2mxKhWA"
      },
      "outputs": [],
      "source": [
        "model = Sequential()\n",
        "\n",
        "# input is 14 features\n",
        "model.add(Dense(units=14,activation='relu'))\n",
        "\n",
        "model.add(Dense(units=28,activation='relu'))\n",
        "model.add(Dense(units=14,activation='relu'))\n",
        "# output layer\n",
        "model.add(Dense(units=1))\n",
        "\n",
        "# use mse for regression, optimizer is ADAM\n",
        "model.compile(loss='mse', optimizer='adam')\n"
      ]
    },
    {
      "cell_type": "code",
      "source": [
        "model.fit(x=X_train, y=y_train, validation_data=(X_test, y_test), epochs=50, verbose=0)\n",
        "\n",
        "losses = pd.DataFrame(model.history.history)\n",
        "losses.plot()"
      ],
      "metadata": {
        "colab": {
          "base_uri": "https://localhost:8080/",
          "height": 1000
        },
        "id": "ExgzcMV7Ey5E",
        "outputId": "999ebc72-2319-4034-bc07-4a3442627c64"
      },
      "execution_count": 63,
      "outputs": [
        {
          "output_type": "stream",
          "name": "stdout",
          "text": [
            "Epoch 1/50\n",
            "13/13 [==============================] - 1s 17ms/step - loss: 27402.7578 - val_loss: 2013.3521\n",
            "Epoch 2/50\n",
            "13/13 [==============================] - 0s 4ms/step - loss: 27372.9609 - val_loss: 2003.2174\n",
            "Epoch 3/50\n",
            "13/13 [==============================] - 0s 6ms/step - loss: 27337.5098 - val_loss: 1988.4747\n",
            "Epoch 4/50\n",
            "13/13 [==============================] - 0s 6ms/step - loss: 27283.4609 - val_loss: 1963.3484\n",
            "Epoch 5/50\n",
            "13/13 [==============================] - 0s 5ms/step - loss: 27191.2812 - val_loss: 1922.2379\n",
            "Epoch 6/50\n",
            "13/13 [==============================] - 0s 5ms/step - loss: 27034.2012 - val_loss: 1856.1522\n",
            "Epoch 7/50\n",
            "13/13 [==============================] - 0s 6ms/step - loss: 26781.5801 - val_loss: 1755.1997\n",
            "Epoch 8/50\n",
            "13/13 [==============================] - 0s 6ms/step - loss: 26383.7051 - val_loss: 1610.7783\n",
            "Epoch 9/50\n",
            "13/13 [==============================] - 0s 5ms/step - loss: 25790.1504 - val_loss: 1418.5876\n",
            "Epoch 10/50\n",
            "13/13 [==============================] - 0s 5ms/step - loss: 24961.1113 - val_loss: 1186.1136\n",
            "Epoch 11/50\n",
            "13/13 [==============================] - 0s 5ms/step - loss: 23828.9551 - val_loss: 944.8696\n",
            "Epoch 12/50\n",
            "13/13 [==============================] - 0s 5ms/step - loss: 22434.7559 - val_loss: 760.7245\n",
            "Epoch 13/50\n",
            "13/13 [==============================] - 0s 6ms/step - loss: 20784.3457 - val_loss: 754.4933\n",
            "Epoch 14/50\n",
            "13/13 [==============================] - 0s 6ms/step - loss: 19038.3379 - val_loss: 1079.9821\n",
            "Epoch 15/50\n",
            "13/13 [==============================] - 0s 4ms/step - loss: 17343.0391 - val_loss: 1872.6143\n",
            "Epoch 16/50\n",
            "13/13 [==============================] - 0s 6ms/step - loss: 16084.6250 - val_loss: 3218.4338\n",
            "Epoch 17/50\n",
            "13/13 [==============================] - 0s 6ms/step - loss: 15242.2510 - val_loss: 4628.1074\n",
            "Epoch 18/50\n",
            "13/13 [==============================] - 0s 5ms/step - loss: 14911.6104 - val_loss: 5601.4126\n",
            "Epoch 19/50\n",
            "13/13 [==============================] - 0s 5ms/step - loss: 14848.2471 - val_loss: 6171.1567\n",
            "Epoch 20/50\n",
            "13/13 [==============================] - 0s 4ms/step - loss: 14785.3506 - val_loss: 6058.4023\n",
            "Epoch 21/50\n",
            "13/13 [==============================] - 0s 6ms/step - loss: 14716.6221 - val_loss: 5828.4521\n",
            "Epoch 22/50\n",
            "13/13 [==============================] - 0s 5ms/step - loss: 14647.5127 - val_loss: 5644.0430\n",
            "Epoch 23/50\n",
            "13/13 [==============================] - 0s 5ms/step - loss: 14583.1904 - val_loss: 5622.4561\n",
            "Epoch 24/50\n",
            "13/13 [==============================] - 0s 5ms/step - loss: 14514.4658 - val_loss: 5514.3838\n",
            "Epoch 25/50\n",
            "13/13 [==============================] - 0s 4ms/step - loss: 14449.1777 - val_loss: 5495.9536\n",
            "Epoch 26/50\n",
            "13/13 [==============================] - 0s 4ms/step - loss: 14385.0039 - val_loss: 5538.0454\n",
            "Epoch 27/50\n",
            "13/13 [==============================] - 0s 5ms/step - loss: 14321.7490 - val_loss: 5349.2046\n",
            "Epoch 28/50\n",
            "13/13 [==============================] - 0s 5ms/step - loss: 14256.7949 - val_loss: 5399.9570\n",
            "Epoch 29/50\n",
            "13/13 [==============================] - 0s 4ms/step - loss: 14198.2305 - val_loss: 5267.4131\n",
            "Epoch 30/50\n",
            "13/13 [==============================] - 0s 4ms/step - loss: 14136.2344 - val_loss: 5174.5581\n",
            "Epoch 31/50\n",
            "13/13 [==============================] - 0s 4ms/step - loss: 14078.9844 - val_loss: 5093.9819\n",
            "Epoch 32/50\n",
            "13/13 [==============================] - 0s 4ms/step - loss: 14020.7783 - val_loss: 5014.0957\n",
            "Epoch 33/50\n",
            "13/13 [==============================] - 0s 6ms/step - loss: 13961.7979 - val_loss: 4965.1802\n",
            "Epoch 34/50\n",
            "13/13 [==============================] - 0s 4ms/step - loss: 13907.7900 - val_loss: 5086.4146\n",
            "Epoch 35/50\n",
            "13/13 [==============================] - 0s 5ms/step - loss: 13848.6729 - val_loss: 4963.9487\n",
            "Epoch 36/50\n",
            "13/13 [==============================] - 0s 4ms/step - loss: 13790.7031 - val_loss: 4775.2461\n",
            "Epoch 37/50\n",
            "13/13 [==============================] - 0s 6ms/step - loss: 13739.0176 - val_loss: 4568.6494\n",
            "Epoch 38/50\n",
            "13/13 [==============================] - 0s 4ms/step - loss: 13681.6494 - val_loss: 4709.8633\n",
            "Epoch 39/50\n",
            "13/13 [==============================] - 0s 5ms/step - loss: 13623.4199 - val_loss: 4509.9170\n",
            "Epoch 40/50\n",
            "13/13 [==============================] - 0s 7ms/step - loss: 13565.8936 - val_loss: 4369.8047\n",
            "Epoch 41/50\n",
            "13/13 [==============================] - 0s 7ms/step - loss: 13505.7949 - val_loss: 4451.4429\n",
            "Epoch 42/50\n",
            "13/13 [==============================] - 0s 8ms/step - loss: 13446.6748 - val_loss: 4236.9595\n",
            "Epoch 43/50\n",
            "13/13 [==============================] - 0s 9ms/step - loss: 13386.9131 - val_loss: 4078.7905\n",
            "Epoch 44/50\n",
            "13/13 [==============================] - 0s 8ms/step - loss: 13324.1914 - val_loss: 4061.5525\n",
            "Epoch 45/50\n",
            "13/13 [==============================] - 0s 8ms/step - loss: 13261.4590 - val_loss: 3960.6309\n",
            "Epoch 46/50\n",
            "13/13 [==============================] - 0s 6ms/step - loss: 13196.7949 - val_loss: 3845.7322\n",
            "Epoch 47/50\n",
            "13/13 [==============================] - 0s 6ms/step - loss: 13132.9072 - val_loss: 3686.4170\n",
            "Epoch 48/50\n",
            "13/13 [==============================] - 0s 7ms/step - loss: 13066.6025 - val_loss: 3505.1548\n",
            "Epoch 49/50\n",
            "13/13 [==============================] - 0s 7ms/step - loss: 12995.4482 - val_loss: 3477.5508\n",
            "Epoch 50/50\n",
            "13/13 [==============================] - 0s 8ms/step - loss: 12934.9316 - val_loss: 3380.7151\n"
          ]
        },
        {
          "output_type": "execute_result",
          "data": {
            "text/plain": [
              "<Axes: >"
            ]
          },
          "metadata": {},
          "execution_count": 63
        },
        {
          "output_type": "display_data",
          "data": {
            "text/plain": [
              "<Figure size 640x480 with 1 Axes>"
            ],
            "image/png": "[encoded data removed]"
          },
          "metadata": {}
        }
      ]
    },
    {
      "cell_type": "markdown",
      "metadata": {
        "id": "UfdE-QPBrOpl"
      },
      "source": [
        "# Part 2: Hyperparameter Tuning Experiments\n",
        "\n",
        "In the following experiments, you will evaluate and compare models trained with different hyperparameters. Please follow the specifications given for each model."
      ]
    },
    {
      "cell_type": "markdown",
      "metadata": {
        "id": "zXsONE-iwyEZ"
      },
      "source": [
        "## a) Model 1 [2 points]\n",
        "\n",
        "- 2 Dense layers:\n",
        "  - The first with 64 neurons using a ReLU activation function.\n",
        "  - The second with 64 neurons using a ReLU activation function.\n",
        "- Choose an appropriate output layer and activation.\n",
        "- Train model with 100 epochs and obtain cross-validated performance (e.g. with 3 cross-folds).\n",
        "- Plot both loss and mean absolute error (i.e. learning curves) for both training and validation.\n",
        "- Report MAE from CV with standard deviation."
      ]
    },
    {
      "cell_type": "code",
      "execution_count": 70,
      "metadata": {
        "id": "dE-0BhtjM6Fn"
      },
      "outputs": [],
      "source": [
        "def create_model():\n",
        "  model = Sequential()\n",
        "\n",
        "  # input is 14 features\n",
        "  model.add(Dense(units=14,activation='relu'))\n",
        "\n",
        "  model.add(Dense(units=64,activation='relu'))\n",
        "  model.add(Dense(units=64,activation='relu'))\n",
        "  # output layer\n",
        "  model.add(Dense(units=1))\n",
        "\n",
        "  # use mse for regression, optimizer is ADAM\n",
        "  model.compile(loss='mse', optimizer='adam')\n",
        "\n",
        "  return model\n"
      ]
    },
    {
      "cell_type": "code",
      "source": [
        "from sklearn.model_selection import KFold\n",
        "\n",
        "# Initialize KFold with 3 fold validation\n",
        "kf = KFold(n_splits=3, shuffle=True, random_state=42)\n",
        "\n",
        "# To store the history of each fold\n",
        "histories = []\n"
      ],
      "metadata": {
        "id": "5WNa_vBqHFl6"
      },
      "execution_count": 75,
      "outputs": []
    },
    {
      "source": [
        "# Convert X_train to a DataFrame\n",
        "X_train_df = pd.DataFrame(X_train)\n",
        "\n",
        "# KFold cross-validation\n",
        "for train_index, val_index in kf.split(X_train_df):\n",
        "    X_train_fold, X_val_fold = X_train_df.iloc[train_index], X_train_df.iloc[val_index]\n",
        "    y_train_fold, y_val_fold = y_train.iloc[train_index], y_train.iloc[val_index]\n",
        "\n",
        "    model = create_model()  # Create a new instance of the model\n",
        "\n",
        "    history = model.fit(X_train_fold, y_train_fold,\n",
        "                        validation_data=(X_val_fold, y_val_fold),\n",
        "                        epochs=100, verbose=0)  # Set verbose=0 to disable log\n",
        "\n",
        "    histories.append(pd.DataFrame(history.history))\n",
        "\n",
        "# Concatenate all histories into a single DataFrame\n",
        "combined_history = pd.concat(histories, ignore_index=True)\n",
        "\n",
        "# Plot the training and validation losses\n",
        "combined_history[['loss', 'val_loss']].plot()"
      ],
      "cell_type": "code",
      "metadata": {
        "id": "-UkMOuEkJJva",
        "outputId": "aaef6ddd-62a8-41fc-a179-a15e54f878bc",
        "colab": {
          "base_uri": "https://localhost:8080/",
          "height": 468
        }
      },
      "execution_count": 74,
      "outputs": [
        {
          "output_type": "execute_result",
          "data": {
            "text/plain": [
              "<Axes: >"
            ]
          },
          "metadata": {},
          "execution_count": 74
        },
        {
          "output_type": "display_data",
          "data": {
            "text/plain": [
              "<Figure size 640x480 with 1 Axes>"
            ],
            "image/png": "[encoded data removed]"
          },
          "metadata": {}
        }
      ]
    },
    {
      "cell_type": "code",
      "source": [
        "# rebuild model with the same configuration and validate with test data\n",
        "model = Sequential()\n",
        "\n",
        "# input is 14 features\n",
        "model.add(Dense(units=14,activation='relu'))\n",
        "\n",
        "model.add(Dense(units=64,activation='relu'))\n",
        "model.add(Dense(units=64,activation='relu'))\n",
        "# output layer\n",
        "model.add(Dense(units=1))\n",
        "\n",
        "# use mse for regression, optimizer is ADAM\n",
        "model.compile(loss='mse', optimizer='adam')\n",
        "\n",
        "model.fit(x=X_train, y=y_train, validation_data=(X_test, y_test), epochs=100, verbose=0)\n",
        "\n",
        "losses = pd.DataFrame(model.history.history)\n",
        "losses.plot()"
      ],
      "metadata": {
        "id": "Z80MKhDeJ0gq",
        "outputId": "dbd80285-9e3d-49e8-beb2-7fa28db7484f",
        "colab": {
          "base_uri": "https://localhost:8080/",
          "height": 468
        }
      },
      "execution_count": 77,
      "outputs": [
        {
          "output_type": "execute_result",
          "data": {
            "text/plain": [
              "<Axes: >"
            ]
          },
          "metadata": {},
          "execution_count": 77
        },
        {
          "output_type": "display_data",
          "data": {
            "text/plain": [
              "<Figure size 640x480 with 1 Axes>"
            ],
            "image/png": "[encoded data removed]"
          },
          "metadata": {}
        }
      ]
    },
    {
      "cell_type": "markdown",
      "metadata": {
        "id": "zYsP54_x2ixg"
      },
      "source": [
        "## b) Model 2 [2 points]\n",
        "\n",
        "- 2 Dense layers:\n",
        "  - The first with 128 neurons using a ReLU activation function.\n",
        "  - The second with 64 neurons using a ReLU activation function.\n",
        "- Choose an appropriate output layer and activation.\n",
        "- Train model with 100 epochs and obtain cross-validated performance (e.g. with 3 cross-folds).\n",
        "- Plot both loss and mean absolute error (i.e. learning curves) for both training and validation.\n",
        "- Report MAE from CV with standard deviation."
      ]
    },
    {
      "cell_type": "code",
      "execution_count": null,
      "metadata": {
        "id": "XklV0uGENLsw"
      },
      "outputs": [],
      "source": [
        "# your code here, use as many cells as you need\n",
        "\n",
        "# be sure to comment on your results for each and every question, describing not just\n",
        "# the what, but the 'how' and 'why' where possible, to demonstrate your understanding of\n",
        "# course content"
      ]
    },
    {
      "cell_type": "markdown",
      "metadata": {
        "id": "30A0lCy74RKe"
      },
      "source": [
        "## c) Model 3 [2 points]\n",
        "\n",
        "- Same as Model 2, but use tanh activation functions instead of relu."
      ]
    },
    {
      "cell_type": "code",
      "execution_count": null,
      "metadata": {
        "id": "UNpDFL2FNi1C"
      },
      "outputs": [],
      "source": [
        "# your code here, use as many cells as you need\n",
        "\n",
        "# be sure to comment on your results for each and every question, describing not just\n",
        "# the what, but the 'how' and 'why' where possible, to demonstrate your understanding of\n",
        "# course content"
      ]
    },
    {
      "cell_type": "markdown",
      "metadata": {
        "id": "hWXgQ1RzzPf7"
      },
      "source": [
        "## d) Model 4 [2 points]\n",
        "\n",
        "- Same as Model 2, but use the rmsprop optimizer when training."
      ]
    },
    {
      "cell_type": "code",
      "execution_count": null,
      "metadata": {
        "id": "KgtE3hhxN2oj"
      },
      "outputs": [],
      "source": [
        "# your code here, use as many cells as you need\n",
        "\n",
        "# be sure to comment on your results for each and every question, describing not just\n",
        "# the what, but the 'how' and 'why' where possible, to demonstrate your understanding of\n",
        "# course content"
      ]
    },
    {
      "cell_type": "markdown",
      "metadata": {
        "id": "8_d0KCd-zdcb"
      },
      "source": [
        "## e) Model Comparison [1 point]\n",
        "\n",
        "Which model performed best? Offer your thoughts on why the particular choice of hyperparameters led to improved performance for this model."
      ]
    },
    {
      "cell_type": "code",
      "execution_count": null,
      "metadata": {
        "id": "LBKbdEwR0EcD"
      },
      "outputs": [],
      "source": [
        "# explain WHY you think the best model was better than the rest, in terms\n",
        "# of how those hyperparameters theoretically impact the model\n",
        "\n",
        "# provide visualizations (e.g. tables or comparison plot) to support your response where possible"
      ]
    },
    {
      "cell_type": "markdown",
      "metadata": {
        "id": "7U2qAmO01FtC"
      },
      "source": [
        "NOTE: 2 additional points are awarded based on code documentation and overall clarity of work."
      ]
    },
    {
      "cell_type": "code",
      "execution_count": null,
      "metadata": {
        "id": "a25KyERpPjC0"
      },
      "outputs": [],
      "source": [
        "# We are looking for a clear explanation of results with each response. We want you to attempt to\n",
        "# explain the _how_ and _why_ behind your answers, and not just the what, do demonstrate\n",
        "# your knowledge of the concepts discussed in class. Answers should be backed up with\n",
        "# visualizations (e.g. plots, charts).\n",
        "\n",
        "# Code should be easy to follow by using sensical naming conventions for function and variable\n",
        "# names, providing useful code comments, and refactoring repeated code into re-usable functions."
      ]
    }
  ],
  "metadata": {
    "colab": {
      "provenance": []
    },
    "kernelspec": {
      "display_name": "Python 3",
      "name": "python3"
    },
    "language_info": {
      "name": "python"
    }
  },
  "nbformat": 4,
  "nbformat_minor": 0
}