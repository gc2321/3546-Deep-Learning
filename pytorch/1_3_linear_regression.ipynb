{
  "nbformat": 4,
  "nbformat_minor": 0,
  "metadata": {
    "colab": {
      "provenance": [],
      "authorship_tag": "ABX9TyNUAkNoPMyjwQl53kfQnSHi",
      "include_colab_link": true
    },
    "kernelspec": {
      "name": "python3",
      "display_name": "Python 3"
    },
    "language_info": {
      "name": "python"
    }
  },
  "cells": [
    {
      "cell_type": "markdown",
      "metadata": {
        "id": "view-in-github",
        "colab_type": "text"
      },
      "source": [
        "<a href=\"https://colab.research.google.com/github/gc2321/3546-Deep-Learning/blob/main/pytorch/3_linear_regression.ipynb\" target=\"_parent\"><img src=\"https://colab.research.google.com/assets/colab-badge.svg\" alt=\"Open In Colab\"/></a>"
      ]
    },
    {
      "cell_type": "code",
      "execution_count": 1,
      "metadata": {
        "id": "OziT1vTBlMfo"
      },
      "outputs": [],
      "source": [
        "import torch\n",
        "import torch.nn as nn  # we'll use this a lot going forward!\n",
        "\n",
        "import numpy as np\n",
        "import matplotlib.pyplot as plt"
      ]
    },
    {
      "cell_type": "code",
      "source": [
        "torch.cuda.is_available()"
      ],
      "metadata": {
        "colab": {
          "base_uri": "https://localhost:8080/"
        },
        "id": "dhSQTukRlhTn",
        "outputId": "63dd4841-8a09-41d4-d22d-a7cef5e34374"
      },
      "execution_count": 2,
      "outputs": [
        {
          "output_type": "execute_result",
          "data": {
            "text/plain": [
              "False"
            ]
          },
          "metadata": {},
          "execution_count": 2
        }
      ]
    },
    {
      "cell_type": "code",
      "source": [
        "#torch.cuda.current_device()"
      ],
      "metadata": {
        "id": "xKBo5YIXlm1H"
      },
      "execution_count": 3,
      "outputs": []
    },
    {
      "cell_type": "code",
      "source": [
        "#torch.cuda.get_device_name(0)"
      ],
      "metadata": {
        "id": "L8_esRoPlqL1"
      },
      "execution_count": 4,
      "outputs": []
    },
    {
      "cell_type": "code",
      "source": [
        "#torch.cuda.memory_allocated()"
      ],
      "metadata": {
        "id": "gLUDmgq_lv8q"
      },
      "execution_count": 5,
      "outputs": []
    },
    {
      "cell_type": "code",
      "source": [
        "#torch.cuda.memory_cached()"
      ],
      "metadata": {
        "id": "W6ioJTYElyjF"
      },
      "execution_count": 6,
      "outputs": []
    },
    {
      "cell_type": "code",
      "source": [
        "X = torch.linspace(1,50,50).reshape(-1,1)"
      ],
      "metadata": {
        "id": "BbwtqdT-mFIT"
      },
      "execution_count": 7,
      "outputs": []
    },
    {
      "cell_type": "code",
      "source": [
        "X"
      ],
      "metadata": {
        "colab": {
          "base_uri": "https://localhost:8080/"
        },
        "id": "qX9R5ugsmW4x",
        "outputId": "220c49de-fe0e-4468-ce07-fadec695e235"
      },
      "execution_count": 8,
      "outputs": [
        {
          "output_type": "execute_result",
          "data": {
            "text/plain": [
              "tensor([[ 1.],\n",
              "        [ 2.],\n",
              "        [ 3.],\n",
              "        [ 4.],\n",
              "        [ 5.],\n",
              "        [ 6.],\n",
              "        [ 7.],\n",
              "        [ 8.],\n",
              "        [ 9.],\n",
              "        [10.],\n",
              "        [11.],\n",
              "        [12.],\n",
              "        [13.],\n",
              "        [14.],\n",
              "        [15.],\n",
              "        [16.],\n",
              "        [17.],\n",
              "        [18.],\n",
              "        [19.],\n",
              "        [20.],\n",
              "        [21.],\n",
              "        [22.],\n",
              "        [23.],\n",
              "        [24.],\n",
              "        [25.],\n",
              "        [26.],\n",
              "        [27.],\n",
              "        [28.],\n",
              "        [29.],\n",
              "        [30.],\n",
              "        [31.],\n",
              "        [32.],\n",
              "        [33.],\n",
              "        [34.],\n",
              "        [35.],\n",
              "        [36.],\n",
              "        [37.],\n",
              "        [38.],\n",
              "        [39.],\n",
              "        [40.],\n",
              "        [41.],\n",
              "        [42.],\n",
              "        [43.],\n",
              "        [44.],\n",
              "        [45.],\n",
              "        [46.],\n",
              "        [47.],\n",
              "        [48.],\n",
              "        [49.],\n",
              "        [50.]])"
            ]
          },
          "metadata": {},
          "execution_count": 8
        }
      ]
    },
    {
      "cell_type": "code",
      "source": [
        "torch.manual_seed(71) # to obtain reproducible results\n",
        "e = torch.randint(-8,9,(50,1),dtype=torch.float)\n",
        "print(e.sum())"
      ],
      "metadata": {
        "colab": {
          "base_uri": "https://localhost:8080/"
        },
        "id": "7L5f9Tq9mXyw",
        "outputId": "8d58d8ae-3825-4180-d175-510b306c94c3"
      },
      "execution_count": 9,
      "outputs": [
        {
          "output_type": "stream",
          "name": "stdout",
          "text": [
            "tensor(0.)\n"
          ]
        }
      ]
    },
    {
      "cell_type": "code",
      "source": [
        "y = 2*X + 1 + e\n",
        "print(y.shape)"
      ],
      "metadata": {
        "colab": {
          "base_uri": "https://localhost:8080/"
        },
        "id": "4mjAR09smfYf",
        "outputId": "83bf568e-457c-4f33-ddea-0e7eb2dd033d"
      },
      "execution_count": 10,
      "outputs": [
        {
          "output_type": "stream",
          "name": "stdout",
          "text": [
            "torch.Size([50, 1])\n"
          ]
        }
      ]
    },
    {
      "cell_type": "code",
      "source": [
        "plt.scatter(X.numpy(), y.numpy())\n",
        "plt.ylabel('y')\n",
        "plt.xlabel('x');"
      ],
      "metadata": {
        "colab": {
          "base_uri": "https://localhost:8080/",
          "height": 469
        },
        "id": "Fgl8Gdd9mrS1",
        "outputId": "2f374b52-856b-4a1b-fcc3-05fd9829de04"
      },
      "execution_count": 11,
      "outputs": [
        {
          "output_type": "display_data",
          "data": {
            "text/plain": [
              "<Figure size 640x480 with 1 Axes>"
            ],
            "image/png": "[encoded data removed]"
          },
          "metadata": {}
        }
      ]
    },
    {
      "cell_type": "code",
      "source": [
        "torch.manual_seed(59)\n",
        "\n",
        "model = nn.Linear(in_features=1, out_features=1)\n",
        "print(model.weight)\n",
        "print(model.bias)"
      ],
      "metadata": {
        "colab": {
          "base_uri": "https://localhost:8080/"
        },
        "id": "B7VSrUYsmvY9",
        "outputId": "a19295fd-07ac-4a95-ebae-4273d1ad23cf"
      },
      "execution_count": 12,
      "outputs": [
        {
          "output_type": "stream",
          "name": "stdout",
          "text": [
            "Parameter containing:\n",
            "tensor([[0.1060]], requires_grad=True)\n",
            "Parameter containing:\n",
            "tensor([0.9638], requires_grad=True)\n"
          ]
        }
      ]
    },
    {
      "cell_type": "code",
      "source": [
        "class Model(nn.Module):\n",
        "    def __init__(self, in_features, out_features):\n",
        "        super().__init__()\n",
        "        self.linear = nn.Linear(in_features, out_features)\n",
        "\n",
        "    def forward(self, x):\n",
        "        y_pred = self.linear(x)\n",
        "        return y_pred"
      ],
      "metadata": {
        "id": "xh6IJSvLmy3U"
      },
      "execution_count": 13,
      "outputs": []
    },
    {
      "cell_type": "code",
      "source": [
        "torch.manual_seed(59)\n",
        "model = Model(1, 1)\n",
        "print(model)\n",
        "print('Weight:', model.linear.weight.item())\n",
        "print('Bias:  ', model.linear.bias.item())"
      ],
      "metadata": {
        "colab": {
          "base_uri": "https://localhost:8080/"
        },
        "id": "dn2MeDT_m2Ki",
        "outputId": "3207facf-1dff-4c19-9bdc-1c78a03620f4"
      },
      "execution_count": 14,
      "outputs": [
        {
          "output_type": "stream",
          "name": "stdout",
          "text": [
            "Model(\n",
            "  (linear): Linear(in_features=1, out_features=1, bias=True)\n",
            ")\n",
            "Weight: 0.10597813129425049\n",
            "Bias:   0.9637961387634277\n"
          ]
        }
      ]
    },
    {
      "cell_type": "code",
      "source": [
        "for name, param in model.named_parameters():\n",
        "    print(name, '\\t', param.item())"
      ],
      "metadata": {
        "colab": {
          "base_uri": "https://localhost:8080/"
        },
        "id": "R8dKhrMmm8bg",
        "outputId": "a6cb65f7-4ca5-4351-98f3-cfc2ab27f2d4"
      },
      "execution_count": 15,
      "outputs": [
        {
          "output_type": "stream",
          "name": "stdout",
          "text": [
            "linear.weight \t 0.10597813129425049\n",
            "linear.bias \t 0.9637961387634277\n"
          ]
        }
      ]
    },
    {
      "cell_type": "code",
      "source": [
        "x = torch.tensor([2.0])\n",
        "print(model.forward(x))   # equivalent to print(model(x))"
      ],
      "metadata": {
        "colab": {
          "base_uri": "https://localhost:8080/"
        },
        "id": "V_kbxI1lnDGV",
        "outputId": "8e4f1ab3-ebeb-4dc2-e904-89d9eb6c8140"
      },
      "execution_count": 16,
      "outputs": [
        {
          "output_type": "stream",
          "name": "stdout",
          "text": [
            "tensor([1.1758], grad_fn=<ViewBackward0>)\n"
          ]
        }
      ]
    },
    {
      "cell_type": "markdown",
      "source": [
        "## Plot the inital model"
      ],
      "metadata": {
        "id": "ahT2X4e4bEC-"
      }
    },
    {
      "cell_type": "code",
      "source": [
        "x1 = np.array([X.min(),X.max()])\n",
        "print(x1)"
      ],
      "metadata": {
        "id": "lBv6xqC4nJ2v",
        "outputId": "968adb46-8e35-40a9-bb84-e9a9177ef14c",
        "colab": {
          "base_uri": "https://localhost:8080/"
        }
      },
      "execution_count": 17,
      "outputs": [
        {
          "output_type": "stream",
          "name": "stdout",
          "text": [
            "[ 1. 50.]\n"
          ]
        }
      ]
    },
    {
      "cell_type": "code",
      "source": [
        "w1,b1 = model.linear.weight.item(), model.linear.bias.item()\n",
        "print(f'Initial weight: {w1:.8f}, Initial bias: {b1:.8f}')\n",
        "print()\n",
        "\n",
        "y1 = x1*w1 + b1\n",
        "print(y1)"
      ],
      "metadata": {
        "id": "hGP4z2f9bJEU",
        "outputId": "5086745e-a412-48b7-d65f-4a1435707200",
        "colab": {
          "base_uri": "https://localhost:8080/"
        }
      },
      "execution_count": 18,
      "outputs": [
        {
          "output_type": "stream",
          "name": "stdout",
          "text": [
            "Initial weight: 0.10597813, Initial bias: 0.96379614\n",
            "\n",
            "[1.0697743 6.2627025]\n"
          ]
        }
      ]
    },
    {
      "cell_type": "code",
      "source": [
        "plt.scatter(X.numpy(), y.numpy())\n",
        "plt.plot(x1,y1,'r')\n",
        "plt.title('Initial Model')\n",
        "plt.ylabel('y')\n",
        "plt.xlabel('x');"
      ],
      "metadata": {
        "id": "JbndS6-BbMNr",
        "outputId": "5de02957-4996-4aa5-ff26-c71e3835fd15",
        "colab": {
          "base_uri": "https://localhost:8080/",
          "height": 492
        }
      },
      "execution_count": 19,
      "outputs": [
        {
          "output_type": "display_data",
          "data": {
            "text/plain": [
              "<Figure size 640x480 with 1 Axes>"
            ],
            "image/png": "[encoded data removed]"
          },
          "metadata": {}
        }
      ]
    },
    {
      "cell_type": "markdown",
      "source": [
        "## Set the loss function and optimization"
      ],
      "metadata": {
        "id": "ADJIV5Spbfiz"
      }
    },
    {
      "cell_type": "code",
      "source": [
        "criterion = nn.MSELoss()"
      ],
      "metadata": {
        "id": "12pd-uPbbaNA"
      },
      "execution_count": 20,
      "outputs": []
    },
    {
      "cell_type": "code",
      "source": [
        "optimizer = torch.optim.SGD(model.parameters(), lr = 0.001)"
      ],
      "metadata": {
        "id": "1OWwbMEycDsB"
      },
      "execution_count": 21,
      "outputs": []
    },
    {
      "cell_type": "code",
      "source": [
        "epochs = 50\n",
        "losses = []\n",
        "\n",
        "for i in range(epochs):\n",
        "    i+=1\n",
        "    y_pred = model.forward(X)\n",
        "    loss = criterion(y_pred, y)\n",
        "    losses.append(loss)\n",
        "    print(f'epoch: {i:2}  loss: {loss.item():10.8f}  weight: {model.linear.weight.item():10.8f}  \\\n",
        "bias: {model.linear.bias.item():10.8f}')\n",
        "    optimizer.zero_grad()\n",
        "    loss.backward()\n",
        "    optimizer.step()"
      ],
      "metadata": {
        "id": "uOLYpOrJcJ6q",
        "outputId": "7c173e38-7401-49e0-a0c6-e226e9182315",
        "colab": {
          "base_uri": "https://localhost:8080/"
        }
      },
      "execution_count": 22,
      "outputs": [
        {
          "output_type": "stream",
          "name": "stdout",
          "text": [
            "epoch:  1  loss: 3057.21679688  weight: 0.10597813  bias: 0.96379614\n",
            "epoch:  2  loss: 1588.53063965  weight: 3.33490014  bias: 1.06046367\n",
            "epoch:  3  loss: 830.29992676  weight: 1.01483285  bias: 0.99226284\n",
            "epoch:  4  loss: 438.85217285  weight: 2.68179941  bias: 1.04252183\n",
            "epoch:  5  loss: 236.76144409  weight: 1.48402131  bias: 1.00766504\n",
            "epoch:  6  loss: 132.42912292  weight: 2.34460592  bias: 1.03396463\n",
            "epoch:  7  loss: 78.56572723  weight: 1.72622538  bias: 1.01632178\n",
            "epoch:  8  loss: 50.75775909  weight: 2.17050409  bias: 1.03025162\n",
            "epoch:  9  loss: 36.40123367  weight: 1.85124576  bias: 1.02149546\n",
            "epoch: 10  loss: 28.98922920  weight: 2.08060074  bias: 1.02903891\n",
            "epoch: 11  loss: 25.16238213  weight: 1.91576838  bias: 1.02487016\n",
            "epoch: 12  loss: 23.18647385  weight: 2.03416562  bias: 1.02911627\n",
            "epoch: 13  loss: 22.16612625  weight: 1.94905841  bias: 1.02731562\n",
            "epoch: 14  loss: 21.63911057  weight: 2.01017213  bias: 1.02985907\n",
            "epoch: 15  loss: 21.36677170  weight: 1.96622372  bias: 1.02928054\n",
            "epoch: 16  loss: 21.22591782  weight: 1.99776423  bias: 1.03094459\n",
            "epoch: 17  loss: 21.15294647  weight: 1.97506487  bias: 1.03099668\n",
            "epoch: 18  loss: 21.11500931  weight: 1.99133754  bias: 1.03220642\n",
            "epoch: 19  loss: 21.09517670  weight: 1.97960854  bias: 1.03258383\n",
            "epoch: 20  loss: 21.08468437  weight: 1.98799884  bias: 1.03355861\n",
            "epoch: 21  loss: 21.07901382  weight: 1.98193336  bias: 1.03410351\n",
            "epoch: 22  loss: 21.07583046  weight: 1.98625445  bias: 1.03495669\n",
            "epoch: 23  loss: 21.07393837  weight: 1.98311269  bias: 1.03558779\n",
            "epoch: 24  loss: 21.07270050  weight: 1.98533309  bias: 1.03637791\n",
            "epoch: 25  loss: 21.07181931  weight: 1.98370099  bias: 1.03705311\n",
            "epoch: 26  loss: 21.07110596  weight: 1.98483658  bias: 1.03781021\n",
            "epoch: 27  loss: 21.07048607  weight: 1.98398376  bias: 1.03850794\n",
            "epoch: 28  loss: 21.06991386  weight: 1.98455977  bias: 1.03924775\n",
            "epoch: 29  loss: 21.06936836  weight: 1.98410904  bias: 1.03995669\n",
            "epoch: 30  loss: 21.06883812  weight: 1.98439610  bias: 1.04068720\n",
            "epoch: 31  loss: 21.06830788  weight: 1.98415291  bias: 1.04140162\n",
            "epoch: 32  loss: 21.06778145  weight: 1.98429084  bias: 1.04212701\n",
            "epoch: 33  loss: 21.06726074  weight: 1.98415494  bias: 1.04284394\n",
            "epoch: 34  loss: 21.06674004  weight: 1.98421574  bias: 1.04356635\n",
            "epoch: 35  loss: 21.06622505  weight: 1.98413551  bias: 1.04428422\n",
            "epoch: 36  loss: 21.06570816  weight: 1.98415649  bias: 1.04500473\n",
            "epoch: 37  loss: 21.06518745  weight: 1.98410451  bias: 1.04572272\n",
            "epoch: 38  loss: 21.06466866  weight: 1.98410523  bias: 1.04644191\n",
            "epoch: 39  loss: 21.06415749  weight: 1.98406804  bias: 1.04715967\n",
            "epoch: 40  loss: 21.06363678  weight: 1.98405814  bias: 1.04787791\n",
            "epoch: 41  loss: 21.06312561  weight: 1.98402870  bias: 1.04859519\n",
            "epoch: 42  loss: 21.06260681  weight: 1.98401320  bias: 1.04931259\n",
            "epoch: 43  loss: 21.06209564  weight: 1.98398757  bias: 1.05002928\n",
            "epoch: 44  loss: 21.06157684  weight: 1.98396957  bias: 1.05074584\n",
            "epoch: 45  loss: 21.06106949  weight: 1.98394585  bias: 1.05146194\n",
            "epoch: 46  loss: 21.06055450  weight: 1.98392630  bias: 1.05217779\n",
            "epoch: 47  loss: 21.06004333  weight: 1.98390377  bias: 1.05289316\n",
            "epoch: 48  loss: 21.05953217  weight: 1.98388338  bias: 1.05360830\n",
            "epoch: 49  loss: 21.05901337  weight: 1.98386145  bias: 1.05432308\n",
            "epoch: 50  loss: 21.05850983  weight: 1.98384094  bias: 1.05503750\n"
          ]
        }
      ]
    },
    {
      "source": [
        "# plot the loss values\n",
        "plt.plot(range(epochs), [loss.detach().numpy() for loss in losses]) # Detach tensors before conversion\n",
        "plt.ylabel('Loss')\n",
        "plt.xlabel('epoch');"
      ],
      "cell_type": "code",
      "metadata": {
        "id": "ZL4hQmb7cojL",
        "outputId": "ecc95a9e-5721-45d9-ef43-c3d8b10cf55a",
        "colab": {
          "base_uri": "https://localhost:8080/",
          "height": 469
        }
      },
      "execution_count": 26,
      "outputs": [
        {
          "output_type": "display_data",
          "data": {
            "text/plain": [
              "<Figure size 640x480 with 1 Axes>"
            ],
            "image/png": "[encoded data removed]"
          },
          "metadata": {}
        }
      ]
    },
    {
      "cell_type": "markdown",
      "source": [
        "### Plot the result"
      ],
      "metadata": {
        "id": "ZTVXCK6Zcufy"
      }
    },
    {
      "cell_type": "code",
      "source": [
        "w1,b1 = model.linear.weight.item(), model.linear.bias.item()\n",
        "print(f'Current weight: {w1:.8f}, Current bias: {b1:.8f}')\n",
        "print()\n",
        "\n",
        "y1 = x1*w1 + b1\n",
        "print(x1)\n",
        "print(y1)"
      ],
      "metadata": {
        "id": "f3UGtHGqcYo-",
        "outputId": "addfa967-9bd8-4c93-e3eb-990a4e75da57",
        "colab": {
          "base_uri": "https://localhost:8080/"
        }
      },
      "execution_count": 27,
      "outputs": [
        {
          "output_type": "stream",
          "name": "stdout",
          "text": [
            "Current weight: 1.98381913, Current bias: 1.05575156\n",
            "\n",
            "[ 1. 50.]\n",
            "[  3.0395708 100.246704 ]\n"
          ]
        }
      ]
    },
    {
      "cell_type": "code",
      "source": [
        "plt.scatter(X.numpy(), y.numpy())\n",
        "plt.plot(x1,y1,'r')\n",
        "plt.title('Current Model')\n",
        "plt.ylabel('y')\n",
        "plt.xlabel('x');"
      ],
      "metadata": {
        "id": "VAQ_cbOCc1V_",
        "outputId": "5012778a-373b-4f19-9e39-3fdd0c88f57e",
        "colab": {
          "base_uri": "https://localhost:8080/",
          "height": 492
        }
      },
      "execution_count": 28,
      "outputs": [
        {
          "output_type": "display_data",
          "data": {
            "text/plain": [
              "<Figure size 640x480 with 1 Axes>"
            ],
            "image/png": "[encoded data removed]"
          },
          "metadata": {}
        }
      ]
    },
    {
      "cell_type": "code",
      "source": [],
      "metadata": {
        "id": "otyRTerfdK9Q"
      },
      "execution_count": null,
      "outputs": []
    }
  ]
}