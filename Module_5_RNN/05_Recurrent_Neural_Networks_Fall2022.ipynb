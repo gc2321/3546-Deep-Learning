{
  "nbformat": 4,
  "nbformat_minor": 0,
  "metadata": {
    "kernelspec": {
      "display_name": "Python 3",
      "language": "python",
      "name": "python3"
    },
    "language_info": {
      "codemirror_mode": {
        "name": "ipython",
        "version": 3
      },
      "file_extension": ".py",
      "mimetype": "text/x-python",
      "name": "python",
      "nbconvert_exporter": "python",
      "pygments_lexer": "ipython3",
      "version": "3.7.2"
    },
    "nav_menu": {},
    "toc": {
      "navigate_menu": true,
      "number_sections": true,
      "sideBar": true,
      "threshold": 6,
      "toc_cell": false,
      "toc_section_display": "block",
      "toc_window_display": false
    },
    "colab": {
      "provenance": [],
      "collapsed_sections": [
        "UYi_eqYnq6hN",
        "9WWig-bDq6hU"
      ]
    },
    "accelerator": "GPU"
  },
  "cells": [
    {
      "cell_type": "markdown",
      "metadata": {
        "id": "y0uj9GvTq6hH"
      },
      "source": [
        "# SCS 3546 Deep Learning \n",
        "\n",
        "# Module 05: Recurrent Neural Networks\n",
        "***"
      ]
    },
    {
      "cell_type": "markdown",
      "metadata": {
        "id": "dem9XAMmq6hJ"
      },
      "source": [
        "## Module Outline\n",
        "\n",
        "\n",
        "- Recurrent Neurons \n",
        "- Basic RNNs in TensorFlow \n",
        "- Training RNNs \n",
        "- Deep RNNs \n",
        "- LSTM Cell \n",
        "- GRU Cell \n",
        "\n",
        "    \n",
        "## Learning Outcomes\n",
        "\n",
        "By the end of this module, you will:\n",
        "\n",
        "- Understand the fundamental concepts underlying RNNs. \n",
        "- Be able to implement RNNs using TensorFlow and Keras. \n",
        "- Gain familiarity with different types of recurrent cells: LSTMs and GRUs. \n",
        "- Have exposure to different sequence modelling tasks that RNNs are well-suited for. \n",
        "\n",
        "\n"
      ]
    },
    {
      "cell_type": "markdown",
      "metadata": {
        "id": "8CpKWd0Tq6hK"
      },
      "source": [
        "## Introduction\n",
        "\n",
        "Recurrent Neural Networks (RNNs) specialize in sequence-prediction tasks. Unlike fully-connected networks, RNNs can ingest sequences of arbitrary lengths. These can be sentences, documents, audio samples, and so forth, making them extremely versatile. Some examples of their applications include:\n",
        "\n",
        "- predicting future events from time-series data, such as stock prices\n",
        "- anticipating car trajectories in autonomous driving systems\n",
        "- analyzing a sequence of words to generate a sentiment \n",
        "- translating sentences from one language to another\n",
        "- generating of image captions\n",
        "- composing a melody that continues a sequence of input notes in the same musical style\n",
        "\n",
        "\n",
        "\n",
        "Let's start simple and examine the fundamental concepts underlying RNNs and how to train them. "
      ]
    },
    {
      "cell_type": "markdown",
      "metadata": {
        "id": "MtW39NTyq6hK"
      },
      "source": [
        "## Setup\n",
        "\n",
        "First, let's make sure this notebook has all the required libraries, import a few common modules, ensure MatplotLib plots figures inline and prepare a function to save the figures:"
      ]
    },
    {
      "cell_type": "code",
      "metadata": {
        "id": "XNMMvM_6q6hK"
      },
      "source": [
        "import os\n",
        "import warnings\n",
        "warnings.filterwarnings(\"ignore\")\n",
        "\n",
        "import numpy as np\n",
        "from IPython.display import Image\n",
        "import tensorflow as tf\n",
        "import tensorflow.keras as keras\n",
        "\n",
        "# to make this notebook's output stable across runs\n",
        "def reset_graph(seed=42):\n",
        "    tf.reset_default_graph()\n",
        "    tf.set_random_seed(seed)\n",
        "    np.random.seed(seed)\n",
        "\n",
        "# To plot pretty figures\n",
        "import matplotlib\n",
        "import matplotlib.pyplot as plt\n",
        "plt.rcParams['axes.labelsize'] = 14\n",
        "plt.rcParams['xtick.labelsize'] = 12\n",
        "plt.rcParams['ytick.labelsize'] = 12\n",
        "\n",
        "%matplotlib inline\n",
        "\n",
        "\n",
        "# Where to save the figures\n",
        "PROJECT_ROOT_DIR = \".\"\n",
        "CHAPTER_ID = \"rnn\"\n",
        "\n",
        "# helper functions\n",
        "def save_fig(fig_id, tight_layout=True):\n",
        "    path = os.path.join(PROJECT_ROOT_DIR, \"images\", CHAPTER_ID, fig_id + \".png\")\n",
        "    print(\"Saving figure\", fig_id)\n",
        "    if tight_layout:\n",
        "        plt.tight_layout()\n",
        "    plt.savefig(path, format='png', dpi=300)\n",
        "    \n",
        "def plot_image(image):\n",
        "    plt.imshow(image, cmap=\"gray\", interpolation=\"nearest\")\n",
        "    plt.axis(\"off\")\n",
        "\n",
        "def plot_color_image(image):\n",
        "    plt.imshow(image.astype(np.uint8),interpolation=\"nearest\")\n",
        "    plt.axis(\"off\")\n",
        "\n"
      ],
      "execution_count": null,
      "outputs": []
    },
    {
      "cell_type": "markdown",
      "metadata": {
        "id": "dzEqjKISq6hL"
      },
      "source": [
        "# Recurrent Neurons\n",
        "\n",
        "To process a sequence $[x_{(0)}, x_{(1)}, x_{(2)}, ...]$ with an RNN, you feed each element of the sequence into the RNN, one at a time. We call each of these 'steps' a timestep $t$. So the RNN would see the input vector $x_{(0)}$ during timestep $t_0$, the vector $x_{(1)}$ at timestep $t_1$, and so forth. Note that generally, $x_{(0)}$ could represent a single value at time $t$, such as a stock price, or a vector of values, such as the pixels of a video frame. \n",
        "\n",
        "How can we ensure that a neuron's prediction at a given timestep $t$ takes into account the inputs it saw at previous timesteps? One simple approach would be to feed the neuron's output back into itself, hence the idea of recursion. \n",
        "\n",
        "Let’s look at the simplest possible RNN: one cell with feedback.\n",
        "- At each time step t, this recurrent neuron receives the inputs $x(t)$ as well as its own output from the previous time step, $y(t–1)$. \n",
        "- We can represent this tiny network against the time axis. This is called unrolling the network through time (see image below).\n",
        "\n",
        "\n",
        "<center><img src=\"https://drive.google.com/uc?id=1APTz3hmUynG8GJspgaKnjh_4tZfaUzsd\" ></center>\n"
      ]
    },
    {
      "cell_type": "markdown",
      "metadata": {
        "id": "ZrkuHJsnq6hL"
      },
      "source": [
        "\n",
        "Now, to create a layer of these recursive neurons:\n",
        "- Every neuron receives both the input vector $x(t)$ and the output vector from the previous time step $y(t–1)$. \n",
        "- Note that both the inputs and outputs are vectors now \n",
        "\n",
        "<center><img src=\"https://drive.google.com/uc?id=1IAWzmhjpz8IM9xKmKmbdMmtGFCALOGxL\" ></center>\n",
        "\n",
        "Each recurrent neuron has two sets of weights: \n",
        "- for the inputs $x(t)$: $W_x$\n",
        "- for the outputs of the previous time step, $y(t–1)$: $W_y$\n",
        "- We can place all the weight vectors for all neurons in two weight matrices, $W_x$ and $W_y$. \n",
        "- The output vector of the whole recurrent layer can then be computed as:  \n"
      ]
    },
    {
      "cell_type": "markdown",
      "metadata": {
        "id": "REyQkhahq6hL"
      },
      "source": [
        "$$\n",
        "\\mathbf{y}_{(t)}=\\phi\\left(\\mathbf{W}_{x}{ }^{T} \\mathbf{x}_{(t)}+\\mathbf{W}_{y}{ }^{T} \\mathbf{y}_{(t-1)}+\\mathbf{b}\\right)\n",
        "$$\n",
        "\n",
        "Where $b$ is the bias vector and $\\phi(.)$ is the nonlinear activation function.\n",
        "\n",
        "\n",
        "We can compute a recurrent layer’s output in one shot for a whole mini-batch :\n",
        "\n",
        "\n",
        "$$\n",
        "\\begin{aligned} \\mathbf{Y}_{(t)} &=\\phi\\left(\\mathbf{X}_{(t)} \\mathbf{W}_{x}+\\mathbf{Y}_{(t-1)} \\mathbf{W}_{y}+\\mathbf{b}\\right) \\\\ &=\\phi\\left(\\left[\\begin{array}{ll}\\mathbf{X}_{(t)} & \\mathbf{Y}_{(t-1)}\\end{array}\\right] \\mathbf{W}+\\mathbf{b}\\right) \\text { with } \\mathbf{W}=\\left[\\begin{array}{l}\\mathbf{W}_{x} \\\\ \\mathbf{W}_{y}\\end{array}\\right] \\end{aligned}\n",
        "$$\n",
        "\n",
        "- $Y(t)$ is an $m \\times n_{neurons}$ matrix containing the layer’s outputs at time step $t$ for each instance in the mini-batch (m is the number of instances in the mini-batch).\n",
        "\n",
        "- $X(t)$ is an $m \\times n_{inputs}$ matrix containing the inputs for all instances \n",
        "\n",
        "- $W_x$ is an $n_{inputs} \\times n_{neurons}$ matrix containing the connection weights of the current step.\n",
        "\n",
        "- $W_y$ is an $n_{neurons} × n_{neurons}$ matrix containing the connection weights for the outputs of the previous time step.\n",
        "\n",
        "- $b$ is a vector of size $n_{neurons}$ containing each neuron’s bias term.\n",
        "\n",
        "The weight matrices $W_x$ and $W_y$ are often concatenated vertically into a single weight matrix $W$\n",
        "\n",
        "The notation $[X(t) Y(t–1)]$ represents the horizontal concatenation of the matrices $X(t)$ and $Y(t–1)$.\n",
        "\n",
        "Notice that Y(t) is a function of X(t) and Y(t–1), which is a function of X(t–1) and Y(t–2), which is a function of X(t–2) and Y(t–3), and so on. \n",
        "\n"
      ]
    },
    {
      "cell_type": "markdown",
      "metadata": {
        "id": "kMuTp0W6q6hM"
      },
      "source": [
        "# Memory Cells\n",
        "\n",
        "Here's another way of looking at the above. What makes Recurrent Neural Networks different from what we've seen before, is that they maintain a hidden internal state $h_{(t)}$ that serves as a form of memory. This internal state $h_{(t)}$ depends both on the input $x_{(t)}$ at time step $t$, as well as the internal state in the previous timestep, $h_{(t-1)}$. \n",
        "\n",
        "\n",
        "- The output of a recurrent neuron at time $t$ is a function of all the inputs from previous times\n",
        "\n",
        "- In general, a cell’s state $h_{(t)}$ is a function of some inputs $x_{(t)}$ and its state at the previous time step: $h_{(t)} = f(h_{(t–1)}, x_{(t)})$\n",
        "    \n",
        "- The network's output $y_{(t)}$, is also a function of the previous $y_{(t-1)}$ and $x_{(t)}$. \n",
        "\n",
        "Another way of expressing feed-forward through a RNN, which might make the logic somewhat clearer, is:\n",
        "\n",
        "\n",
        "$$\n",
        "h_{(t)} = \\phi\\left(W^{T}_{hh}h_{(t-1)} + W^{T}_{xh}x_{(t)}\\right)\n",
        "$$\n",
        "\n",
        "$$\n",
        "y_{(t)}= \\phi\\left(W^{T}_{hy}h_{(t)} \\right)\n",
        "$$\n",
        "\n",
        "Where $W_{xh}$ is a weights matrix that connects the input to the hidden cell state; $W_{hh}$ is a weights matrix that connects the hidden cell state to itself in the previous timestep; $W_{hy}$ is a weights matrix connecting the hidden state to the predicted output, and $\\phi(.)$ represents a nonlinear activation function, as before. In the above, we have implicitly incorporated the bias term into the weight matrices. \n",
        "\n",
        "<center><img src=\"https://drive.google.com/uc?id=1p1KtbVG3rxs1jL15ZJIkHlX8mkdPLzRM\" ></center>\n"
      ]
    },
    {
      "cell_type": "markdown",
      "metadata": {
        "id": "NEbk_BjSq6hM"
      },
      "source": [
        "# Input and Output Sequences\n",
        "\n",
        "There are multiple ways we can ingest an input and generate our output. \n",
        "\n",
        "\n",
        "- **Many-to-many sequence prediction:** An RNN can simultaneously take a sequence of inputs and produce a sequence of outputs, e.g. predicting a time series. (Top-left image)\n",
        "\n",
        "\n",
        "- **Many-to-one prediction:** RNNs can also take a sequence of inputs, and ignore all outputs except for the last one, e.g. feed the network a sequence of words corresponding to a movie review, and the network would output a sentiment score (e.g., from –1 [hate] to +1 [love]). (Top-right image)\n",
        "    \n",
        "\n",
        "- **One-to-many prediction:** in this case the RNN takes a single input at the first time step and zeros for all others; e.g. a network that ingests an image on the first timestep, and exports a text description of that image across multiple subsequent time steps. (Bottom-left image)\n",
        "\n",
        "- **Encoder-Decoder**: We can also chain a many-to-one network (e.g. encoder) with a one-to-many network (e.g. decoder). This 'Encoder-Decoder' two-step model is often used for sentence translation; since the last words of a sentence might impact the first words of the translation, it's useful to ensure the entire input sequence has been ingested first, before proceeding with generating the translation. (Bottom right image)\n",
        "\n",
        "\n",
        "\n",
        "<center><img src=\"https://drive.google.com/uc?id=1ut-l3DRwhvds8WtqcNQw2DcnBtcX6wFx\" ></center>\n",
        "\n"
      ]
    },
    {
      "cell_type": "markdown",
      "metadata": {
        "id": "tCtWOWeyq6hM"
      },
      "source": [
        "When training an RNN, we need to compute a loss at each timestep. This is shown in the diagram below. We then typically sum the losses across all timesteps to get the total loss. \n",
        "\n",
        "Note that, in the literature, you're going to see quite a few different forms of notation. The diagram below denotes the recurrent layer output prior to the final activation function as $O$, and represents the weight matrices as $W = W_{hh}$, $V = W_{hy}$, and $U = W_{xh}$.\n",
        "\n",
        "<center><img src=\"https://drive.google.com/uc?id=1cwiS24E1J6HKVh7rTU7IX7KB0RaXhoNN\" ></center>\n",
        "\n",
        "$$\n",
        "\\begin{array}{l}{\\boldsymbol{a}^{(t)}=\\boldsymbol{b}+\\boldsymbol{W} \\boldsymbol{h}^{(t-1)}+\\boldsymbol{U} \\boldsymbol{x}^{(t)}} \\\\ {\\boldsymbol{h}^{(t)}=\\tanh \\left(\\boldsymbol{a}^{(t)}\\right)} \\\\ {\\boldsymbol{o}^{(t)}=\\boldsymbol{c}+\\boldsymbol{V} \\boldsymbol{h}^{(t)}} \\\\ {\\hat{\\boldsymbol{y}}^{(t)}=\\operatorname{softmax}\\left(\\boldsymbol{o}^{(t)}\\right)}\\end{array}\n",
        "$$"
      ]
    },
    {
      "cell_type": "markdown",
      "metadata": {
        "id": "TjhFZBRHq6hN"
      },
      "source": [
        "# RNN Variants\n",
        "\n",
        "There are a few other ways of implementing an RNN. For example, in the RNN depicted below, the only recurrence is the feedback connection from the output to the hidden layer, instead of the hidden cell state to itself.\n",
        "\n",
        "<center><img src=\"https://drive.google.com/uc?id=1fA8SalfBnRwPmEz7tI6DfXIwvGrCxqC2\" ></center>"
      ]
    },
    {
      "cell_type": "markdown",
      "metadata": {
        "id": "rnioUvkHq6hN"
      },
      "source": [
        "**Bidirectional RNNs** are a fairly important variant. They consist of two RNNs training the network in opposite directions. One RNN starts from the beginning of the sequence and works its way to the end. The other RNN starts at the end and works its way to the beginning. This helps the network take the entire context of the input sequence into account, instead of only being limited by what it has seen in the 'past' and 'present' and it steps through the sequence. The two RNNs are represented by the $g$ and $h$ hidden cell states below.\n",
        "\n",
        "\n",
        "\n",
        "<center><img src=\"https://drive.google.com/uc?id=1aMhWHHOlYP74vcejp5RGC-aqSY5lcWLl\" ></center>\n",
        "\n",
        "$$\n",
        "\\begin{array}{l}{\\bar{h}_{t}^{(f)}=\\tanh \\left(W_{x h}^{(f)} \\bar{x}_{t}+W_{h h}^{(f)} \\bar{h}_{t-1}^{(f)}\\right)} \\\\ {\\bar{g}_{t}^{(b)}=\\tanh \\left(W_{x g}^{(b)} \\bar{x}_{t}+W_{g g}^{(b)} \\bar{g}_{t+1}^{(b)}\\right)} \\\\ {\\bar{o}_{t}=W_{h y}^{(f)} \\bar{h}_{t}^{(f)}+W_{g y}^{(b)} \\bar{g}_{t}^{(b)}}\\end{array}\n",
        "$$"
      ]
    },
    {
      "cell_type": "markdown",
      "metadata": {
        "id": "cr_4JNQEq6hN"
      },
      "source": [
        "Teacher forcing and networks with output recurrence\n",
        "<center><img src=\"https://drive.google.com/uc?id=11RVNyTbbIsX7WIg_Xt_ZXijBPJdWQPIV\" ></center>"
      ]
    },
    {
      "cell_type": "markdown",
      "metadata": {
        "id": "O0l6SzYJq6hN"
      },
      "source": [
        "Here are a few others you might see, although we won't go into details here:\n",
        "\n",
        "Modeling sequences conditioned on context: an RNN that maps a ﬁxed-length vector $x$ into a distribution over sequences $Y$. \n",
        "\n",
        "<center><img src=\"https://drive.google.com/uc?id=1n6Rikao4cgIgh6ogFMtRN_CfvE_5b95X\" ></center>\n"
      ]
    },
    {
      "cell_type": "markdown",
      "metadata": {
        "id": "g8kcziEEq6hN"
      },
      "source": [
        "A conditional recurrent neural network mapping a variable-length sequence of $x$ values into a distribution over sequences of $y$ values of the same length.\n",
        "\n",
        "<center><img src=\"https://drive.google.com/uc?id=1_YZwZyca0B6negcRT7glwi6UbLINSwS-\" ></center>"
      ]
    },
    {
      "cell_type": "markdown",
      "metadata": {
        "id": "UYi_eqYnq6hN"
      },
      "source": [
        "Encoder-decoder sequence-to-sequence architecture:\n",
        "\n",
        "<center><img src=\"https://drive.google.com/uc?id=1k87zptKYoNpDoNmWzb5Q3enUEMeV75D6\" ></center>"
      ]
    },
    {
      "cell_type": "markdown",
      "metadata": {
        "id": "4ZZB8xgtq6hN"
      },
      "source": [
        "# Training RNNs\n",
        "\n",
        "RNNs use a modified version of backpropagation, called \"Back Propagation Through Time\" (BPTT). Gradients flow not only via the output of each cell, but also through each time step via the hidden cell state. The approach is to unroll the RNN through time and then use regular backpropagation.\n",
        "\n",
        "\n",
        "\n",
        "\n",
        "<center><img src=\"https://drive.google.com/uc?id=1ixYssb7qufxQ_0Tw95haM-wVEbs645rh\" ></center>\n",
        "\n",
        "- There is a first forward pass through the unrolled network ; \n",
        "- then the output sequence is evaluated using a cost function \n",
        "- and the gradients of that cost function are propagated backward through the unrolled network \n",
        "- finally the model parameters are updated using the gradients computed during BPTT. \n",
        "\n",
        "Note that the gradients flow backward through all the outputs used by the cost function, not just through the final output. \n",
        "\n",
        "Since the same parameters W and b are used at each time step, backpropagation will do the right thing and sum over all time steps.\n",
        "\n",
        "For large sequences, we end up with many chained matrix multiplications of $W$ with itself. If the values of W are large, this could lead to exploding gradients (covered in Module 2). One way to mitigate that is through gradient clipping. On the other hand, if $W$ is too small, we might get vanishing gradients. We already know how to mitigate this from Module 2. This can be countered by non-saturating activation functions and proper weight initialization strategies. A third technique to mitigate vanishing or exploding gradients is the concept of gated units, which we'll discuss later in this module. \n",
        "\n"
      ]
    },
    {
      "cell_type": "markdown",
      "metadata": {
        "id": "4UJQQOrPq6hO"
      },
      "source": [
        "# Forecasting a Time Series\n",
        "\n",
        "Let's see an RNN in action! For this demo, we'll generate some time-series data and ask our network to make some forecasts to predict the next value in the sequence (many-to-one prediction)."
      ]
    },
    {
      "cell_type": "markdown",
      "metadata": {
        "id": "hmBFC5Ekq6hO"
      },
      "source": [
        "## Generate the Dataset"
      ]
    },
    {
      "cell_type": "code",
      "metadata": {
        "id": "ol20ccB2q6hO"
      },
      "source": [
        "# here we define our time series as a superposition of two\n",
        "# random-frequency sine waves with a random offset\n",
        "def generate_time_series(batch_size, n_steps):\n",
        "    freq1, freq2, offsets1, offsets2 = np.random.rand(4, batch_size, 1)\n",
        "    time = np.linspace(0, 1, n_steps)\n",
        "    series = 0.5 * np.sin((time - offsets1) * (freq1 * 10 + 10))  #   wave 1\n",
        "    series += 0.2 * np.sin((time - offsets2) * (freq2 * 20 + 20)) # + wave 2\n",
        "    series += 0.1 * (np.random.rand(batch_size, n_steps) - 0.5)   # + noise\n",
        "    return series[..., np.newaxis].astype(np.float32)"
      ],
      "execution_count": null,
      "outputs": []
    },
    {
      "cell_type": "code",
      "metadata": {
        "id": "o4q-cl95q6hO"
      },
      "source": [
        "# let's generate a dataset of 10000 sample sequences, each having 50 timesteps\n",
        "n_steps = 50\n",
        "series = generate_time_series(10000, n_steps + 1) # we'll actually request 51 steps\n",
        "\n",
        "# the first 50 steps will be our training data, the final (51st) step is what we are trying to predict;\n",
        "# therefore this is a many-to-one type prediction problem\n",
        "X_train, y_train = series[:7000, :n_steps], series[:7000, -1]\n",
        "X_valid, y_valid = series[7000:9000, :n_steps], series[7000:9000, -1]\n",
        "X_test, y_test = series[9000:, :n_steps], series[9000:, -1]"
      ],
      "execution_count": null,
      "outputs": []
    },
    {
      "cell_type": "code",
      "metadata": {
        "colab": {
          "base_uri": "https://localhost:8080/"
        },
        "id": "Ur7k7fBrq6hO",
        "outputId": "7a95f31d-ca86-4e5d-d27a-a0da5ec81e07"
      },
      "source": [
        "# the training data has 7000 samples, each being a 50-element sequence of scalars\n",
        "print(f\"X_train shape: {X_train.shape}\")\n",
        "\n",
        "# the target is just a single scalar value, for each sample sequence\n",
        "print(f\"Y_train shape: {y_train.shape}\")\n"
      ],
      "execution_count": null,
      "outputs": [
        {
          "output_type": "stream",
          "name": "stdout",
          "text": [
            "X_train shape: (7000, 50, 1)\n",
            "Y_train shape: (7000, 1)\n"
          ]
        }
      ]
    },
    {
      "cell_type": "code",
      "metadata": {
        "colab": {
          "base_uri": "https://localhost:8080/",
          "height": 293
        },
        "id": "JFG9rInLq6hP",
        "outputId": "219107f5-4799-4697-bfd8-99c94e8433f3"
      },
      "source": [
        "# let's now view some examples of what these time series\n",
        "# sequences look like\n",
        "\n",
        "def plot_series(series, y=None, y_pred=None, x_label=\"$t$\", y_label=\"$x(t)$\"):\n",
        "    plt.plot(series, \".-\")\n",
        "    if y is not None:\n",
        "        plt.plot(n_steps, y, \"bx\", markersize=10)\n",
        "    if y_pred is not None:\n",
        "        plt.plot(n_steps, y_pred, \"ro\")\n",
        "    plt.grid(True)\n",
        "    if x_label:\n",
        "        plt.xlabel(x_label, fontsize=16)\n",
        "    if y_label:\n",
        "        plt.ylabel(y_label, fontsize=16, rotation=0)\n",
        "    plt.hlines(0, 0, 100, linewidth=1)\n",
        "    plt.axis([0, n_steps + 1, -1, 1])\n",
        "\n",
        "fig, axes = plt.subplots(nrows=1, ncols=3, sharey=True, figsize=(12, 4))\n",
        "for col in range(3):\n",
        "    plt.sca(axes[col])\n",
        "    plot_series(X_valid[col, :, 0], y_valid[col, 0],\n",
        "                y_label=(\"$x(t)$\" if col==0 else None))\n",
        "plt.show()"
      ],
      "execution_count": null,
      "outputs": [
        {
          "output_type": "display_data",
          "data": {
            "text/plain": [
              "<Figure size 864x288 with 3 Axes>"
            ],
            "image/png": "[encoded data removed]"
          },
          "metadata": {
            "needs_background": "light"
          }
        }
      ]
    },
    {
      "cell_type": "code",
      "source": [
        "# let's start with a simple heuristic model as a benchmark;\n",
        "# what if we simply guess that the 51st element was equal to the 50th?\n",
        "y_pred = X_valid[:, -1]\n",
        "np.mean(keras.losses.mean_squared_error(y_valid, y_pred))"
      ],
      "metadata": {
        "colab": {
          "base_uri": "https://localhost:8080/"
        },
        "id": "bAuKMgqCVsq7",
        "outputId": "a31020b7-86fc-4f17-cc2d-cb71b59fd84a"
      },
      "execution_count": null,
      "outputs": [
        {
          "output_type": "execute_result",
          "data": {
            "text/plain": [
              "0.021133143"
            ]
          },
          "metadata": {},
          "execution_count": 6
        }
      ]
    },
    {
      "cell_type": "markdown",
      "source": [
        "Let's build a simple RNN model. \n",
        "\n",
        "Note that the default activation for an RNN is `tanh()`, and we'll keep this as-is. Why? Recurrent networks are one of the few scenarios where `ReLU` could actually do more harm than good. Since `ReLU` is non-saturating, a small gradient increase might be continuously amplified across time steps during backpropagation-through-time, leading to exploding gradients. In this case the 'regularization' effect of `tanh`, which always caps values between -1 and 1, helps with stabilization. Hence why you'll see `tanh` frequently used in RNNs instead of `ReLU`. "
      ],
      "metadata": {
        "id": "p98eOO0Nd_wX"
      }
    },
    {
      "cell_type": "code",
      "metadata": {
        "colab": {
          "base_uri": "https://localhost:8080/"
        },
        "id": "zrhxWzScq6hP",
        "outputId": "7bffcee5-ad75-4da7-92e2-d57ac9bead7f"
      },
      "source": [
        "# we'll build a super-simple RNN that has only one layer and one recursive unit;\n",
        "# this is the simplest it gets\n",
        "model = keras.models.Sequential([\n",
        "    keras.layers.SimpleRNN(1, input_shape=[None, 1]),\n",
        "])\n",
        "\n",
        "optimizer = keras.optimizers.Adam(lr=0.005)\n",
        "model.compile(loss=\"mse\", optimizer=optimizer)\n",
        "history = model.fit(\n",
        "    X_train,\n",
        "    y_train, \n",
        "    epochs=5,\n",
        "    validation_data=(X_valid, y_valid)\n",
        ")"
      ],
      "execution_count": null,
      "outputs": [
        {
          "output_type": "stream",
          "name": "stdout",
          "text": [
            "Epoch 1/5\n",
            "219/219 [==============================] - 10s 41ms/step - loss: 0.1148 - val_loss: 0.0364\n",
            "Epoch 2/5\n",
            "219/219 [==============================] - 14s 65ms/step - loss: 0.0303 - val_loss: 0.0256\n",
            "Epoch 3/5\n",
            "219/219 [==============================] - 8s 38ms/step - loss: 0.0225 - val_loss: 0.0199\n",
            "Epoch 4/5\n",
            "219/219 [==============================] - 7s 33ms/step - loss: 0.0181 - val_loss: 0.0166\n",
            "Epoch 5/5\n",
            "219/219 [==============================] - 7s 31ms/step - loss: 0.0155 - val_loss: 0.0146\n"
          ]
        }
      ]
    },
    {
      "cell_type": "code",
      "source": [
        "# let's examine the learning curves\n",
        "def plot_learning_curves(history):\n",
        "\n",
        "  plt.plot(history.history['loss'])\n",
        "  plt.plot(history.history['val_loss'])\n",
        "  plt.title('Mean Squared Error')\n",
        "  plt.ylabel('MSE')\n",
        "  plt.xlabel('epoch')\n",
        "  plt.legend(['train', 'val'], loc='upper left')\n",
        "  plt.show()\n",
        "\n",
        "plot_learning_curves(history)"
      ],
      "metadata": {
        "colab": {
          "base_uri": "https://localhost:8080/",
          "height": 302
        },
        "id": "bjXFoXSsVcOY",
        "outputId": "6c649eb7-041d-4b16-c060-ef54b6bed6c0"
      },
      "execution_count": null,
      "outputs": [
        {
          "output_type": "display_data",
          "data": {
            "text/plain": [
              "<Figure size 432x288 with 1 Axes>"
            ],
            "image/png": "[encoded data removed]"
          },
          "metadata": {
            "needs_background": "light"
          }
        }
      ]
    },
    {
      "cell_type": "code",
      "metadata": {
        "colab": {
          "base_uri": "https://localhost:8080/"
        },
        "id": "uzx8W_3Iq6hQ",
        "outputId": "e289b3cc-8f4a-40d6-997f-880b98c849b6"
      },
      "source": [
        "# we're approaching our heuristic model's performance, but we can \n",
        "# probably do much better; after all, we only have 3 trainable parameters here\n",
        "model.summary()"
      ],
      "execution_count": null,
      "outputs": [
        {
          "output_type": "stream",
          "name": "stdout",
          "text": [
            "Model: \"sequential\"\n",
            "_________________________________________________________________\n",
            " Layer (type)                Output Shape              Param #   \n",
            "=================================================================\n",
            " simple_rnn (SimpleRNN)      (None, 1)                 3         \n",
            "                                                                 \n",
            "=================================================================\n",
            "Total params: 3\n",
            "Trainable params: 3\n",
            "Non-trainable params: 0\n",
            "_________________________________________________________________\n"
          ]
        }
      ]
    },
    {
      "cell_type": "markdown",
      "metadata": {
        "id": "_IsTG6NDq6hQ"
      },
      "source": [
        "### Adding more parameters "
      ]
    },
    {
      "cell_type": "code",
      "metadata": {
        "colab": {
          "base_uri": "https://localhost:8080/"
        },
        "id": "GWlsLdG0q6hQ",
        "outputId": "d3aea2d1-d3c6-4085-bd77-c1c6ba55baae"
      },
      "source": [
        "# this time we'll use 10 recursive units in our layer, and\n",
        "# add a dense layer of 1 unit\n",
        "model = keras.models.Sequential([\n",
        "    keras.layers.SimpleRNN(10, input_shape=[None, 1], activation='tanh'),\n",
        "    keras.layers.Dense(1, activation=None)\n",
        "])\n",
        "\n",
        "optimizer = keras.optimizers.Adam(lr=0.005)\n",
        "model.compile(loss=\"mse\", optimizer=optimizer)\n",
        "history = model.fit(X_train, y_train, epochs=10, validation_data=(X_valid, y_valid))"
      ],
      "execution_count": null,
      "outputs": [
        {
          "output_type": "stream",
          "name": "stdout",
          "text": [
            "Epoch 1/10\n",
            "219/219 [==============================] - 8s 32ms/step - loss: 0.0113 - val_loss: 0.0051\n",
            "Epoch 2/10\n",
            "219/219 [==============================] - 7s 32ms/step - loss: 0.0052 - val_loss: 0.0049\n",
            "Epoch 3/10\n",
            "219/219 [==============================] - 7s 33ms/step - loss: 0.0050 - val_loss: 0.0049\n",
            "Epoch 4/10\n",
            "219/219 [==============================] - 7s 31ms/step - loss: 0.0049 - val_loss: 0.0048\n",
            "Epoch 5/10\n",
            "219/219 [==============================] - 7s 31ms/step - loss: 0.0048 - val_loss: 0.0046\n",
            "Epoch 6/10\n",
            "219/219 [==============================] - 8s 35ms/step - loss: 0.0048 - val_loss: 0.0046\n",
            "Epoch 7/10\n",
            "219/219 [==============================] - 8s 35ms/step - loss: 0.0046 - val_loss: 0.0047\n",
            "Epoch 8/10\n",
            "219/219 [==============================] - 7s 31ms/step - loss: 0.0047 - val_loss: 0.0050\n",
            "Epoch 9/10\n",
            "219/219 [==============================] - 7s 33ms/step - loss: 0.0047 - val_loss: 0.0046\n",
            "Epoch 10/10\n",
            "219/219 [==============================] - 7s 31ms/step - loss: 0.0047 - val_loss: 0.0046\n"
          ]
        }
      ]
    },
    {
      "cell_type": "code",
      "source": [
        "# even with this relatively simple model, we are quickly outperforming our \n",
        "# heuristic (which had MSE of 0.020)\n",
        "plot_learning_curves(history)"
      ],
      "metadata": {
        "colab": {
          "base_uri": "https://localhost:8080/",
          "height": 302
        },
        "id": "YfTNS0YBU4AR",
        "outputId": "02a198a8-588e-4471-f613-df9a53d77582"
      },
      "execution_count": null,
      "outputs": [
        {
          "output_type": "display_data",
          "data": {
            "text/plain": [
              "<Figure size 432x288 with 1 Axes>"
            ],
            "image/png": "[encoded data removed]"
          },
          "metadata": {
            "needs_background": "light"
          }
        }
      ]
    },
    {
      "cell_type": "code",
      "metadata": {
        "colab": {
          "base_uri": "https://localhost:8080/"
        },
        "id": "exkNZec3q6hQ",
        "outputId": "c70fee05-54ca-4dda-bab4-e8b707eb1d79"
      },
      "source": [
        "model.summary()"
      ],
      "execution_count": null,
      "outputs": [
        {
          "output_type": "stream",
          "name": "stdout",
          "text": [
            "Model: \"sequential_1\"\n",
            "_________________________________________________________________\n",
            " Layer (type)                Output Shape              Param #   \n",
            "=================================================================\n",
            " simple_rnn_1 (SimpleRNN)    (None, 10)                120       \n",
            "                                                                 \n",
            " dense (Dense)               (None, 1)                 11        \n",
            "                                                                 \n",
            "=================================================================\n",
            "Total params: 131\n",
            "Trainable params: 131\n",
            "Non-trainable params: 0\n",
            "_________________________________________________________________\n"
          ]
        }
      ]
    },
    {
      "cell_type": "markdown",
      "metadata": {
        "id": "YZKN_qmmq6hR"
      },
      "source": [
        "## Deep RNNs\n",
        "\n",
        "What about adding additional layers of recursive units? It is actually quite straightforward to stack multiple layers of recursive units on top of each other. \n",
        "\n",
        "<center><img src=\"https://drive.google.com/uc?id=17Jyn1BBQ9zxCi1BBTMcBZAlILjVykYht\" ></center>\n",
        "\n"
      ]
    },
    {
      "cell_type": "markdown",
      "metadata": {
        "id": "P3XNOlQXq6hQ"
      },
      "source": [
        "### Training a Deep RNN"
      ]
    },
    {
      "cell_type": "code",
      "metadata": {
        "id": "J1feDVhfq6hQ"
      },
      "source": [
        "# Let's up the challenge a little bit. \n",
        "# What if instead we wanted to predict the next 10 time steps?\n",
        "\n",
        "n_steps = 50\n",
        "series = generate_time_series(10000, n_steps + 10)\n",
        "X_train, y_train = series[:7000, :n_steps], series[:7000, -10:, 0]\n",
        "X_valid, y_valid = series[7000:9000, :n_steps], series[7000:9000, -10:, 0]\n",
        "X_test, y_test = series[9000:, :n_steps], series[9000:, -10:, 0]"
      ],
      "execution_count": null,
      "outputs": []
    },
    {
      "cell_type": "code",
      "metadata": {
        "colab": {
          "base_uri": "https://localhost:8080/"
        },
        "id": "G0oHmK7Rq6hQ",
        "outputId": "e222096d-f1cd-4908-9a13-1d4725751de4"
      },
      "source": [
        "# the input will be a sequence of length 50, \n",
        "# the predicted output is a sequence of length 10\n",
        "X_train[0].shape, y_train[0].shape"
      ],
      "execution_count": null,
      "outputs": [
        {
          "output_type": "execute_result",
          "data": {
            "text/plain": [
              "((50, 1), (10,))"
            ]
          },
          "metadata": {},
          "execution_count": 14
        }
      ]
    },
    {
      "cell_type": "code",
      "metadata": {
        "colab": {
          "base_uri": "https://localhost:8080/"
        },
        "id": "g1ti2O_Pq6hR",
        "outputId": "560a706e-285e-41d7-f3e2-ff8338d9225f"
      },
      "source": [
        "# to solve this problem, we'll use a deep RNN; the only extra detail is that\n",
        "# we need to explicitly set \"return_sequences=True\", so that we are passing\n",
        "# the entire sequence predicted by earlier layers to the layers above;\n",
        "# note that for the last layer, we are still getting our prediction from the\n",
        "# last time step only, so technically this is still a many-to-one prediction problem, \n",
        "# even though the output on the last time step is a vector\n",
        "model = keras.models.Sequential(\n",
        "    [\n",
        "        keras.layers.SimpleRNN(20, return_sequences=True, input_shape=[None, 1]),\n",
        "        keras.layers.SimpleRNN(20), \n",
        "        keras.layers.Dense(10)\n",
        "    ]\n",
        ")\n",
        "\n",
        "optimizer = keras.optimizers.Adam(lr=0.005)\n",
        "model.compile(loss=\"mse\", optimizer=optimizer)\n",
        "history = model.fit(\n",
        "    X_train, \n",
        "    y_train, \n",
        "    epochs=10, \n",
        "    validation_data=(X_valid, y_valid)\n",
        ")"
      ],
      "execution_count": null,
      "outputs": [
        {
          "output_type": "stream",
          "name": "stdout",
          "text": [
            "Epoch 1/10\n",
            "219/219 [==============================] - 20s 85ms/step - loss: 0.0457 - val_loss: 0.0234\n",
            "Epoch 2/10\n",
            "219/219 [==============================] - 17s 78ms/step - loss: 0.0210 - val_loss: 0.0156\n",
            "Epoch 3/10\n",
            "219/219 [==============================] - 17s 78ms/step - loss: 0.0168 - val_loss: 0.0143\n",
            "Epoch 4/10\n",
            "219/219 [==============================] - 17s 78ms/step - loss: 0.0162 - val_loss: 0.0143\n",
            "Epoch 5/10\n",
            "219/219 [==============================] - 17s 78ms/step - loss: 0.0145 - val_loss: 0.0165\n",
            "Epoch 6/10\n",
            "219/219 [==============================] - 17s 78ms/step - loss: 0.0137 - val_loss: 0.0132\n",
            "Epoch 7/10\n",
            "219/219 [==============================] - 18s 83ms/step - loss: 0.0123 - val_loss: 0.0101\n",
            "Epoch 8/10\n",
            "219/219 [==============================] - 17s 78ms/step - loss: 0.0121 - val_loss: 0.0122\n",
            "Epoch 9/10\n",
            "219/219 [==============================] - 17s 79ms/step - loss: 0.0132 - val_loss: 0.0127\n",
            "Epoch 10/10\n",
            "219/219 [==============================] - 17s 78ms/step - loss: 0.0121 - val_loss: 0.0108\n"
          ]
        }
      ]
    },
    {
      "cell_type": "code",
      "metadata": {
        "colab": {
          "base_uri": "https://localhost:8080/",
          "height": 302
        },
        "id": "Gl8Zm9mHq6hR",
        "outputId": "445c61e1-cb66-44e5-813d-38cd3b928601"
      },
      "source": [
        "plot_learning_curves(history)"
      ],
      "execution_count": null,
      "outputs": [
        {
          "output_type": "display_data",
          "data": {
            "text/plain": [
              "<Figure size 432x288 with 1 Axes>"
            ],
            "image/png": "[encoded data removed]"
          },
          "metadata": {
            "needs_background": "light"
          }
        }
      ]
    },
    {
      "cell_type": "code",
      "source": [
        "X_test[0].shape"
      ],
      "metadata": {
        "colab": {
          "base_uri": "https://localhost:8080/"
        },
        "id": "POI5jeJGeduG",
        "outputId": "83bad4a8-9a93-4771-cca1-9c3c405e7b61"
      },
      "execution_count": null,
      "outputs": [
        {
          "output_type": "execute_result",
          "data": {
            "text/plain": [
              "(50, 1)"
            ]
          },
          "metadata": {},
          "execution_count": 17
        }
      ]
    },
    {
      "cell_type": "code",
      "source": [
        "y_test[0].shape"
      ],
      "metadata": {
        "colab": {
          "base_uri": "https://localhost:8080/"
        },
        "id": "f_dAyaXpeiB8",
        "outputId": "ba674319-cbcf-43fe-9ff8-2a28aacf86f3"
      },
      "execution_count": null,
      "outputs": [
        {
          "output_type": "execute_result",
          "data": {
            "text/plain": [
              "(10,)"
            ]
          },
          "metadata": {},
          "execution_count": 18
        }
      ]
    },
    {
      "cell_type": "code",
      "source": [
        "model.predict(X_test[0])[-1].shape"
      ],
      "metadata": {
        "colab": {
          "base_uri": "https://localhost:8080/"
        },
        "id": "IBOPysbcerEE",
        "outputId": "57b65fce-4bdc-4c39-81ef-b6ba5f7f5631"
      },
      "execution_count": null,
      "outputs": [
        {
          "output_type": "stream",
          "name": "stdout",
          "text": [
            "2/2 [==============================] - 0s 6ms/step\n"
          ]
        },
        {
          "output_type": "execute_result",
          "data": {
            "text/plain": [
              "(10,)"
            ]
          },
          "metadata": {},
          "execution_count": 19
        }
      ]
    },
    {
      "cell_type": "code",
      "source": [
        "# a plot of our predictions will give us a better impression\n",
        "# of how we did\n",
        "def plot_forecast(model, X_sample, y_sample):\n",
        "\n",
        "    plt.plot([x for x in range(50)], X_sample, marker=\".\")\n",
        "    plt.plot([x for x in range(50,60)], y_sample, color=\"red\", marker=\"o\")\n",
        "    plt.plot([x for x in range(50,60)], model.predict(X_sample)[-1], color=\"blue\", marker=\"x\")\n",
        "    plt.xlabel(\"t\")\n",
        "    plt.ylabel(\"x(t)\")\n",
        "    plt.legend([\"Input\", \"Actual\", \"Forecast\"])\n",
        "    plt.show()\n",
        "\n",
        "\n",
        "sample_id = 0\n",
        "plot_forecast(model, X_test[sample_id], y_test[sample_id])\n"
      ],
      "metadata": {
        "colab": {
          "base_uri": "https://localhost:8080/",
          "height": 303
        },
        "id": "jqCTbU4saCYl",
        "outputId": "cb3f805f-1062-4557-b094-68d07744e3af"
      },
      "execution_count": null,
      "outputs": [
        {
          "output_type": "stream",
          "name": "stdout",
          "text": [
            "2/2 [==============================] - 0s 5ms/step\n"
          ]
        },
        {
          "output_type": "display_data",
          "data": {
            "text/plain": [
              "<Figure size 432x288 with 1 Axes>"
            ],
            "image/png": "[encoded data removed]"
          },
          "metadata": {
            "needs_background": "light"
          }
        }
      ]
    },
    {
      "cell_type": "code",
      "source": [
        "sample_id = 3\n",
        "plot_forecast(model, X_test[sample_id], y_test[sample_id])"
      ],
      "metadata": {
        "colab": {
          "base_uri": "https://localhost:8080/",
          "height": 303
        },
        "id": "8kQ32poIfznW",
        "outputId": "7d2d4047-44bb-4c4e-fe99-b5b86e830ccf"
      },
      "execution_count": null,
      "outputs": [
        {
          "output_type": "stream",
          "name": "stdout",
          "text": [
            "2/2 [==============================] - 0s 6ms/step\n"
          ]
        },
        {
          "output_type": "display_data",
          "data": {
            "text/plain": [
              "<Figure size 432x288 with 1 Axes>"
            ],
            "image/png": "[encoded data removed]"
          },
          "metadata": {
            "needs_background": "light"
          }
        }
      ]
    },
    {
      "cell_type": "code",
      "source": [
        "sample_id = 4\n",
        "plot_forecast(model, X_test[sample_id], y_test[sample_id])"
      ],
      "metadata": {
        "colab": {
          "base_uri": "https://localhost:8080/",
          "height": 303
        },
        "id": "NZGa-fUqfnna",
        "outputId": "c99dbcae-c248-4db2-e34d-0b8e46cc07b0"
      },
      "execution_count": null,
      "outputs": [
        {
          "output_type": "stream",
          "name": "stdout",
          "text": [
            "2/2 [==============================] - 0s 6ms/step\n"
          ]
        },
        {
          "output_type": "display_data",
          "data": {
            "text/plain": [
              "<Figure size 432x288 with 1 Axes>"
            ],
            "image/png": "[encoded data removed]"
          },
          "metadata": {
            "needs_background": "light"
          }
        }
      ]
    },
    {
      "cell_type": "code",
      "metadata": {
        "colab": {
          "base_uri": "https://localhost:8080/"
        },
        "id": "ajUciReSHJZ8",
        "scrolled": true,
        "outputId": "09571848-82b5-40c0-89df-82ec4dde59ca"
      },
      "source": [
        "model.summary()"
      ],
      "execution_count": null,
      "outputs": [
        {
          "output_type": "stream",
          "name": "stdout",
          "text": [
            "Model: \"sequential_2\"\n",
            "_________________________________________________________________\n",
            " Layer (type)                Output Shape              Param #   \n",
            "=================================================================\n",
            " simple_rnn_2 (SimpleRNN)    (None, None, 20)          440       \n",
            "                                                                 \n",
            " simple_rnn_3 (SimpleRNN)    (None, 20)                820       \n",
            "                                                                 \n",
            " dense_1 (Dense)             (None, 10)                210       \n",
            "                                                                 \n",
            "=================================================================\n",
            "Total params: 1,470\n",
            "Trainable params: 1,470\n",
            "Non-trainable params: 0\n",
            "_________________________________________________________________\n"
          ]
        }
      ]
    },
    {
      "cell_type": "markdown",
      "metadata": {
        "id": "NFlxGTgwq6hS"
      },
      "source": [
        "# Applying Dropout\n",
        "\n",
        "- If you build a very deep RNN, it may end up overfitting the training set. \n",
        "    - To prevent that, a common technique is to apply dropout\n",
        "- There are two arguments in Keras RNN layers that you can use \n",
        "    - **dropout**: Float between 0 and 1. Fraction of the units to drop for the linear transformation of the inputs.\n",
        "    - **recurrent_dropout**: Float between 0 and 1. Fraction of the units to drop for the linear transformation of the recurrent state."
      ]
    },
    {
      "cell_type": "code",
      "metadata": {
        "colab": {
          "base_uri": "https://localhost:8080/"
        },
        "id": "QBKx5lL4q6hS",
        "outputId": "79e7cceb-5730-443e-a30e-a2f442b7d2c8"
      },
      "source": [
        "# this is just a 'dummy' dataset, to show you how to apply dropout\n",
        "# to RNNs\n",
        "(X_train, y_train), (X_test, y_test) = tf.keras.datasets.mnist.load_data()\n",
        "X_train = X_train / np.float64(255.0)\n",
        "X_test = X_test / np.float64(255.0)\n",
        "\n",
        "model = keras.models.Sequential([\n",
        "    keras.layers.SimpleRNN(\n",
        "        150, \n",
        "        input_shape=(None,28), \n",
        "        return_sequences=True , \n",
        "        dropout=0.5, \n",
        "        recurrent_dropout=0.5\n",
        "    ),  \n",
        "    keras.layers.SimpleRNN(15),  \n",
        "    keras.layers.Dense(10, activation='softmax'),\n",
        "])\n",
        "\n",
        "model.compile(loss=\"sparse_categorical_crossentropy\", optimizer=\"adam\", metrics=['accuracy'])\n",
        "history = model.fit(X_train, y_train, epochs=2, validation_data=(X_test, y_test))"
      ],
      "execution_count": null,
      "outputs": [
        {
          "output_type": "stream",
          "name": "stdout",
          "text": [
            "Downloading data from https://storage.googleapis.com/tensorflow/tf-keras-datasets/mnist.npz\n",
            "11490434/11490434 [==============================] - 0s 0us/step\n",
            "Epoch 1/2\n",
            "1875/1875 [==============================] - 66s 35ms/step - loss: 1.7467 - accuracy: 0.3649 - val_loss: 1.2536 - val_accuracy: 0.5577\n",
            "Epoch 2/2\n",
            "1875/1875 [==============================] - 64s 34ms/step - loss: 1.3364 - accuracy: 0.5162 - val_loss: 1.1576 - val_accuracy: 0.5789\n"
          ]
        }
      ]
    },
    {
      "cell_type": "markdown",
      "source": [
        "What about other tricks, like batch normalization? It turns out that BatchNorm cannot be used efficiently with RNNs. Empirical studies have shown that they have next to no effect. A better approach is a technique called Layer Normalization, where instead of normalizing across the batch, you normalize across the feature dimension. There is an example implementation of this on page 513 of the Géron textbook (Hands-On ML, 2nd Ed.). "
      ],
      "metadata": {
        "id": "l1_nzlPseyb7"
      }
    },
    {
      "cell_type": "markdown",
      "metadata": {
        "id": "rnB4zIsBgXxh"
      },
      "source": [
        "# Stock Prediction Example\n",
        "\n",
        "Let's take what we've learned so far and apply it to a more interesting challenge: predicting stock prices. The main lesson here will be how to prepare your dataset when you are dealing with a single time series. "
      ]
    },
    {
      "cell_type": "code",
      "metadata": {
        "id": "EEFjt3t69EDE"
      },
      "source": [
        "import warnings\n",
        "warnings.filterwarnings(\"ignore\")\n",
        "import tensorflow as tf\n",
        "import numpy as np\n",
        "import pandas as pd"
      ],
      "execution_count": null,
      "outputs": []
    },
    {
      "cell_type": "markdown",
      "metadata": {
        "id": "N5OLQWpvhYqQ"
      },
      "source": [
        "In this case, we'll attempt to predict the stock price of \"Altaba\", which was an investment company formed from the ashes of Yahoo Inc after Verizon aquired Yahoo's Internet business. An extract of the stock price has been saved out to `aaba.us.txt` and is downloaded below. "
      ]
    },
    {
      "cell_type": "code",
      "metadata": {
        "colab": {
          "base_uri": "https://localhost:8080/",
          "height": 285
        },
        "id": "_hXdf-aK7sIB",
        "outputId": "4f70bfe4-27c5-474d-cab8-54502d2e781e"
      },
      "source": [
        "df_prices = pd.read_csv(\"https://drive.google.com/uc?id=1X4-nW8phAY6H5FrPhEembOyJ8zmIG1Cz\")\n",
        "df_prices['Close'].plot()"
      ],
      "execution_count": null,
      "outputs": [
        {
          "output_type": "execute_result",
          "data": {
            "text/plain": [
              "<matplotlib.axes._subplots.AxesSubplot at 0x7fdead1e8fd0>"
            ]
          },
          "metadata": {},
          "execution_count": 31
        },
        {
          "output_type": "display_data",
          "data": {
            "text/plain": [
              "<Figure size 432x288 with 1 Axes>"
            ],
            "image/png": "[encoded data removed]"
          },
          "metadata": {
            "needs_background": "light"
          }
        }
      ]
    },
    {
      "cell_type": "code",
      "metadata": {
        "id": "Kj7zHzWdNJ52"
      },
      "source": [
        "prices = df_prices['Close'].values\n",
        "\n",
        "# first let's split the data into a training set we'll learn from, \n",
        "# and a validation set we'll try to predict\n",
        "split_time = 4000\n",
        "training = prices[:split_time]\n",
        "holdout = prices[split_time:]"
      ],
      "execution_count": null,
      "outputs": []
    },
    {
      "cell_type": "markdown",
      "metadata": {
        "id": "qEksJLFRyn5P"
      },
      "source": [
        "Since we have only one time series, we need to further sub-divide it into slices of smaller 'training' and 'target' data subsets. \n",
        "\n",
        "\n"
      ]
    },
    {
      "cell_type": "code",
      "source": [
        "# we need to create smaller subsets of our 'training' data so that\n",
        "# our model has multiple samples to train/predict on\n",
        "\n",
        "# to assist we'll use the helper function below\n",
        "\n",
        "_a = np.array([1, 2, 3, 4, 5, 6, 7])\n",
        "\n",
        "def sliding_window(data, window_size):\n",
        "    # splits our data into windows of the specified size, with stride of 1\n",
        "    shape = data.shape[:-1] + (data.shape[-1] - window_size + 1, window_size)\n",
        "    strides = data.strides + (data.strides[-1],)\n",
        "    return np.lib.stride_tricks.as_strided(data, shape=shape, strides=strides)\n",
        "\n",
        "sliding_window(_a, window_size=3)"
      ],
      "metadata": {
        "colab": {
          "base_uri": "https://localhost:8080/"
        },
        "id": "oSeljrAPF1Rd",
        "outputId": "d7a9b2e5-bdf1-4d3d-f975-82a7200f2b18"
      },
      "execution_count": null,
      "outputs": [
        {
          "output_type": "execute_result",
          "data": {
            "text/plain": [
              "array([[1, 2, 3],\n",
              "       [2, 3, 4],\n",
              "       [3, 4, 5],\n",
              "       [4, 5, 6],\n",
              "       [5, 6, 7]])"
            ]
          },
          "metadata": {},
          "execution_count": 240
        }
      ]
    },
    {
      "cell_type": "code",
      "source": [
        "def windowed_dataset(data, window_size):\n",
        "\n",
        "  splits = sliding_window(data, window_size)\n",
        "\n",
        "  # split each window into X_ and y_ components; y_ will be \n",
        "  # the final element of the sequence within that window\n",
        "  X_ = np.array([window[:-1] for window in splits])\n",
        "  y_ = np.array([window[-1:] for window in splits])\n",
        "\n",
        "  return X_, y_\n",
        "\n",
        "X_train, y_train = windowed_dataset(training, window_size=50)\n",
        "print(f\"X_train shape: {X_train.shape}\")\n",
        "print(f\"y_train shape: {y_train.shape}\")"
      ],
      "metadata": {
        "colab": {
          "base_uri": "https://localhost:8080/"
        },
        "id": "yv3CZZ0jGoJd",
        "outputId": "1fc7e9c4-408f-4d87-eb2a-79f75b62c4ba"
      },
      "execution_count": null,
      "outputs": [
        {
          "output_type": "stream",
          "name": "stdout",
          "text": [
            "X_train shape: (3951, 49)\n",
            "y_train shape: (3951, 1)\n"
          ]
        }
      ]
    },
    {
      "cell_type": "code",
      "source": [
        "X_valid, y_valid = windowed_dataset(holdout, window_size=50)\n",
        "print(f\"X_valid shape: {X_valid.shape}\")\n",
        "print(f\"y_valid shape: {y_valid.shape}\")"
      ],
      "metadata": {
        "colab": {
          "base_uri": "https://localhost:8080/"
        },
        "id": "vzco4bXrAklw",
        "outputId": "883b9336-040e-4b89-fb96-76214591d81a"
      },
      "execution_count": null,
      "outputs": [
        {
          "output_type": "stream",
          "name": "stdout",
          "text": [
            "X_valid shape: (1385, 49)\n",
            "y_valid shape: (1385, 1)\n"
          ]
        }
      ]
    },
    {
      "cell_type": "code",
      "metadata": {
        "colab": {
          "base_uri": "https://localhost:8080/"
        },
        "id": "-_ibtOJe8oUA",
        "outputId": "7646138b-7eab-4c85-a8ad-4bdd5d7971bc"
      },
      "source": [
        "# train the model\n",
        "model = tf.keras.models.Sequential([\n",
        "    # this first layer merely reshapes our input\n",
        "    tf.keras.layers.Lambda(\n",
        "        lambda x: tf.expand_dims(x, axis=-1), \n",
        "        input_shape=[None]\n",
        "    ),\n",
        "    tf.keras.layers.SimpleRNN(40, activation=\"tanh\"),\n",
        "    tf.keras.layers.Dense(1),\n",
        "])\n",
        "\n",
        "optimizer = tf.keras.optimizers.Adam(lr=1e-2)\n",
        "model.compile(\n",
        "    loss=tf.keras.losses.MAE,\n",
        "    optimizer=optimizer,\n",
        "    metrics=[\"mae\"]\n",
        ")\n",
        "history = model.fit(X_train, y_train, batch_size=128, epochs=50, validation_data=(X_valid, y_valid))"
      ],
      "execution_count": null,
      "outputs": [
        {
          "output_type": "stream",
          "name": "stdout",
          "text": [
            "Epoch 1/50\n",
            "31/31 [==============================] - 3s 90ms/step - loss: 3.8513 - mae: 3.8513 - val_loss: 1.0042 - val_mae: 1.0042\n",
            "Epoch 2/50\n",
            "31/31 [==============================] - 1s 39ms/step - loss: 1.0110 - mae: 1.0110 - val_loss: 0.5963 - val_mae: 0.5963\n",
            "Epoch 3/50\n",
            "31/31 [==============================] - 1s 34ms/step - loss: 0.8114 - mae: 0.8114 - val_loss: 1.1084 - val_mae: 1.1084\n",
            "Epoch 4/50\n",
            "31/31 [==============================] - 1s 33ms/step - loss: 0.7900 - mae: 0.7900 - val_loss: 0.7699 - val_mae: 0.7699\n",
            "Epoch 5/50\n",
            "31/31 [==============================] - 1s 35ms/step - loss: 0.7603 - mae: 0.7603 - val_loss: 0.6276 - val_mae: 0.6276\n",
            "Epoch 6/50\n",
            "31/31 [==============================] - 1s 35ms/step - loss: 0.7415 - mae: 0.7415 - val_loss: 0.7367 - val_mae: 0.7367\n",
            "Epoch 7/50\n",
            "31/31 [==============================] - 1s 35ms/step - loss: 0.6943 - mae: 0.6943 - val_loss: 0.8245 - val_mae: 0.8245\n",
            "Epoch 8/50\n",
            "31/31 [==============================] - 1s 34ms/step - loss: 0.6781 - mae: 0.6781 - val_loss: 0.5438 - val_mae: 0.5438\n",
            "Epoch 9/50\n",
            "31/31 [==============================] - 1s 34ms/step - loss: 0.6632 - mae: 0.6632 - val_loss: 0.6139 - val_mae: 0.6139\n",
            "Epoch 10/50\n",
            "31/31 [==============================] - 1s 34ms/step - loss: 0.6713 - mae: 0.6713 - val_loss: 0.5680 - val_mae: 0.5680\n",
            "Epoch 11/50\n",
            "31/31 [==============================] - 1s 34ms/step - loss: 0.7318 - mae: 0.7318 - val_loss: 1.2562 - val_mae: 1.2562\n",
            "Epoch 12/50\n",
            "31/31 [==============================] - 1s 35ms/step - loss: 0.7455 - mae: 0.7455 - val_loss: 0.5415 - val_mae: 0.5415\n",
            "Epoch 13/50\n",
            "31/31 [==============================] - 1s 35ms/step - loss: 0.6374 - mae: 0.6374 - val_loss: 0.4845 - val_mae: 0.4845\n",
            "Epoch 14/50\n",
            "31/31 [==============================] - 1s 34ms/step - loss: 0.6306 - mae: 0.6306 - val_loss: 0.4792 - val_mae: 0.4792\n",
            "Epoch 15/50\n",
            "31/31 [==============================] - 1s 34ms/step - loss: 0.6809 - mae: 0.6809 - val_loss: 0.5366 - val_mae: 0.5366\n",
            "Epoch 16/50\n",
            "31/31 [==============================] - 1s 34ms/step - loss: 0.7144 - mae: 0.7144 - val_loss: 0.8623 - val_mae: 0.8623\n",
            "Epoch 17/50\n",
            "31/31 [==============================] - 1s 33ms/step - loss: 0.6520 - mae: 0.6520 - val_loss: 0.8631 - val_mae: 0.8631\n",
            "Epoch 18/50\n",
            "31/31 [==============================] - 1s 34ms/step - loss: 0.6323 - mae: 0.6323 - val_loss: 0.5048 - val_mae: 0.5048\n",
            "Epoch 19/50\n",
            "31/31 [==============================] - 1s 35ms/step - loss: 0.6653 - mae: 0.6653 - val_loss: 0.5134 - val_mae: 0.5134\n",
            "Epoch 20/50\n",
            "31/31 [==============================] - 1s 33ms/step - loss: 0.6316 - mae: 0.6316 - val_loss: 0.6739 - val_mae: 0.6739\n",
            "Epoch 21/50\n",
            "31/31 [==============================] - 1s 34ms/step - loss: 0.6291 - mae: 0.6291 - val_loss: 0.5021 - val_mae: 0.5021\n",
            "Epoch 22/50\n",
            "31/31 [==============================] - 1s 32ms/step - loss: 0.6392 - mae: 0.6392 - val_loss: 0.5100 - val_mae: 0.5100\n",
            "Epoch 23/50\n",
            "31/31 [==============================] - 1s 32ms/step - loss: 0.6078 - mae: 0.6078 - val_loss: 0.5098 - val_mae: 0.5098\n",
            "Epoch 24/50\n",
            "31/31 [==============================] - 1s 33ms/step - loss: 0.6406 - mae: 0.6406 - val_loss: 0.5001 - val_mae: 0.5001\n",
            "Epoch 25/50\n",
            "31/31 [==============================] - 1s 34ms/step - loss: 0.5967 - mae: 0.5967 - val_loss: 0.4632 - val_mae: 0.4632\n",
            "Epoch 26/50\n",
            "31/31 [==============================] - 1s 34ms/step - loss: 0.6175 - mae: 0.6175 - val_loss: 0.5191 - val_mae: 0.5191\n",
            "Epoch 27/50\n",
            "31/31 [==============================] - 1s 34ms/step - loss: 0.6209 - mae: 0.6209 - val_loss: 0.6239 - val_mae: 0.6239\n",
            "Epoch 28/50\n",
            "31/31 [==============================] - 1s 34ms/step - loss: 0.6449 - mae: 0.6449 - val_loss: 0.4930 - val_mae: 0.4930\n",
            "Epoch 29/50\n",
            "31/31 [==============================] - 1s 34ms/step - loss: 0.6075 - mae: 0.6075 - val_loss: 0.5149 - val_mae: 0.5149\n",
            "Epoch 30/50\n",
            "31/31 [==============================] - 1s 35ms/step - loss: 0.6246 - mae: 0.6246 - val_loss: 0.7069 - val_mae: 0.7069\n",
            "Epoch 31/50\n",
            "31/31 [==============================] - 1s 33ms/step - loss: 0.6248 - mae: 0.6248 - val_loss: 0.5174 - val_mae: 0.5174\n",
            "Epoch 32/50\n",
            "31/31 [==============================] - 1s 34ms/step - loss: 0.6530 - mae: 0.6530 - val_loss: 0.4664 - val_mae: 0.4664\n",
            "Epoch 33/50\n",
            "31/31 [==============================] - 1s 34ms/step - loss: 0.6235 - mae: 0.6235 - val_loss: 0.4718 - val_mae: 0.4718\n",
            "Epoch 34/50\n",
            "31/31 [==============================] - 1s 32ms/step - loss: 0.6089 - mae: 0.6089 - val_loss: 0.6651 - val_mae: 0.6651\n",
            "Epoch 35/50\n",
            "31/31 [==============================] - 1s 35ms/step - loss: 0.6082 - mae: 0.6082 - val_loss: 0.4892 - val_mae: 0.4892\n",
            "Epoch 36/50\n",
            "31/31 [==============================] - 1s 35ms/step - loss: 0.6028 - mae: 0.6028 - val_loss: 0.5413 - val_mae: 0.5413\n",
            "Epoch 37/50\n",
            "31/31 [==============================] - 1s 34ms/step - loss: 0.6074 - mae: 0.6074 - val_loss: 0.6549 - val_mae: 0.6549\n",
            "Epoch 38/50\n",
            "31/31 [==============================] - 1s 34ms/step - loss: 0.6308 - mae: 0.6308 - val_loss: 0.5492 - val_mae: 0.5492\n",
            "Epoch 39/50\n",
            "31/31 [==============================] - 1s 33ms/step - loss: 0.6003 - mae: 0.6003 - val_loss: 0.5460 - val_mae: 0.5460\n",
            "Epoch 40/50\n",
            "31/31 [==============================] - 1s 33ms/step - loss: 0.6415 - mae: 0.6415 - val_loss: 0.5363 - val_mae: 0.5363\n",
            "Epoch 41/50\n",
            "31/31 [==============================] - 1s 33ms/step - loss: 0.6177 - mae: 0.6177 - val_loss: 0.4871 - val_mae: 0.4871\n",
            "Epoch 42/50\n",
            "31/31 [==============================] - 1s 34ms/step - loss: 0.6210 - mae: 0.6210 - val_loss: 0.4797 - val_mae: 0.4797\n",
            "Epoch 43/50\n",
            "31/31 [==============================] - 1s 36ms/step - loss: 0.5985 - mae: 0.5985 - val_loss: 0.5285 - val_mae: 0.5285\n",
            "Epoch 44/50\n",
            "31/31 [==============================] - 1s 35ms/step - loss: 0.6004 - mae: 0.6004 - val_loss: 0.5073 - val_mae: 0.5073\n",
            "Epoch 45/50\n",
            "31/31 [==============================] - 1s 35ms/step - loss: 0.5987 - mae: 0.5987 - val_loss: 0.5518 - val_mae: 0.5518\n",
            "Epoch 46/50\n",
            "31/31 [==============================] - 1s 33ms/step - loss: 0.6412 - mae: 0.6412 - val_loss: 0.5203 - val_mae: 0.5203\n",
            "Epoch 47/50\n",
            "31/31 [==============================] - 1s 35ms/step - loss: 0.6167 - mae: 0.6167 - val_loss: 0.7495 - val_mae: 0.7495\n",
            "Epoch 48/50\n",
            "31/31 [==============================] - 1s 34ms/step - loss: 0.6382 - mae: 0.6382 - val_loss: 0.5859 - val_mae: 0.5859\n",
            "Epoch 49/50\n",
            "31/31 [==============================] - 1s 33ms/step - loss: 0.6093 - mae: 0.6093 - val_loss: 0.5662 - val_mae: 0.5662\n",
            "Epoch 50/50\n",
            "31/31 [==============================] - 1s 33ms/step - loss: 0.6020 - mae: 0.6020 - val_loss: 0.4925 - val_mae: 0.4925\n"
          ]
        }
      ]
    },
    {
      "cell_type": "code",
      "source": [
        "# let's examine the learning curves\n",
        "def plot_learning_curves(history):\n",
        "\n",
        "  plt.plot(history.history['loss'])\n",
        "  plt.plot(history.history['val_loss'])\n",
        "  plt.title('Mean Squared Error')\n",
        "  plt.ylabel('MSE')\n",
        "  plt.xlabel('epoch')\n",
        "  plt.legend(['train', 'val'], loc='upper left')\n",
        "  plt.show()\n",
        "\n",
        "plot_learning_curves(history)"
      ],
      "metadata": {
        "colab": {
          "base_uri": "https://localhost:8080/",
          "height": 302
        },
        "id": "4QZ8U50SIzzT",
        "outputId": "e8156cdd-67c8-45d3-90ec-8c8316fcb209"
      },
      "execution_count": null,
      "outputs": [
        {
          "output_type": "display_data",
          "data": {
            "text/plain": [
              "<Figure size 432x288 with 1 Axes>"
            ],
            "image/png": "[encoded data removed]"
          },
          "metadata": {
            "needs_background": "light"
          }
        }
      ]
    },
    {
      "cell_type": "code",
      "source": [
        "# let's visualize how good our network is at predicting the _next_ value only;\n",
        "# we'll repeat this for all datapoints in our holdout set, but we'll always\n",
        "# feed the RNN the 'ground truth' for the input\n",
        "\n",
        "def predict_next_step(data, input_sequence_size, num_preds=200):\n",
        "\n",
        "  ground_truth = np.expand_dims(data, axis=0)\n",
        "\n",
        "  y_preds = []\n",
        "  for step in range(num_preds):\n",
        "\n",
        "    X_in = ground_truth[:, step:step+input_sequence_size]\n",
        "  \n",
        "    y_pred_one = model.predict(X_in, verbose=0)\n",
        "    y_preds.append(y_pred_one)\n",
        "\n",
        "\n",
        "  return np.concatenate(y_preds).ravel()\n",
        "\n",
        "preds = predict_next_step(data=holdout, input_sequence_size=49)"
      ],
      "metadata": {
        "id": "KXoWY0qdP2-4"
      },
      "execution_count": null,
      "outputs": []
    },
    {
      "cell_type": "code",
      "source": [
        "def plot_performance(preds, true):\n",
        "\n",
        "  N = len(preds)\n",
        "  _true = true[:N]\n",
        "\n",
        "  t = [x for x in range(N)]\n",
        "\n",
        "  plt.plot(t, preds, color=\"red\")\n",
        "  plt.plot(t, _true, color=\"blue\")\n",
        "  plt.legend([\"predicted\", \"true\"])\n",
        "  plt.show()\n",
        "\n",
        "plot_performance(preds, holdout[49:])"
      ],
      "metadata": {
        "colab": {
          "base_uri": "https://localhost:8080/",
          "height": 268
        },
        "id": "yAwX7l1fRHzH",
        "outputId": "e97c3dea-5ea8-4e38-e0a7-a29fadc591ca"
      },
      "execution_count": null,
      "outputs": [
        {
          "output_type": "display_data",
          "data": {
            "text/plain": [
              "<Figure size 432x288 with 1 Axes>"
            ],
            "image/png": "[encoded data removed]"
          },
          "metadata": {
            "needs_background": "light"
          }
        }
      ]
    },
    {
      "cell_type": "markdown",
      "source": [
        "This network seems to do alright at predicting the next value. However, it might simply be guessing a value that is close to the last in the sequence. If we wanted to be able to trust our network to provide us with predictions far into the future, we would be better off attempting to predict the next $N$ timesteps, instead of the next one only. \n",
        "\n",
        "We leave this to you as an optional exercise if you'd like to try it. Hint: you'd also have to modify the `windowed_dataset` function to keep the last $N$ elements of each window. You might also want to try a deeper network.  "
      ],
      "metadata": {
        "id": "cb1balk8UTv6"
      }
    },
    {
      "cell_type": "markdown",
      "metadata": {
        "id": "z-rcDv_iq6hS"
      },
      "source": [
        "# Handling Long Sequences\n",
        "\n",
        "- To train an RNN on long sequences, you will need to run it over many time steps, making the unrolled RNN a very deep network. \n",
        "    - Just like any deep neural network it may suffer from the vanishing/exploding gradients problem and take a long time to train.\n",
        "\n",
        "\n",
        "- Even if you follow all the usual best practices (proper weight initialization, non-saturating activation functions, gradient clipping, faster optimizers, etc), training still tends to take a long time for RNNs. \n",
        "\n",
        "- One solution is to unroll the RNN only over a limited number of time steps during training (truncated backpropagation through time). \n",
        "    - It can be implemented by truncating the input sequences:\n",
        "        - Reduce `n_steps` during training. In this case, the model will not be able to learn long-term patterns. \n",
        "        - One workaround could be to make sure that these shortened sequences contain both old and recent data, so that the model can learn to use both.\n",
        "            - what if fine-grained data from last year is actually useful? What if there was a brief but significant event that absolutely must be taken into account, even years later?\n",
        "\n",
        "\n",
        "- For RNNs, the memory of the first inputs gradually fades away. Some information is lost after each time step. \n",
        "- After a while, the RNN’s state contains virtually no trace of the first inputs.\n",
        "    - For example, say you want to perform sentiment analysis on a long review that starts with the four words “I loved this movie,” but the rest of the review lists the many things that could have made the movie even better. \n",
        "    - If the RNN gradually forgets the first four words, it will completely misinterpret the review. \n",
        "    - To solve this problem, various types of cells with long-term memory have been introduced. "
      ]
    },
    {
      "cell_type": "markdown",
      "metadata": {
        "id": "qFD0iBrbq6hS"
      },
      "source": [
        "# LSTM Cell\n",
        "\n",
        "- The Long Short-Term Memory (LSTM) cell was proposed in 1973 by Sepp Hochreiter and Jürgen Schmidhuber.\n",
        "\n",
        "- An LSTM cell will:\n",
        "    - Converge faster while training\n",
        "    - Detect long-term dependencies in the data. \n",
        "    - In TensorFlow, replace `BasicRNNCell` with `BasicLSTMCell`\n",
        "        - `lstm_cell = tf.contrib.rnn.BasicLSTMCell(num_units=n_neurons)`\n",
        "\n",
        "\n",
        "\n",
        "- LSTM cells manage two state vectors, and for performance reasons they are kept separate by default. You can change this default behavior by setting `state_is_tuple=False`.\n",
        "\n",
        "\n",
        "- Architecture:\n",
        "\n",
        "<center><img src=\"https://drive.google.com/uc?id=1grOa1piS0PLeZS4Z1ZskQKXzXe8nhjLk\" ></center>"
      ]
    },
    {
      "cell_type": "markdown",
      "metadata": {
        "id": "lrPxvIRvq6hT"
      },
      "source": [
        "- The key idea is that the network can learn what to store in the long-term state, what to throw away, and what to read from it\n",
        "\n",
        "\n",
        "- The LSTM cell looks exactly like a regular cell, except that its state is split in two vectors: \n",
        "    - $h_{(t)}$ the short-term state and \n",
        "    - $c_{(t)}$ as the long-term state.\n",
        "\n",
        "\n",
        "- As the long-term state $c_{(t–1)}$ traverses the network:\n",
        "    - it first goes through a forget gate, dropping some memories, then \n",
        "    - adds some new memories via the addition operation.\n",
        "    - At each time step, some memories are dropped and some memories are added. \n",
        "    \n",
        "    \n",
        "- The long-term state is then copied and passed through the `tanh` function, the result is filtered by the output gate. This produces the short-term state $h_{(t)}$. "
      ]
    },
    {
      "cell_type": "markdown",
      "metadata": {
        "id": "pCWmnQBbq6hT"
      },
      "source": [
        "- Here is how it works. The current input vector $x_{(t)}$ and the previous short-term state $h_{(t-1)}$ are fed to four different fully connected layers. They all serve a different purpose:\n",
        "    - The main layer is the one that outputs $g_{(t)}$. It has the usual role of analyzing the current inputs $x_{(t)}$ and the previous $h_{(t-1)}$. \n",
        "        - In a basic cell, there is nothing else than this layer\n",
        "        - In an LSTM cell this layer’s output is partially stored in the long-term state.\n",
        "    - The three other layers are gate controllers. Their outputs range from 0 to 1. \n",
        "        - Their outputs are fed to element-wise multiplication operations, so if they output 0s, they close the gate, and if they output 1s, they open it. Specifically:\n",
        "            - The forget gate controls which parts of the long-term state should be erased.\n",
        "            - The input gate controls which parts of $g_{(t)}$ should be added to the long-term state \n",
        "            - The output gate controls which parts of the long-term state should be read and output at this time step.\n",
        "\n",
        "\n",
        "\n",
        "- An LSTM cell can learn to recognize an important input, store it in the long-term state, learn to preserve it for as long as it is needed, and learn to extract it whenever it is needed. \n",
        "\n",
        "- They have been amazingly successful at capturing long-term patterns in time series, long texts, audio recordings, and more.\n"
      ]
    },
    {
      "cell_type": "markdown",
      "metadata": {
        "id": "zGMRiraGq6hT"
      },
      "source": [
        "$$\n",
        "\\begin{aligned} \\mathbf{i}_{(t)} &=\\sigma\\left(\\mathbf{W}_{x i}^{T} \\mathbf{x}_{(t)}+\\mathbf{W}_{h i}^{T} \\mathbf{h}_{(t-1)}+\\mathbf{b}_{i}\\right) \\\\ \\mathbf{f}_{(t)} &=\\sigma\\left(\\mathbf{W}_{x f}^{T} \\mathbf{x}_{(t)}+\\mathbf{W}_{h f}^{T} \\mathbf{h}_{(t-1)}+\\mathbf{b}_{f}\\right) \\\\ \\mathbf{o}_{(t)} &=\\sigma\\left(\\mathbf{W}_{x o}{ }^{T} \\mathbf{x}_{(t)}+\\mathbf{W}_{h o}{ }^{T} \\mathbf{h}_{(t-1)}+\\mathbf{b}_{o}\\right) \\\\ \\mathbf{g}_{(t)} &=\\tanh \\left(\\mathbf{W}_{x g}{ }^{T} \\mathbf{x}_{(t)}+\\mathbf{W}_{h g}{ }^{T} \\mathbf{h}_{(t-1)}+\\mathbf{b}_{g}\\right) \\\\ \\mathbf{c}_{(t)} &=\\mathbf{f}_{(t)} \\otimes \\mathbf{c}_{(t-1)}+\\mathbf{i}_{(t)} \\otimes \\mathbf{g}_{(t)} \\\\ \\mathbf{y}_{(t)} &=\\mathbf{h}_{(t)}=\\mathbf{o}_{(t)} \\otimes \\tanh \\left(\\mathbf{c}_{(t)}\\right) \\end{aligned}\n",
        "$$\n",
        "\n",
        "$W_{xi}$, $W_{xf}$, $W_{xo}$, $W_{xg}$ are the weight matrices of each of the four layers for their connection to the input vector $x_{(t)}$.\n",
        "\n",
        "$W_{hi}$, $W_{hf}$, $W_{ho}$, and $W_{hg}$ are the weight matrices of each of the four layers for their connection to the previous short-term state $h_{(t–1)}$.\n",
        "\n",
        "$b_i$, $b_f$, $b_o$, and $b_g$ are the bias terms for each of the four layers."
      ]
    },
    {
      "cell_type": "markdown",
      "metadata": {
        "id": "j6UcYFZFq6hT"
      },
      "source": [
        "# Peephole Connections\n",
        "\n",
        "- It may be a good idea to give an RNN a bit more context by letting them peek at the long-term cell state $c_{(t)}$. \n",
        "    - An LSTM variant with peephole connections was proposed by Felix Gers and Jürgen Schmidhuber in 2006.\n",
        "        - The previous long-term state $c_{(t–1)}$ is added as an input to the controllers of the forget gate and the input gate, and the current long-term state $c_{(t)}$ is added as input to the controller of the output gate.\n",
        "\n",
        "$$\n",
        "\\begin{aligned} f_{t} &=\\sigma\\left(W_{f} \\cdot\\left[\\boldsymbol{C}_{t-1}, h_{t-1}, x_{t}\\right]+b_{f}\\right) \\\\ i_{t} &=\\sigma\\left(W_{i} \\cdot\\left[\\boldsymbol{C}_{t-1}, h_{t-1}, x_{t}\\right]+b_{i}\\right) \\\\ o_{t} &=\\sigma\\left(W_{o} \\cdot\\left[\\boldsymbol{C}_{t}, h_{t-1}, x_{t}\\right]+b_{o}\\right) \\end{aligned}\n",
        "$$\n",
        "\n",
        "In Keras, the LSTM layer is based on the keras.layers.LSTMCell cell, which does not support peepholes. However, the experimental tf.keras.experimental.PeepholeLSTMCell does, so you can create a keras.layers.RNN layer, passing a PeepholeLSTMCell to its constructor."
      ]
    },
    {
      "cell_type": "markdown",
      "metadata": {
        "id": "eFNUdEl-q6hT"
      },
      "source": [
        "### Practice with LSTM\n",
        "\n",
        "Utilizing an LSTM is straightforward. Below we show a minimalistic example. "
      ]
    },
    {
      "cell_type": "code",
      "metadata": {
        "id": "J58Id0Vkq6hT"
      },
      "source": [
        "# in this case, we are predicting an output sequence:\n",
        "# given timesteps 0 through 50, we want our network to\n",
        "# output timesteps 1 through 51\n",
        "n_steps = 50\n",
        "series = generate_time_series(10000, n_steps + 1)\n",
        "X_train, y_train = series[:7000, :n_steps], series[:7000, -50:]\n",
        "X_valid, y_valid = series[7000:9000, :n_steps], series[7000:9000, -50:]\n",
        "X_test, y_test = series[9000:, :n_steps], series[9000:, -50:]"
      ],
      "execution_count": null,
      "outputs": []
    },
    {
      "cell_type": "code",
      "metadata": {
        "colab": {
          "base_uri": "https://localhost:8080/"
        },
        "id": "AvPzxyaFq6hT",
        "outputId": "d7931350-494e-4dc3-a839-27207671c8ea"
      },
      "source": [
        "X_train[0].shape, y_train[0].shape"
      ],
      "execution_count": null,
      "outputs": [
        {
          "output_type": "execute_result",
          "data": {
            "text/plain": [
              "((50, 1), (50, 1))"
            ]
          },
          "metadata": {},
          "execution_count": 5
        }
      ]
    },
    {
      "cell_type": "code",
      "metadata": {
        "colab": {
          "base_uri": "https://localhost:8080/"
        },
        "id": "CxArNCevq6hT",
        "outputId": "33656ccc-b2ff-448e-8add-8d891c80032b"
      },
      "source": [
        "# this time we want to return the entire sequence, not just the last value\n",
        "model = keras.models.Sequential([\n",
        "    keras.layers.LSTM(\n",
        "        1, \n",
        "        input_shape=[None, 1], \n",
        "        activation='tanh', \n",
        "        return_sequences= True\n",
        "    ),\n",
        "])\n",
        "\n",
        "optimizer = keras.optimizers.Adam(lr=0.005)\n",
        "model.compile(loss=\"mse\", optimizer=optimizer)\n",
        "history = model.fit(X_train, y_train, epochs=2, validation_data=(X_valid, y_valid))"
      ],
      "execution_count": null,
      "outputs": [
        {
          "output_type": "stream",
          "name": "stdout",
          "text": [
            "Epoch 1/2\n",
            "219/219 [==============================] - 7s 8ms/step - loss: 0.1546 - val_loss: 0.1114\n",
            "Epoch 2/2\n",
            "219/219 [==============================] - 1s 6ms/step - loss: 0.1011 - val_loss: 0.0939\n"
          ]
        }
      ]
    },
    {
      "cell_type": "code",
      "metadata": {
        "colab": {
          "base_uri": "https://localhost:8080/"
        },
        "id": "MpX7iKY8q6hU",
        "outputId": "dcbda9c6-f267-4bdf-fa8a-907c4fe78f70"
      },
      "source": [
        "# suppose we want to add a dense layer to the output, which should be applied to\n",
        "# the output of every timestep\n",
        "model = keras.models.Sequential([\n",
        "    keras.layers.LSTM(\n",
        "        10, \n",
        "        input_shape=[None, 1], \n",
        "        activation='tanh', \n",
        "        return_sequences=True, \n",
        "        use_bias=True\n",
        "    ),\n",
        "    keras.layers.TimeDistributed(\n",
        "        keras.layers.Dense(1, activation='sigmoid',use_bias=True))\n",
        "])\n",
        "\n",
        "optimizer = keras.optimizers.Adam(lr=0.005)\n",
        "model.compile(loss=\"mse\", optimizer=optimizer)\n",
        "history = model.fit(X_train, y_train, epochs=2, validation_data=(X_valid, y_valid))"
      ],
      "execution_count": null,
      "outputs": [
        {
          "output_type": "stream",
          "name": "stdout",
          "text": [
            "Epoch 1/2\n",
            "219/219 [==============================] - 4s 11ms/step - loss: 0.1580 - val_loss: 0.1121\n",
            "Epoch 2/2\n",
            "219/219 [==============================] - 2s 10ms/step - loss: 0.0904 - val_loss: 0.0805\n"
          ]
        }
      ]
    },
    {
      "cell_type": "markdown",
      "metadata": {
        "id": "-mcHmseeq6hU"
      },
      "source": [
        "# GRU Cell\n",
        "\n",
        "\n",
        "- The Gated Recurrent Unit (GRU) cell was proposed by Kyunghyun Cho et al. in a 2014\n",
        "\n",
        "<center><img src=\"https://drive.google.com/uc?id=1CDtY4r0HKSOTzAsqeNlXbNqOsGetOtqW\" ></center>\n"
      ]
    },
    {
      "cell_type": "markdown",
      "metadata": {
        "id": "8IyjEL_hq6hU"
      },
      "source": [
        "- The GRU cell is a simplified version of the LSTM cell, and it seems to perform just as well:\n",
        "    - Both state vectors are merged into a single vector $h_{(t)}$.\n",
        "    - A single gate controller controls both the forget gate and the input gate:\n",
        "        - If the gate controller outputs a 1, the forget gate is open and the input gate is closed. \n",
        "        - If it outputs a 0, the opposite happens. \n",
        "        - Whenever a memory must be stored, the location is erased first. \n",
        "        \n",
        "    - There is no output gate; \n",
        "    - The full state vector is output at every time step. \n",
        "    - There is a new gate controller that controls which part of the previous state will be shown to the main layer."
      ]
    },
    {
      "cell_type": "markdown",
      "metadata": {
        "id": "9WWig-bDq6hU"
      },
      "source": [
        "### Equations\n",
        "\n",
        "$$\n",
        "\\begin{aligned} \\mathbf{z}_{(t)} &=\\sigma\\left(\\mathbf{W}_{x z} \\mathbf{x}_{(t)}+\\mathbf{W}_{h z}^{T} \\mathbf{h}_{(t-1)}+\\mathbf{b}_{z}\\right) \\\\ \\mathbf{r}_{(t)} &=\\sigma\\left(\\mathbf{W}_{x r}{ }^{T} \\mathbf{x}_{(t)}+\\mathbf{W}_{h r}{ }^{T} \\mathbf{h}_{(t-1)}+\\mathbf{b}_{r}\\right) \\\\ \\mathbf{g}_{(t)} &=\\tanh \\left(\\mathbf{W}_{x g}{\\mathbf{x}} \\mathbf{x}_{(t)}+\\mathbf{W}_{h g}{ }^{T}\\left(\\mathbf{r}_{(t)} \\otimes \\mathbf{h}_{(t-1)}\\right)+\\mathbf{b}_{g}\\right) \\\\ \\mathbf{h}_{(t)} &=\\mathbf{z}_{(t)} \\otimes \\mathbf{h}_{(t-1)}+\\left(1-\\mathbf{z}_{(t)}\\right) \\otimes \\mathbf{g}_{(t)} \\end{aligned}\n",
        "$$\n",
        "\n",
        "- In Tensorflow:\n",
        "    `gru_cell = tf.contrib.rnn.GRUCell(num_units=n_neurons)`\n",
        "- LSTM or GRU cells are one of the main reasons behind the success of RNNs in recent years, in particular for applications in natural language processing (NLP)."
      ]
    },
    {
      "cell_type": "markdown",
      "metadata": {
        "id": "x91yoDLZYLq7"
      },
      "source": [
        "### Exercise 1\n",
        "\n",
        "Practice building a deep RNN to predict the next value in the dataset found in `aard.us.txt`"
      ]
    },
    {
      "cell_type": "code",
      "metadata": {
        "colab": {
          "base_uri": "https://localhost:8080/",
          "height": 285
        },
        "id": "TJpqlKsDhql7",
        "outputId": "c41fa216-e9fe-4861-92ff-71d54fe09639"
      },
      "source": [
        "pdf_aard = pd.read_csv(\"https://drive.google.com/uc?id=1hTc4qW8aCTCNY35ksGbXTdSMe7djB2FD\")\n",
        "pdf_aard['Close'].plot()\n"
      ],
      "execution_count": null,
      "outputs": [
        {
          "output_type": "execute_result",
          "data": {
            "text/plain": [
              "<matplotlib.axes._subplots.AxesSubplot at 0x7fdebc6f7a10>"
            ]
          },
          "metadata": {},
          "execution_count": 40
        },
        {
          "output_type": "display_data",
          "data": {
            "text/plain": [
              "<Figure size 432x288 with 1 Axes>"
            ],
            "image/png": "[encoded data removed]"
          },
          "metadata": {
            "needs_background": "light"
          }
        }
      ]
    },
    {
      "cell_type": "code",
      "metadata": {
        "id": "YlmnpiHPf5VP"
      },
      "source": [
        "### Your Response here "
      ],
      "execution_count": null,
      "outputs": []
    },
    {
      "cell_type": "code",
      "metadata": {
        "id": "x1a-J6e5f5VP"
      },
      "source": [
        "### Your Response here "
      ],
      "execution_count": null,
      "outputs": []
    },
    {
      "cell_type": "code",
      "metadata": {
        "id": "0XwyCxNjf5VP"
      },
      "source": [
        "### Your Response here "
      ],
      "execution_count": null,
      "outputs": []
    },
    {
      "cell_type": "code",
      "metadata": {
        "id": "OG1wIGN0f5VP"
      },
      "source": [
        "### Your Response here "
      ],
      "execution_count": null,
      "outputs": []
    },
    {
      "cell_type": "code",
      "metadata": {
        "id": "Iwtgz8h2f5VP"
      },
      "source": [
        "### Your Response here "
      ],
      "execution_count": null,
      "outputs": []
    },
    {
      "cell_type": "code",
      "metadata": {
        "id": "d3F-5s8ef5VQ"
      },
      "source": [
        "### Your Response here "
      ],
      "execution_count": null,
      "outputs": []
    },
    {
      "cell_type": "code",
      "metadata": {
        "id": "UssTftZ5f5VQ"
      },
      "source": [
        "### Your Response here "
      ],
      "execution_count": null,
      "outputs": []
    },
    {
      "cell_type": "code",
      "metadata": {
        "id": "Hj-NnoClf5VQ"
      },
      "source": [
        "### Your Response here "
      ],
      "execution_count": null,
      "outputs": []
    },
    {
      "cell_type": "code",
      "metadata": {
        "id": "p3ACKjAGf5VQ"
      },
      "source": [
        "### Your Response here "
      ],
      "execution_count": null,
      "outputs": []
    },
    {
      "cell_type": "markdown",
      "metadata": {
        "id": "Wjhk9wKCf5VQ"
      },
      "source": [
        "### Exercise 2\n",
        "\n",
        "Try Deeper RNN network and check the training loss and plot predictions versus actual  \n"
      ]
    },
    {
      "cell_type": "code",
      "metadata": {
        "id": "7zjKxebXYctz"
      },
      "source": [
        "### Your Response here "
      ],
      "execution_count": null,
      "outputs": []
    },
    {
      "cell_type": "code",
      "metadata": {
        "id": "8cJVaqFAf5VQ"
      },
      "source": [
        "### Your Response here "
      ],
      "execution_count": null,
      "outputs": []
    },
    {
      "cell_type": "code",
      "metadata": {
        "id": "KJYZTYY6f5VQ"
      },
      "source": [
        "### Your Response here "
      ],
      "execution_count": null,
      "outputs": []
    },
    {
      "cell_type": "markdown",
      "metadata": {
        "id": "wyzeSniff5VQ"
      },
      "source": [
        "### Exercise 3\n",
        "\n",
        "Try LSTM and GRU network and check the training loss and plot predictions versus actual  \n"
      ]
    },
    {
      "cell_type": "code",
      "metadata": {
        "id": "-kLfq1Saf5VQ"
      },
      "source": [
        "### Your Response here "
      ],
      "execution_count": null,
      "outputs": []
    },
    {
      "cell_type": "code",
      "metadata": {
        "id": "BpsL9hLif5VQ"
      },
      "source": [
        "### Your Response here "
      ],
      "execution_count": null,
      "outputs": []
    },
    {
      "cell_type": "code",
      "metadata": {
        "id": "C5NdHpypf5VR"
      },
      "source": [
        "### Your Response here "
      ],
      "execution_count": null,
      "outputs": []
    },
    {
      "cell_type": "code",
      "metadata": {
        "id": "t-_ix5XVf5VR"
      },
      "source": [
        "### Your Response here "
      ],
      "execution_count": null,
      "outputs": []
    },
    {
      "cell_type": "markdown",
      "metadata": {
        "id": "uOnYpWG5q6hU"
      },
      "source": [
        "# References \n",
        "\n",
        "- [Hands-On Machine Learning with Scikit-Learn, Keras, and TensorFlow, 2nd Edition (Chapter 15)](https://www.oreilly.com/library/view/hands-on-machine-learning/9781492032632/)\n",
        "\n",
        "- [Deep Learning book (Chapter 10)](http://www.deeplearningbook.org/contents/rnn.html#pf7)\n",
        "\n",
        "# Additional Resources\n",
        "\n",
        "- Understanding LSTMs\n",
        "    - https://colah.github.io/posts/2015-08-Understanding-LSTMs/\n",
        "- Recurrent Neural Networks w/ TF:\n",
        "    - https://www.tensorflow.org/tutorials/sequences/recurrent\n",
        "    \n",
        "- Keras conv networks:\n",
        "    - https://keras.io/layers/recurrent/\n",
        "    - https://keras.io/applications/\n",
        "    \n",
        "- Deep Learning book\n",
        "    - Ian Goodfellow and Yoshua Bengio and Aaron Courville\n",
        "    - https://www.deeplearningbook.org/contents/rnn.html\n",
        "    \n",
        "- Deep Learning with Python \n",
        "    - [Understanding Recurrent Neural Networks](https://github.com/fchollet/deep-learning-with-python-notebooks/blob/master/6.2-understanding-recurrent-neural-networks.ipynb)\n",
        "\n",
        "- [Understanding LSTM](https://colah.github.io/posts/2015-08-Understanding-LSTMs/)\n",
        "\n",
        "- [Stock Prediction Example](https://github.com/DarkKnight1991/Stock-Price-Prediction)\n",
        "- [Classical Piano Example](https://github.com/Skuldur/Classical-Piano-Composer)\n"
      ]
    },
    {
      "cell_type": "code",
      "metadata": {
        "id": "pZT7rfknq6hU"
      },
      "source": [],
      "execution_count": null,
      "outputs": []
    }
  ]
}