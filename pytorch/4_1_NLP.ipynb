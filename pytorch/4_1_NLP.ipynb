{
  "nbformat": 4,
  "nbformat_minor": 0,
  "metadata": {
    "colab": {
      "provenance": [],
      "gpuType": "T4",
      "authorship_tag": "ABX9TyNhB4mzQoy/XQHnQ73IiWov",
      "include_colab_link": true
    },
    "kernelspec": {
      "name": "python3",
      "display_name": "Python 3"
    },
    "language_info": {
      "name": "python"
    },
    "accelerator": "GPU"
  },
  "cells": [
    {
      "cell_type": "markdown",
      "metadata": {
        "id": "view-in-github",
        "colab_type": "text"
      },
      "source": [
        "<a href=\"https://colab.research.google.com/github/gc2321/3546-Deep-Learning/blob/main/pytorch/4_1_NLP.ipynb\" target=\"_parent\"><img src=\"https://colab.research.google.com/assets/colab-badge.svg\" alt=\"Open In Colab\"/></a>"
      ]
    },
    {
      "cell_type": "code",
      "execution_count": 41,
      "metadata": {
        "id": "OziT1vTBlMfo"
      },
      "outputs": [],
      "source": [
        "import torch\n",
        "from torch import nn\n",
        "import torch.nn.functional as F\n",
        "\n",
        "import numpy as np\n",
        "import matplotlib.pyplot as plt"
      ]
    },
    {
      "cell_type": "markdown",
      "source": [
        "## Load Data"
      ],
      "metadata": {
        "id": "3BIipZed53pM"
      }
    },
    {
      "cell_type": "code",
      "source": [
        "file = \"/content/gdrive/MyDrive/neural_data/shakespeare.txt\""
      ],
      "metadata": {
        "id": "CAHjcbSdNzj9"
      },
      "execution_count": 42,
      "outputs": []
    },
    {
      "cell_type": "code",
      "source": [
        "from google.colab import drive\n",
        "drive.mount('/content/gdrive')\n"
      ],
      "metadata": {
        "colab": {
          "base_uri": "https://localhost:8080/"
        },
        "id": "8gV230DmPeIB",
        "outputId": "755abd2f-2a1a-4d52-9023-b3dba6be9717"
      },
      "execution_count": 43,
      "outputs": [
        {
          "output_type": "stream",
          "name": "stdout",
          "text": [
            "Drive already mounted at /content/gdrive; to attempt to forcibly remount, call drive.mount(\"/content/gdrive\", force_remount=True).\n"
          ]
        }
      ]
    },
    {
      "cell_type": "code",
      "source": [
        "with open(file,'r',encoding='utf8') as f:\n",
        "    text = f.read()"
      ],
      "metadata": {
        "id": "GamoGy3xPh2s"
      },
      "execution_count": 44,
      "outputs": []
    },
    {
      "cell_type": "code",
      "source": [
        "text[:1000]"
      ],
      "metadata": {
        "colab": {
          "base_uri": "https://localhost:8080/",
          "height": 126
        },
        "id": "x_-1qOzfP6sk",
        "outputId": "27d68f21-0fdd-48f0-f078-6840743a5fb4"
      },
      "execution_count": 45,
      "outputs": [
        {
          "output_type": "execute_result",
          "data": {
            "text/plain": [
              "\"\\n                     1\\n  From fairest creatures we desire increase,\\n  That thereby beauty's rose might never die,\\n  But as the riper should by time decease,\\n  His tender heir might bear his memory:\\n  But thou contracted to thine own bright eyes,\\n  Feed'st thy light's flame with self-substantial fuel,\\n  Making a famine where abundance lies,\\n  Thy self thy foe, to thy sweet self too cruel:\\n  Thou that art now the world's fresh ornament,\\n  And only herald to the gaudy spring,\\n  Within thine own bud buriest thy content,\\n  And tender churl mak'st waste in niggarding:\\n    Pity the world, or else this glutton be,\\n    To eat the world's due, by the grave and thee.\\n\\n\\n                     2\\n  When forty winters shall besiege thy brow,\\n  And dig deep trenches in thy beauty's field,\\n  Thy youth's proud livery so gazed on now,\\n  Will be a tattered weed of small worth held:  \\n  Then being asked, where all thy beauty lies,\\n  Where all the treasure of thy lusty days;\\n  To say within thine own deep su\""
            ],
            "application/vnd.google.colaboratory.intrinsic+json": {
              "type": "string"
            }
          },
          "metadata": {},
          "execution_count": 45
        }
      ]
    },
    {
      "cell_type": "code",
      "source": [
        "print(text[:1000])"
      ],
      "metadata": {
        "colab": {
          "base_uri": "https://localhost:8080/"
        },
        "id": "SqNNs6PiPvY9",
        "outputId": "65f95ad1-3249-44e4-fbed-baec497418b8"
      },
      "execution_count": 46,
      "outputs": [
        {
          "output_type": "stream",
          "name": "stdout",
          "text": [
            "\n",
            "                     1\n",
            "  From fairest creatures we desire increase,\n",
            "  That thereby beauty's rose might never die,\n",
            "  But as the riper should by time decease,\n",
            "  His tender heir might bear his memory:\n",
            "  But thou contracted to thine own bright eyes,\n",
            "  Feed'st thy light's flame with self-substantial fuel,\n",
            "  Making a famine where abundance lies,\n",
            "  Thy self thy foe, to thy sweet self too cruel:\n",
            "  Thou that art now the world's fresh ornament,\n",
            "  And only herald to the gaudy spring,\n",
            "  Within thine own bud buriest thy content,\n",
            "  And tender churl mak'st waste in niggarding:\n",
            "    Pity the world, or else this glutton be,\n",
            "    To eat the world's due, by the grave and thee.\n",
            "\n",
            "\n",
            "                     2\n",
            "  When forty winters shall besiege thy brow,\n",
            "  And dig deep trenches in thy beauty's field,\n",
            "  Thy youth's proud livery so gazed on now,\n",
            "  Will be a tattered weed of small worth held:  \n",
            "  Then being asked, where all thy beauty lies,\n",
            "  Where all the treasure of thy lusty days;\n",
            "  To say within thine own deep su\n"
          ]
        }
      ]
    },
    {
      "cell_type": "code",
      "source": [
        "len(text)"
      ],
      "metadata": {
        "id": "wjAjXOQIqC6x",
        "outputId": "20d4a27a-b238-4e62-d8cb-ffa3d4b701da",
        "colab": {
          "base_uri": "https://localhost:8080/"
        }
      },
      "execution_count": 47,
      "outputs": [
        {
          "output_type": "execute_result",
          "data": {
            "text/plain": [
              "5445609"
            ]
          },
          "metadata": {},
          "execution_count": 47
        }
      ]
    },
    {
      "cell_type": "markdown",
      "source": [
        "## Encode Entire Text"
      ],
      "metadata": {
        "id": "iOBi3M-SqGw4"
      }
    },
    {
      "cell_type": "code",
      "source": [
        "all_characters = set(text)"
      ],
      "metadata": {
        "id": "M36b31GlqFBr"
      },
      "execution_count": 48,
      "outputs": []
    },
    {
      "cell_type": "code",
      "source": [
        "all_characters"
      ],
      "metadata": {
        "id": "rDnKBF0vqKze",
        "outputId": "e8499cda-ce8c-4cea-e887-2dedaf5e59ae",
        "colab": {
          "base_uri": "https://localhost:8080/"
        }
      },
      "execution_count": 49,
      "outputs": [
        {
          "output_type": "execute_result",
          "data": {
            "text/plain": [
              "{'\\n',\n",
              " ' ',\n",
              " '!',\n",
              " '\"',\n",
              " '&',\n",
              " \"'\",\n",
              " '(',\n",
              " ')',\n",
              " ',',\n",
              " '-',\n",
              " '.',\n",
              " '0',\n",
              " '1',\n",
              " '2',\n",
              " '3',\n",
              " '4',\n",
              " '5',\n",
              " '6',\n",
              " '7',\n",
              " '8',\n",
              " '9',\n",
              " ':',\n",
              " ';',\n",
              " '<',\n",
              " '>',\n",
              " '?',\n",
              " 'A',\n",
              " 'B',\n",
              " 'C',\n",
              " 'D',\n",
              " 'E',\n",
              " 'F',\n",
              " 'G',\n",
              " 'H',\n",
              " 'I',\n",
              " 'J',\n",
              " 'K',\n",
              " 'L',\n",
              " 'M',\n",
              " 'N',\n",
              " 'O',\n",
              " 'P',\n",
              " 'Q',\n",
              " 'R',\n",
              " 'S',\n",
              " 'T',\n",
              " 'U',\n",
              " 'V',\n",
              " 'W',\n",
              " 'X',\n",
              " 'Y',\n",
              " 'Z',\n",
              " '[',\n",
              " ']',\n",
              " '_',\n",
              " '`',\n",
              " 'a',\n",
              " 'b',\n",
              " 'c',\n",
              " 'd',\n",
              " 'e',\n",
              " 'f',\n",
              " 'g',\n",
              " 'h',\n",
              " 'i',\n",
              " 'j',\n",
              " 'k',\n",
              " 'l',\n",
              " 'm',\n",
              " 'n',\n",
              " 'o',\n",
              " 'p',\n",
              " 'q',\n",
              " 'r',\n",
              " 's',\n",
              " 't',\n",
              " 'u',\n",
              " 'v',\n",
              " 'w',\n",
              " 'x',\n",
              " 'y',\n",
              " 'z',\n",
              " '|',\n",
              " '}'}"
            ]
          },
          "metadata": {},
          "execution_count": 49
        }
      ]
    },
    {
      "cell_type": "code",
      "source": [
        "decoder = dict(enumerate(all_characters))"
      ],
      "metadata": {
        "id": "GwSY9J7sqNvm"
      },
      "execution_count": 50,
      "outputs": []
    },
    {
      "cell_type": "code",
      "source": [
        "encoder = {char: ind for ind,char in decoder.items()}"
      ],
      "metadata": {
        "id": "SS6OKcMmqQnM"
      },
      "execution_count": 51,
      "outputs": []
    },
    {
      "cell_type": "code",
      "source": [
        "encoded_text = np.array([encoder[char] for char in text])"
      ],
      "metadata": {
        "id": "CFmy_-4fqS5E"
      },
      "execution_count": 52,
      "outputs": []
    },
    {
      "cell_type": "code",
      "source": [
        "encoded_text[:500]"
      ],
      "metadata": {
        "id": "Xkyq2H4uqYpg",
        "outputId": "c0bf3fd4-58e0-45df-933e-cd4bb2d67fa8",
        "colab": {
          "base_uri": "https://localhost:8080/"
        }
      },
      "execution_count": 53,
      "outputs": [
        {
          "output_type": "execute_result",
          "data": {
            "text/plain": [
              "array([ 6, 20, 20, 20, 20, 20, 20, 20, 20, 20, 20, 20, 20, 20, 20, 20, 20,\n",
              "       20, 20, 20, 20, 20, 46,  6, 20, 20, 57, 53, 73, 76, 20,  0, 50, 54,\n",
              "       53, 18, 17, 16, 20, 45, 53, 18, 50, 16, 19, 53, 18, 17, 20, 14, 18,\n",
              "       20, 41, 18, 17, 54, 53, 18, 20, 54, 74, 45, 53, 18, 50, 17, 18, 38,\n",
              "        6, 20, 20, 65, 33, 50, 16, 20, 16, 33, 18, 53, 18, 77, 61, 20, 77,\n",
              "       18, 50, 19, 16, 61, 28, 17, 20, 53, 73, 17, 18, 20, 76, 54,  5, 33,\n",
              "       16, 20, 74, 18, 22, 18, 53, 20, 41, 54, 18, 38,  6, 20, 20, 35, 19,\n",
              "       16, 20, 50, 17, 20, 16, 33, 18, 20, 53, 54, 69, 18, 53, 20, 17, 33,\n",
              "       73, 19, 15, 41, 20, 77, 61, 20, 16, 54, 76, 18, 20, 41, 18, 45, 18,\n",
              "       50, 17, 18, 38,  6, 20, 20, 26, 54, 17, 20, 16, 18, 74, 41, 18, 53,\n",
              "       20, 33, 18, 54, 53, 20, 76, 54,  5, 33, 16, 20, 77, 18, 50, 53, 20,\n",
              "       33, 54, 17, 20, 76, 18, 76, 73, 53, 61, 48,  6, 20, 20, 35, 19, 16,\n",
              "       20, 16, 33, 73, 19, 20, 45, 73, 74, 16, 53, 50, 45, 16, 18, 41, 20,\n",
              "       16, 73, 20, 16, 33, 54, 74, 18, 20, 73, 14, 74, 20, 77, 53, 54,  5,\n",
              "       33, 16, 20, 18, 61, 18, 17, 38,  6, 20, 20, 57, 18, 18, 41, 28, 17,\n",
              "       16, 20, 16, 33, 61, 20, 15, 54,  5, 33, 16, 28, 17, 20,  0, 15, 50,\n",
              "       76, 18, 20, 14, 54, 16, 33, 20, 17, 18, 15,  0, 44, 17, 19, 77, 17,\n",
              "       16, 50, 74, 16, 54, 50, 15, 20,  0, 19, 18, 15, 38,  6, 20, 20, 62,\n",
              "       50, 70, 54, 74,  5, 20, 50, 20,  0, 50, 76, 54, 74, 18, 20, 14, 33,\n",
              "       18, 53, 18, 20, 50, 77, 19, 74, 41, 50, 74, 45, 18, 20, 15, 54, 18,\n",
              "       17, 38,  6, 20, 20, 65, 33, 61, 20, 17, 18, 15,  0, 20, 16, 33, 61,\n",
              "       20,  0, 73, 18, 38, 20, 16, 73, 20, 16, 33, 61, 20, 17, 14, 18, 18,\n",
              "       16, 20, 17, 18, 15,  0, 20, 16, 73, 73, 20, 45, 53, 19, 18, 15, 48,\n",
              "        6, 20, 20, 65, 33, 73, 19, 20, 16, 33, 50, 16, 20, 50, 53, 16, 20,\n",
              "       74, 73, 14, 20, 16, 33, 18, 20, 14, 73, 53, 15, 41, 28, 17, 20,  0,\n",
              "       53, 18, 17, 33, 20, 73, 53, 74, 50, 76, 18, 74, 16, 38,  6, 20, 20,\n",
              "       64, 74, 41, 20, 73, 74, 15, 61, 20, 33, 18, 53, 50, 15, 41, 20, 16,\n",
              "       73, 20, 16, 33, 18, 20,  5, 50, 19, 41, 61, 20, 17, 69, 53, 54, 74,\n",
              "        5, 38,  6, 20, 20, 40, 54, 16, 33, 54, 74, 20, 16, 33, 54, 74, 18,\n",
              "       20, 73, 14, 74, 20, 77, 19])"
            ]
          },
          "metadata": {},
          "execution_count": 53
        }
      ]
    },
    {
      "cell_type": "markdown",
      "source": [
        "## One Hot Encoding"
      ],
      "metadata": {
        "id": "ep9R8PfJrcS-"
      }
    },
    {
      "cell_type": "code",
      "source": [
        "def one_hot_encoder(encoded_text, num_uni_chars):\n",
        "    '''\n",
        "    encoded_text : batch of encoded text\n",
        "\n",
        "    num_uni_chars = number of unique characters (len(set(text)))\n",
        "    '''\n",
        "\n",
        "    # METHOD FROM:\n",
        "    # https://stackoverflow.com/questions/29831489/convert-encoded_textay-of-indices-to-1-hot-encoded-numpy-encoded_textay\n",
        "\n",
        "    # Create a placeholder for zeros.\n",
        "    one_hot = np.zeros((encoded_text.size, num_uni_chars))\n",
        "\n",
        "    # Convert data type for later use with pytorch (errors if we dont!)\n",
        "    one_hot = one_hot.astype(np.float32)\n",
        "\n",
        "    # Using fancy indexing fill in the 1s at the correct index locations\n",
        "    one_hot[np.arange(one_hot.shape[0]), encoded_text.flatten()] = 1.0\n",
        "\n",
        "\n",
        "    # Reshape it so it matches the batch sahe\n",
        "    one_hot = one_hot.reshape((*encoded_text.shape, num_uni_chars))\n",
        "\n",
        "    return one_hot"
      ],
      "metadata": {
        "id": "UKwrc60Lqbkz"
      },
      "execution_count": 54,
      "outputs": []
    },
    {
      "cell_type": "code",
      "source": [
        "one_hot_encoder(np.array([1,2,0]),3)"
      ],
      "metadata": {
        "id": "5R31BPAurg6O",
        "outputId": "1912f42c-0af6-4a25-e6e6-573fc7c4d9c1",
        "colab": {
          "base_uri": "https://localhost:8080/"
        }
      },
      "execution_count": 55,
      "outputs": [
        {
          "output_type": "execute_result",
          "data": {
            "text/plain": [
              "array([[0., 1., 0.],\n",
              "       [0., 0., 1.],\n",
              "       [1., 0., 0.]], dtype=float32)"
            ]
          },
          "metadata": {},
          "execution_count": 55
        }
      ]
    },
    {
      "cell_type": "markdown",
      "source": [
        "## Creating Training Batches"
      ],
      "metadata": {
        "id": "UIJ21XZ8JQdE"
      }
    },
    {
      "cell_type": "code",
      "source": [
        "example_text = np.arange(10)"
      ],
      "metadata": {
        "id": "QlioyFYWt3Ac"
      },
      "execution_count": 56,
      "outputs": []
    },
    {
      "cell_type": "code",
      "source": [
        "example_text"
      ],
      "metadata": {
        "colab": {
          "base_uri": "https://localhost:8080/"
        },
        "id": "GLmjh2nDJVLO",
        "outputId": "f8969357-401c-4e16-8121-ec8d94c66bcc"
      },
      "execution_count": 57,
      "outputs": [
        {
          "output_type": "execute_result",
          "data": {
            "text/plain": [
              "array([0, 1, 2, 3, 4, 5, 6, 7, 8, 9])"
            ]
          },
          "metadata": {},
          "execution_count": 57
        }
      ]
    },
    {
      "cell_type": "code",
      "source": [
        "# If we wanted 5 batches\n",
        "example_text.reshape((5,-1))"
      ],
      "metadata": {
        "colab": {
          "base_uri": "https://localhost:8080/"
        },
        "id": "8LYOAIGHJYv-",
        "outputId": "689e398f-71f5-4b83-ecac-796ef28a839b"
      },
      "execution_count": 58,
      "outputs": [
        {
          "output_type": "execute_result",
          "data": {
            "text/plain": [
              "array([[0, 1],\n",
              "       [2, 3],\n",
              "       [4, 5],\n",
              "       [6, 7],\n",
              "       [8, 9]])"
            ]
          },
          "metadata": {},
          "execution_count": 58
        }
      ]
    },
    {
      "cell_type": "code",
      "source": [
        "def generate_batches(encoded_text, samp_per_batch=10, seq_len=50):\n",
        "\n",
        "    '''\n",
        "    Generate (using yield) batches for training.\n",
        "\n",
        "    X: Encoded Text of length seq_len\n",
        "    Y: Encoded Text shifted by one\n",
        "\n",
        "    Example:\n",
        "\n",
        "    X:\n",
        "\n",
        "    [[1 2 3]]\n",
        "\n",
        "    Y:\n",
        "\n",
        "    [[ 2 3 4]]\n",
        "\n",
        "    encoded_text : Complete Encoded Text to make batches from\n",
        "    batch_size : Number of samples per batch\n",
        "    seq_len : Length of character sequence\n",
        "\n",
        "    '''\n",
        "\n",
        "    # Total number of characters per batch\n",
        "    # Example: If samp_per_batch is 2 and seq_len is 50, then 100\n",
        "    # characters come out per batch.\n",
        "    char_per_batch = samp_per_batch * seq_len\n",
        "\n",
        "\n",
        "    # Number of batches available to make\n",
        "    # Use int() to roun to nearest integer\n",
        "    num_batches_avail = int(len(encoded_text)/char_per_batch)\n",
        "\n",
        "    # Cut off end of encoded_text that\n",
        "    # won't fit evenly into a batch\n",
        "    encoded_text = encoded_text[:num_batches_avail * char_per_batch]\n",
        "\n",
        "\n",
        "    # Reshape text into rows the size of a batch\n",
        "    encoded_text = encoded_text.reshape((samp_per_batch, -1))\n",
        "\n",
        "\n",
        "    # Go through each row in array.\n",
        "    for n in range(0, encoded_text.shape[1], seq_len):\n",
        "\n",
        "        # Grab feature characters\n",
        "        x = encoded_text[:, n:n+seq_len]\n",
        "\n",
        "        # y is the target shifted over by 1\n",
        "        y = np.zeros_like(x)\n",
        "\n",
        "        #\n",
        "        try:\n",
        "            y[:, :-1] = x[:, 1:]\n",
        "            y[:, -1]  = encoded_text[:, n+seq_len]\n",
        "\n",
        "        # FOR POTENTIAL INDEXING ERROR AT THE END\n",
        "        except:\n",
        "            y[:, :-1] = x[:, 1:]\n",
        "            y[:, -1] = encoded_text[:, 0]\n",
        "\n",
        "        yield x, y"
      ],
      "metadata": {
        "id": "rNCwXyODJd4t"
      },
      "execution_count": 59,
      "outputs": []
    },
    {
      "cell_type": "markdown",
      "source": [
        "### Example of generating a batch"
      ],
      "metadata": {
        "id": "LQRKqVAPLoGc"
      }
    },
    {
      "cell_type": "code",
      "source": [
        "sample_text = encoded_text[:20]"
      ],
      "metadata": {
        "id": "bTbqloBiJmMu"
      },
      "execution_count": 60,
      "outputs": []
    },
    {
      "cell_type": "code",
      "source": [
        "sample_text"
      ],
      "metadata": {
        "colab": {
          "base_uri": "https://localhost:8080/"
        },
        "id": "G5tID-GsLtJW",
        "outputId": "70c91851-edfc-4d7e-9d61-044653a94132"
      },
      "execution_count": 61,
      "outputs": [
        {
          "output_type": "execute_result",
          "data": {
            "text/plain": [
              "array([ 6, 20, 20, 20, 20, 20, 20, 20, 20, 20, 20, 20, 20, 20, 20, 20, 20,\n",
              "       20, 20, 20])"
            ]
          },
          "metadata": {},
          "execution_count": 61
        }
      ]
    },
    {
      "cell_type": "code",
      "source": [
        "batch_generator = generate_batches(sample_text,samp_per_batch=2,seq_len=5)"
      ],
      "metadata": {
        "id": "WAsuUof8LuxU"
      },
      "execution_count": 62,
      "outputs": []
    },
    {
      "cell_type": "code",
      "source": [
        "x, y = next(batch_generator)"
      ],
      "metadata": {
        "id": "c6yqMDJqLwjO"
      },
      "execution_count": 63,
      "outputs": []
    },
    {
      "cell_type": "code",
      "source": [
        "x"
      ],
      "metadata": {
        "colab": {
          "base_uri": "https://localhost:8080/"
        },
        "id": "NbFWfbYLL0kG",
        "outputId": "051deab4-197a-4b24-dc1f-ed6e6cc3dc46"
      },
      "execution_count": 64,
      "outputs": [
        {
          "output_type": "execute_result",
          "data": {
            "text/plain": [
              "array([[ 6, 20, 20, 20, 20],\n",
              "       [20, 20, 20, 20, 20]])"
            ]
          },
          "metadata": {},
          "execution_count": 64
        }
      ]
    },
    {
      "cell_type": "code",
      "source": [
        "y"
      ],
      "metadata": {
        "colab": {
          "base_uri": "https://localhost:8080/"
        },
        "id": "HKroEhFML1J8",
        "outputId": "c3cb7af3-568e-4c42-b2d3-72a6908dfb0f"
      },
      "execution_count": 65,
      "outputs": [
        {
          "output_type": "execute_result",
          "data": {
            "text/plain": [
              "array([[20, 20, 20, 20, 20],\n",
              "       [20, 20, 20, 20, 20]])"
            ]
          },
          "metadata": {},
          "execution_count": 65
        }
      ]
    },
    {
      "cell_type": "markdown",
      "source": [
        "### GPU Check"
      ],
      "metadata": {
        "id": "rij72hLxL70q"
      }
    },
    {
      "cell_type": "code",
      "source": [
        "torch.cuda.is_available()"
      ],
      "metadata": {
        "colab": {
          "base_uri": "https://localhost:8080/"
        },
        "id": "WPNqMNHxL93d",
        "outputId": "657c0e29-5ff6-4859-bce6-6f9cd29e629e"
      },
      "execution_count": 66,
      "outputs": [
        {
          "output_type": "execute_result",
          "data": {
            "text/plain": [
              "True"
            ]
          },
          "metadata": {},
          "execution_count": 66
        }
      ]
    },
    {
      "cell_type": "markdown",
      "source": [
        "## Creating the LSTM Model"
      ],
      "metadata": {
        "id": "nVSws094MYUe"
      }
    },
    {
      "cell_type": "code",
      "source": [
        "class CharModel(nn.Module):\n",
        "\n",
        "    def __init__(self, all_chars, num_hidden=256, num_layers=4,drop_prob=0.5,use_gpu=False):\n",
        "\n",
        "        # SET UP ATTRIBUTES\n",
        "        super().__init__()\n",
        "        self.drop_prob = drop_prob\n",
        "        self.num_layers = num_layers\n",
        "        self.num_hidden = num_hidden\n",
        "        self.use_gpu = use_gpu\n",
        "\n",
        "        #CHARACTER SET, ENCODER, and DECODER\n",
        "        self.all_chars = all_chars\n",
        "        self.decoder = dict(enumerate(all_chars))\n",
        "        self.encoder = {char: ind for ind,char in decoder.items()}\n",
        "\n",
        "        self.lstm = nn.LSTM(len(self.all_chars), num_hidden, num_layers, dropout=drop_prob, batch_first=True)\n",
        "        self.dropout = nn.Dropout(drop_prob)\n",
        "        self.fc_linear = nn.Linear(num_hidden, len(self.all_chars))\n",
        "\n",
        "    def forward(self, x, hidden):\n",
        "\n",
        "        lstm_output, hidden = self.lstm(x, hidden)\n",
        "        drop_output = self.dropout(lstm_output)\n",
        "        drop_output = drop_output.contiguous().view(-1, self.num_hidden)\n",
        "        final_out = self.fc_linear(drop_output)\n",
        "        return final_out, hidden\n",
        "\n",
        "    def hidden_state(self, batch_size):\n",
        "        '''\n",
        "        Used as separate method to account for both GPU and CPU users.\n",
        "        '''\n",
        "\n",
        "        if self.use_gpu:\n",
        "            hidden = (torch.zeros(self.num_layers,batch_size,self.num_hidden).cuda(),\n",
        "                     torch.zeros(self.num_layers,batch_size,self.num_hidden).cuda())\n",
        "        else:\n",
        "            hidden = (torch.zeros(self.num_layers,batch_size,self.num_hidden),\n",
        "                     torch.zeros(self.num_layers,batch_size,self.num_hidden))\n",
        "\n",
        "        return hidden"
      ],
      "metadata": {
        "id": "I080ogBnL_uG"
      },
      "execution_count": 67,
      "outputs": []
    },
    {
      "cell_type": "markdown",
      "source": [
        "### Instantiate the Model"
      ],
      "metadata": {
        "id": "XOFIbrPLM7oH"
      }
    },
    {
      "cell_type": "code",
      "source": [
        "model = CharModel(\n",
        "    all_chars=all_characters,\n",
        "    num_hidden=512,\n",
        "    num_layers=3,\n",
        "    drop_prob=0.5,\n",
        "    use_gpu=True,\n",
        ")"
      ],
      "metadata": {
        "id": "6pmzZi56M-AA"
      },
      "execution_count": 68,
      "outputs": []
    },
    {
      "cell_type": "code",
      "source": [
        "total_param  = []\n",
        "for p in model.parameters():\n",
        "    total_param.append(int(p.numel()))"
      ],
      "metadata": {
        "id": "i5tnUON7NEbR"
      },
      "execution_count": 69,
      "outputs": []
    },
    {
      "cell_type": "code",
      "source": [
        "sum(total_param)"
      ],
      "metadata": {
        "colab": {
          "base_uri": "https://localhost:8080/"
        },
        "id": "gX2i4ws_NJIe",
        "outputId": "fa4b5f8c-de1f-415d-9924-5cb77fe6c2da"
      },
      "execution_count": 70,
      "outputs": [
        {
          "output_type": "execute_result",
          "data": {
            "text/plain": [
              "5470292"
            ]
          },
          "metadata": {},
          "execution_count": 70
        }
      ]
    },
    {
      "cell_type": "code",
      "source": [
        "len(encoded_text)"
      ],
      "metadata": {
        "colab": {
          "base_uri": "https://localhost:8080/"
        },
        "id": "6fdUrgzCNMjt",
        "outputId": "e2226943-9f53-40b4-d228-44a1fb76d432"
      },
      "execution_count": 71,
      "outputs": [
        {
          "output_type": "execute_result",
          "data": {
            "text/plain": [
              "5445609"
            ]
          },
          "metadata": {},
          "execution_count": 71
        }
      ]
    },
    {
      "cell_type": "markdown",
      "source": [
        "### Optimizer and Loss"
      ],
      "metadata": {
        "id": "L_OsAybSNQqy"
      }
    },
    {
      "cell_type": "code",
      "source": [
        "optimizer = torch.optim.Adam(model.parameters(),lr=0.001)\n",
        "criterion = nn.CrossEntropyLoss()"
      ],
      "metadata": {
        "id": "6mAxLdlkNOoG"
      },
      "execution_count": 72,
      "outputs": []
    },
    {
      "cell_type": "markdown",
      "source": [
        "## Training Data and Validation Data"
      ],
      "metadata": {
        "id": "HlaYo6kVO_Qi"
      }
    },
    {
      "cell_type": "code",
      "source": [
        "# percentage of data to be used for training\n",
        "train_percent = 0.1"
      ],
      "metadata": {
        "id": "CgMIj2kMNVX1"
      },
      "execution_count": 73,
      "outputs": []
    },
    {
      "cell_type": "code",
      "source": [
        "len(encoded_text)"
      ],
      "metadata": {
        "id": "ft8wvP0dPEJ6",
        "outputId": "be2798c5-e6c1-4488-e650-005646abb8cd",
        "colab": {
          "base_uri": "https://localhost:8080/"
        }
      },
      "execution_count": 74,
      "outputs": [
        {
          "output_type": "execute_result",
          "data": {
            "text/plain": [
              "5445609"
            ]
          },
          "metadata": {},
          "execution_count": 74
        }
      ]
    },
    {
      "cell_type": "code",
      "source": [
        "int(len(encoded_text) * (train_percent))"
      ],
      "metadata": {
        "id": "tGoiq9ftPGOY",
        "outputId": "eb779014-5d77-4a12-dfd1-c16ccd0cc785",
        "colab": {
          "base_uri": "https://localhost:8080/"
        }
      },
      "execution_count": 75,
      "outputs": [
        {
          "output_type": "execute_result",
          "data": {
            "text/plain": [
              "544560"
            ]
          },
          "metadata": {},
          "execution_count": 75
        }
      ]
    },
    {
      "cell_type": "code",
      "source": [
        "train_ind = int(len(encoded_text) * (train_percent))"
      ],
      "metadata": {
        "id": "uZOTYSH6PJJT"
      },
      "execution_count": 76,
      "outputs": []
    },
    {
      "cell_type": "code",
      "source": [
        "train_data = encoded_text[:train_ind]\n",
        "val_data = encoded_text[train_ind:]"
      ],
      "metadata": {
        "id": "hBLSoXMDPK0T"
      },
      "execution_count": 77,
      "outputs": []
    },
    {
      "cell_type": "markdown",
      "source": [
        "## Training the Network"
      ],
      "metadata": {
        "id": "MdVPgVaKPOhL"
      }
    },
    {
      "cell_type": "code",
      "source": [
        "## VARIABLES\n",
        "\n",
        "# Epochs to train for\n",
        "epochs = 50\n",
        "# batch size\n",
        "batch_size = 128\n",
        "\n",
        "# Length of sequence\n",
        "seq_len = 100\n",
        "\n",
        "# for printing report purposes\n",
        "# always start at 0\n",
        "tracker = 0\n",
        "\n",
        "# number of characters in text\n",
        "num_char = max(encoded_text)+1"
      ],
      "metadata": {
        "id": "SxDw-swXPM8h"
      },
      "execution_count": 78,
      "outputs": []
    },
    {
      "cell_type": "code",
      "source": [
        "# Set model to train\n",
        "model.train()\n",
        "\n",
        "# Check to see if using GPU\n",
        "if model.use_gpu:\n",
        "    model.cuda()\n",
        "\n",
        "for i in range(epochs):\n",
        "\n",
        "    hidden = model.hidden_state(batch_size)\n",
        "\n",
        "\n",
        "    for x,y in generate_batches(train_data,batch_size,seq_len):\n",
        "\n",
        "        tracker += 1\n",
        "\n",
        "        # One Hot Encode incoming data\n",
        "        x = one_hot_encoder(x,num_char)\n",
        "\n",
        "        # Convert Numpy Arrays to Tensor\n",
        "\n",
        "        inputs = torch.from_numpy(x)\n",
        "        targets = torch.from_numpy(y)\n",
        "\n",
        "        # Adjust for GPU if necessary\n",
        "\n",
        "        if model.use_gpu:\n",
        "\n",
        "            inputs = inputs.cuda()\n",
        "            targets = targets.cuda()\n",
        "\n",
        "        # Reset Hidden State\n",
        "        # If we dont' reset we would backpropagate through all training history\n",
        "        hidden = tuple([state.data for state in hidden])\n",
        "\n",
        "        model.zero_grad()\n",
        "\n",
        "        lstm_output, hidden = model.forward(inputs,hidden)\n",
        "        loss = criterion(lstm_output,targets.view(batch_size*seq_len).long())\n",
        "\n",
        "        loss.backward()\n",
        "\n",
        "        # POSSIBLE EXPLODING GRADIENT PROBLEM!\n",
        "        # LET\"S CLIP JUST IN CASE\n",
        "        nn.utils.clip_grad_norm_(model.parameters(),max_norm=5)\n",
        "\n",
        "        optimizer.step()\n",
        "\n",
        "        ###################################\n",
        "        ### CHECK ON VALIDATION SET ######\n",
        "        #################################\n",
        "\n",
        "        if tracker % 25 == 0:\n",
        "\n",
        "            val_hidden = model.hidden_state(batch_size)\n",
        "            val_losses = []\n",
        "            model.eval()\n",
        "\n",
        "            for x,y in generate_batches(val_data,batch_size,seq_len):\n",
        "\n",
        "                # One Hot Encode incoming data\n",
        "                x = one_hot_encoder(x,num_char)\n",
        "\n",
        "\n",
        "                # Convert Numpy Arrays to Tensor\n",
        "\n",
        "                inputs = torch.from_numpy(x)\n",
        "                targets = torch.from_numpy(y)\n",
        "\n",
        "                # Adjust for GPU if necessary\n",
        "\n",
        "                if model.use_gpu:\n",
        "\n",
        "                    inputs = inputs.cuda()\n",
        "                    targets = targets.cuda()\n",
        "\n",
        "                # Reset Hidden State\n",
        "                # If we dont' reset we would backpropagate through\n",
        "                # all training history\n",
        "                val_hidden = tuple([state.data for state in val_hidden])\n",
        "\n",
        "                lstm_output, val_hidden = model.forward(inputs,val_hidden)\n",
        "                val_loss = criterion(lstm_output,targets.view(batch_size*seq_len).long())\n",
        "\n",
        "                val_losses.append(val_loss.item())\n",
        "\n",
        "            # Reset to training model after val for loop\n",
        "            model.train()\n",
        "\n",
        "            print(f\"Epoch: {i} Step: {tracker} Val Loss: {val_loss.item()}\")"
      ],
      "metadata": {
        "id": "vZF_agPgPhYp",
        "outputId": "9f06d02b-f752-4916-b600-491b75a1ef37",
        "colab": {
          "base_uri": "https://localhost:8080/"
        }
      },
      "execution_count": 79,
      "outputs": [
        {
          "output_type": "stream",
          "name": "stdout",
          "text": [
            "Epoch: 0 Step: 25 Val Loss: 3.237412214279175\n",
            "Epoch: 1 Step: 50 Val Loss: 3.2338836193084717\n",
            "Epoch: 1 Step: 75 Val Loss: 3.2369515895843506\n",
            "Epoch: 2 Step: 100 Val Loss: 3.225144386291504\n",
            "Epoch: 2 Step: 125 Val Loss: 3.0921459197998047\n",
            "Epoch: 3 Step: 150 Val Loss: 2.996035099029541\n",
            "Epoch: 4 Step: 175 Val Loss: 2.85251522064209\n",
            "Epoch: 4 Step: 200 Val Loss: 2.725895643234253\n",
            "Epoch: 5 Step: 225 Val Loss: 2.6071765422821045\n",
            "Epoch: 5 Step: 250 Val Loss: 2.4977054595947266\n",
            "Epoch: 6 Step: 275 Val Loss: 2.380185127258301\n",
            "Epoch: 7 Step: 300 Val Loss: 2.3210794925689697\n",
            "Epoch: 7 Step: 325 Val Loss: 2.267202615737915\n",
            "Epoch: 8 Step: 350 Val Loss: 2.2267050743103027\n",
            "Epoch: 8 Step: 375 Val Loss: 2.1830482482910156\n",
            "Epoch: 9 Step: 400 Val Loss: 2.151986598968506\n",
            "Epoch: 10 Step: 425 Val Loss: 2.126530408859253\n",
            "Epoch: 10 Step: 450 Val Loss: 2.1008572578430176\n",
            "Epoch: 11 Step: 475 Val Loss: 2.074312686920166\n",
            "Epoch: 11 Step: 500 Val Loss: 2.0518405437469482\n",
            "Epoch: 12 Step: 525 Val Loss: 2.0314815044403076\n",
            "Epoch: 13 Step: 550 Val Loss: 2.0220489501953125\n",
            "Epoch: 13 Step: 575 Val Loss: 2.0015714168548584\n",
            "Epoch: 14 Step: 600 Val Loss: 1.9822872877120972\n",
            "Epoch: 14 Step: 625 Val Loss: 1.9623136520385742\n",
            "Epoch: 15 Step: 650 Val Loss: 1.9464482069015503\n",
            "Epoch: 16 Step: 675 Val Loss: 1.9344760179519653\n",
            "Epoch: 16 Step: 700 Val Loss: 1.9147474765777588\n",
            "Epoch: 17 Step: 725 Val Loss: 1.9069823026657104\n",
            "Epoch: 17 Step: 750 Val Loss: 1.896334171295166\n",
            "Epoch: 18 Step: 775 Val Loss: 1.887271761894226\n",
            "Epoch: 19 Step: 800 Val Loss: 1.876558542251587\n",
            "Epoch: 19 Step: 825 Val Loss: 1.8596633672714233\n",
            "Epoch: 20 Step: 850 Val Loss: 1.8507373332977295\n",
            "Epoch: 20 Step: 875 Val Loss: 1.8464462757110596\n",
            "Epoch: 21 Step: 900 Val Loss: 1.8366608619689941\n",
            "Epoch: 22 Step: 925 Val Loss: 1.8282461166381836\n",
            "Epoch: 22 Step: 950 Val Loss: 1.8234814405441284\n",
            "Epoch: 23 Step: 975 Val Loss: 1.8190373182296753\n",
            "Epoch: 23 Step: 1000 Val Loss: 1.8127431869506836\n",
            "Epoch: 24 Step: 1025 Val Loss: 1.8032337427139282\n",
            "Epoch: 24 Step: 1050 Val Loss: 1.7970613241195679\n",
            "Epoch: 25 Step: 1075 Val Loss: 1.7921912670135498\n",
            "Epoch: 26 Step: 1100 Val Loss: 1.7877894639968872\n",
            "Epoch: 26 Step: 1125 Val Loss: 1.7811871767044067\n",
            "Epoch: 27 Step: 1150 Val Loss: 1.7788070440292358\n",
            "Epoch: 27 Step: 1175 Val Loss: 1.7790735960006714\n",
            "Epoch: 28 Step: 1200 Val Loss: 1.7662992477416992\n",
            "Epoch: 29 Step: 1225 Val Loss: 1.7669671773910522\n",
            "Epoch: 29 Step: 1250 Val Loss: 1.7591116428375244\n",
            "Epoch: 30 Step: 1275 Val Loss: 1.7548221349716187\n",
            "Epoch: 30 Step: 1300 Val Loss: 1.7562109231948853\n",
            "Epoch: 31 Step: 1325 Val Loss: 1.7558268308639526\n",
            "Epoch: 32 Step: 1350 Val Loss: 1.75368332862854\n",
            "Epoch: 32 Step: 1375 Val Loss: 1.74064040184021\n",
            "Epoch: 33 Step: 1400 Val Loss: 1.7414394617080688\n",
            "Epoch: 33 Step: 1425 Val Loss: 1.7426506280899048\n",
            "Epoch: 34 Step: 1450 Val Loss: 1.7421187162399292\n",
            "Epoch: 35 Step: 1475 Val Loss: 1.7482893466949463\n",
            "Epoch: 35 Step: 1500 Val Loss: 1.7321373224258423\n",
            "Epoch: 36 Step: 1525 Val Loss: 1.7414039373397827\n",
            "Epoch: 36 Step: 1550 Val Loss: 1.7328715324401855\n",
            "Epoch: 37 Step: 1575 Val Loss: 1.7329559326171875\n",
            "Epoch: 38 Step: 1600 Val Loss: 1.7248427867889404\n",
            "Epoch: 38 Step: 1625 Val Loss: 1.7292556762695312\n",
            "Epoch: 39 Step: 1650 Val Loss: 1.7243094444274902\n",
            "Epoch: 39 Step: 1675 Val Loss: 1.7221108675003052\n",
            "Epoch: 40 Step: 1700 Val Loss: 1.7290948629379272\n",
            "Epoch: 41 Step: 1725 Val Loss: 1.7219494581222534\n",
            "Epoch: 41 Step: 1750 Val Loss: 1.7242590188980103\n",
            "Epoch: 42 Step: 1775 Val Loss: 1.7259715795516968\n",
            "Epoch: 42 Step: 1800 Val Loss: 1.7214981317520142\n",
            "Epoch: 43 Step: 1825 Val Loss: 1.7168831825256348\n",
            "Epoch: 44 Step: 1850 Val Loss: 1.7219821214675903\n",
            "Epoch: 44 Step: 1875 Val Loss: 1.7300812005996704\n",
            "Epoch: 45 Step: 1900 Val Loss: 1.7219586372375488\n",
            "Epoch: 45 Step: 1925 Val Loss: 1.7235877513885498\n",
            "Epoch: 46 Step: 1950 Val Loss: 1.724799633026123\n",
            "Epoch: 47 Step: 1975 Val Loss: 1.729438304901123\n",
            "Epoch: 47 Step: 2000 Val Loss: 1.7295132875442505\n",
            "Epoch: 48 Step: 2025 Val Loss: 1.7254408597946167\n",
            "Epoch: 48 Step: 2050 Val Loss: 1.7240586280822754\n",
            "Epoch: 49 Step: 2075 Val Loss: 1.7282986640930176\n",
            "Epoch: 49 Step: 2100 Val Loss: 1.7307944297790527\n"
          ]
        }
      ]
    },
    {
      "cell_type": "markdown",
      "source": [
        "## Save Model"
      ],
      "metadata": {
        "id": "MppC9vXYXuPT"
      }
    },
    {
      "cell_type": "code",
      "source": [
        "# model_name = 'example.net'\n",
        "# torch.save(model.state_dict(),model_name)"
      ],
      "metadata": {
        "id": "6oKbS4NiPsiS"
      },
      "execution_count": 79,
      "outputs": []
    },
    {
      "cell_type": "markdown",
      "source": [
        "## Load Model"
      ],
      "metadata": {
        "id": "RiQwcWTEge-N"
      }
    },
    {
      "cell_type": "code",
      "source": [
        "# model = CharModel(\n",
        "#     all_chars=all_characters,\n",
        "#     num_hidden=512,\n",
        "#     num_layers=3,\n",
        "#     drop_prob=0.5,\n",
        "#     use_gpu=True,\n",
        "# )\n",
        "\n",
        "# model.load_state_dict(torch.load(model_name))\n",
        "# model.eval()"
      ],
      "metadata": {
        "id": "bslYmexSghCs"
      },
      "execution_count": 80,
      "outputs": []
    },
    {
      "cell_type": "markdown",
      "source": [
        "## Generate Predictions"
      ],
      "metadata": {
        "id": "Z9pZxm2PgqSK"
      }
    },
    {
      "cell_type": "code",
      "source": [
        "def predict_next_char(model, char, hidden=None, k=1):\n",
        "\n",
        "        # Encode raw letters with model\n",
        "        encoded_text = model.encoder[char]\n",
        "\n",
        "        # set as numpy array for one hot encoding\n",
        "        # NOTE THE [[ ]] dimensions!!\n",
        "        encoded_text = np.array([[encoded_text]])\n",
        "\n",
        "        # One hot encoding\n",
        "        encoded_text = one_hot_encoder(encoded_text, len(model.all_chars))\n",
        "\n",
        "        # Convert to Tensor\n",
        "        inputs = torch.from_numpy(encoded_text)\n",
        "\n",
        "        # Check for CPU\n",
        "        if(model.use_gpu):\n",
        "            inputs = inputs.cuda()\n",
        "\n",
        "\n",
        "        # Grab hidden states\n",
        "        hidden = tuple([state.data for state in hidden])\n",
        "\n",
        "\n",
        "        # Run model and get predicted output\n",
        "        lstm_out, hidden = model(inputs, hidden)\n",
        "\n",
        "\n",
        "        # Convert lstm_out to probabilities\n",
        "        probs = F.softmax(lstm_out, dim=1).data\n",
        "\n",
        "\n",
        "\n",
        "        if(model.use_gpu):\n",
        "            # move back to CPU to use with numpy\n",
        "            probs = probs.cpu()\n",
        "\n",
        "\n",
        "        # k determines how many characters to consider\n",
        "        # for our probability choice.\n",
        "        # https://pytorch.org/docs/stable/torch.html#torch.topk\n",
        "\n",
        "        # Return k largest probabilities in tensor\n",
        "        probs, index_positions = probs.topk(k)\n",
        "\n",
        "\n",
        "        index_positions = index_positions.numpy().squeeze()\n",
        "\n",
        "        # Create array of probabilities\n",
        "        probs = probs.numpy().flatten()\n",
        "\n",
        "        # Convert to probabilities per index\n",
        "        probs = probs/probs.sum()\n",
        "\n",
        "        # randomly choose a character based on probabilities\n",
        "        char = np.random.choice(index_positions, p=probs)\n",
        "\n",
        "        # return the encoded value of the predicted char and the hidden state\n",
        "        return model.decoder[char], hidden"
      ],
      "metadata": {
        "id": "ZwPF-S88gsX9"
      },
      "execution_count": 81,
      "outputs": []
    },
    {
      "cell_type": "code",
      "source": [
        "def generate_text(model, size, seed='The', k=1):\n",
        "\n",
        "\n",
        "\n",
        "    # CHECK FOR GPU\n",
        "    if(model.use_gpu):\n",
        "        model.cuda()\n",
        "    else:\n",
        "        model.cpu()\n",
        "\n",
        "    # Evaluation mode\n",
        "    model.eval()\n",
        "\n",
        "    # begin output from initial seed\n",
        "    output_chars = [c for c in seed]\n",
        "\n",
        "    # intiate hidden state\n",
        "    hidden = model.hidden_state(1)\n",
        "\n",
        "    # predict the next character for every character in seed\n",
        "    for char in seed:\n",
        "        char, hidden = predict_next_char(model, char, hidden, k=k)\n",
        "\n",
        "    # add initial characters to output\n",
        "    output_chars.append(char)\n",
        "\n",
        "    # Now generate for size requested\n",
        "    for i in range(size):\n",
        "\n",
        "        # predict based off very last letter in output_chars\n",
        "        char, hidden = predict_next_char(model, output_chars[-1], hidden, k=k)\n",
        "\n",
        "        # add predicted character\n",
        "        output_chars.append(char)\n",
        "\n",
        "    # return string of predicted text\n",
        "    return ''.join(output_chars)"
      ],
      "metadata": {
        "id": "739jtDb6g01S"
      },
      "execution_count": 82,
      "outputs": []
    },
    {
      "cell_type": "code",
      "source": [
        "print(generate_text(model, 1000, seed='The ', k=3))"
      ],
      "metadata": {
        "id": "Ti7A2GVKg6Lq",
        "outputId": "f37c2cad-c552-4466-b8e3-f539620549dd",
        "colab": {
          "base_uri": "https://localhost:8080/"
        }
      },
      "execution_count": 83,
      "outputs": [
        {
          "output_type": "stream",
          "name": "stdout",
          "text": [
            "The vvvZ)ZZ)ZZZ))vvvvZ)))vvZZZZZ)vv)ZZ)Z)Z)vZ)Z)Zv)))ZZ))Z)vvZZ)ZZvvv)v))vZ)v)vvZvZ))vZZv))Z)v)Z)v)))Z)))v))vZZv)vZv)))ZZvZZZ))Z)vZvZZ))ZvZZvv)vZZ))v)ZZ)ZZZ)ZZ))ZZvvvv)))Z))vv)v))vZZZv)vZZvZ)ZZZ)vZ)Zv)vZvZ))Z)v))v)ZvvvZ)vvZvZv)ZZ))v)v)))vZZZZv)ZZvZ)v)ZZ)vZZZvvZ)))Zv)Z)ZZvvZZvZZ)ZvZ))Zvv)ZZ)vZ)))vZvZvZv)v)))))))vZvvZZ))vZv)Zvv)v)vZv)vZvvZ)ZvZZv)vZvvZ)vvZv)vZ)))Z)ZvZv))vv)ZvvZvZvv)Z))vvZvZvv))))ZZ)Z))Z)))ZZZ)Z))v)vv)Zvv)Z)vvZ))Z)))ZZ)v)v)ZvZvZZ)vZ))vvvvZ)vZ)Zv)v)ZZ))vZ)vvvZZvv)vvZ)ZZZZ)))Z))))ZZZZ))ZZ)Z)vZ)ZZv)ZvZZvvvvvv)ZZZv)vv))v)ZZZZvZvZZZvv)ZZv)vZZvZZZZvZZ)Zvv)))ZvZZZvZZ)vv)ZZ)v))ZZZZZ))Z))vZ)v))v)vZv))Zv)v))ZZvZ)v))vZv)v)))ZZZZvv)Z))vZ)Z)ZvZZZv)Zv))vvvZZvZZ))ZvZvv)vZZ)Z)Zv)vZv)vvvv)))Z)Z)Z)ZZ))vZZ))ZZZ)v)Zv)ZZvZ))vZZvvZZZZ)Z)Z)ZZ)ZZ)ZvZZv)Z)ZvZZvvZv)v)Zv)vvv)ZZ)ZZ)v)ZZ))vv)vZ))v)vv)vZ)vZv)vZ)Z)vZvv)Z)vZ))ZvZZvZvZ))Z)))v)v))ZvZ)ZZ)vZ)ZZvv)vZ)vZZ)vvZ)ZZZ)v)))v)))vvv))v)Z))vvZ)v)ZZv)vZ)Zvvv)vZ)v))Zv)vZZvvZZZvvv)Z)Zvvvv)vvZvv)ZvZvv)vvvZZvv)vv)ZZZZZZ))v)Z)Z))v)))Z)Zvv)Z)Z)))ZZ)vvv)vZZ))ZvvZvv\n"
          ]
        }
      ]
    },
    {
      "cell_type": "code",
      "source": [],
      "metadata": {
        "id": "ku9apWYRg8j1"
      },
      "execution_count": null,
      "outputs": []
    }
  ]
}