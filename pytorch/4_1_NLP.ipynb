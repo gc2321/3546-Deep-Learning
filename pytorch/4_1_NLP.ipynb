{
  "nbformat": 4,
  "nbformat_minor": 0,
  "metadata": {
    "colab": {
      "provenance": [],
      "authorship_tag": "ABX9TyPr5GiPO9Wrq4ryEuwCpteO",
      "include_colab_link": true
    },
    "kernelspec": {
      "name": "python3",
      "display_name": "Python 3"
    },
    "language_info": {
      "name": "python"
    }
  },
  "cells": [
    {
      "cell_type": "markdown",
      "metadata": {
        "id": "view-in-github",
        "colab_type": "text"
      },
      "source": [
        "<a href=\"https://colab.research.google.com/github/gc2321/3546-Deep-Learning/blob/main/pytorch/4_1_NLP.ipynb\" target=\"_parent\"><img src=\"https://colab.research.google.com/assets/colab-badge.svg\" alt=\"Open In Colab\"/></a>"
      ]
    },
    {
      "cell_type": "code",
      "execution_count": 1,
      "metadata": {
        "id": "OziT1vTBlMfo"
      },
      "outputs": [],
      "source": [
        "from torch import nn\n",
        "import torch.nn.functional as F\n",
        "\n",
        "import numpy as np\n",
        "import matplotlib.pyplot as plt"
      ]
    },
    {
      "cell_type": "markdown",
      "source": [
        "## Load Data"
      ],
      "metadata": {
        "id": "3BIipZed53pM"
      }
    },
    {
      "cell_type": "code",
      "source": [
        "file = \"/content/gdrive/MyDrive/neural_data/shakespeare.txt\""
      ],
      "metadata": {
        "id": "CAHjcbSdNzj9"
      },
      "execution_count": 2,
      "outputs": []
    },
    {
      "cell_type": "code",
      "source": [
        "from google.colab import drive\n",
        "drive.mount('/content/gdrive')\n"
      ],
      "metadata": {
        "colab": {
          "base_uri": "https://localhost:8080/"
        },
        "id": "8gV230DmPeIB",
        "outputId": "2656c008-3a35-43b9-9e26-1923fad853bf"
      },
      "execution_count": 3,
      "outputs": [
        {
          "output_type": "stream",
          "name": "stdout",
          "text": [
            "Mounted at /content/gdrive\n"
          ]
        }
      ]
    },
    {
      "cell_type": "code",
      "source": [
        "with open(file,'r',encoding='utf8') as f:\n",
        "    text = f.read()"
      ],
      "metadata": {
        "id": "GamoGy3xPh2s"
      },
      "execution_count": 4,
      "outputs": []
    },
    {
      "cell_type": "code",
      "source": [
        "text[:1000]"
      ],
      "metadata": {
        "colab": {
          "base_uri": "https://localhost:8080/",
          "height": 126
        },
        "id": "x_-1qOzfP6sk",
        "outputId": "bc0d4464-6a6d-40a2-f15e-9a3aed05e4bf"
      },
      "execution_count": 5,
      "outputs": [
        {
          "output_type": "execute_result",
          "data": {
            "text/plain": [
              "\"\\n                     1\\n  From fairest creatures we desire increase,\\n  That thereby beauty's rose might never die,\\n  But as the riper should by time decease,\\n  His tender heir might bear his memory:\\n  But thou contracted to thine own bright eyes,\\n  Feed'st thy light's flame with self-substantial fuel,\\n  Making a famine where abundance lies,\\n  Thy self thy foe, to thy sweet self too cruel:\\n  Thou that art now the world's fresh ornament,\\n  And only herald to the gaudy spring,\\n  Within thine own bud buriest thy content,\\n  And tender churl mak'st waste in niggarding:\\n    Pity the world, or else this glutton be,\\n    To eat the world's due, by the grave and thee.\\n\\n\\n                     2\\n  When forty winters shall besiege thy brow,\\n  And dig deep trenches in thy beauty's field,\\n  Thy youth's proud livery so gazed on now,\\n  Will be a tattered weed of small worth held:  \\n  Then being asked, where all thy beauty lies,\\n  Where all the treasure of thy lusty days;\\n  To say within thine own deep su\""
            ],
            "application/vnd.google.colaboratory.intrinsic+json": {
              "type": "string"
            }
          },
          "metadata": {},
          "execution_count": 5
        }
      ]
    },
    {
      "cell_type": "code",
      "source": [
        "print(text[:1000])"
      ],
      "metadata": {
        "colab": {
          "base_uri": "https://localhost:8080/"
        },
        "id": "SqNNs6PiPvY9",
        "outputId": "2f8d852b-6e51-4fc5-aebb-05dfed5089ea"
      },
      "execution_count": 6,
      "outputs": [
        {
          "output_type": "stream",
          "name": "stdout",
          "text": [
            "\n",
            "                     1\n",
            "  From fairest creatures we desire increase,\n",
            "  That thereby beauty's rose might never die,\n",
            "  But as the riper should by time decease,\n",
            "  His tender heir might bear his memory:\n",
            "  But thou contracted to thine own bright eyes,\n",
            "  Feed'st thy light's flame with self-substantial fuel,\n",
            "  Making a famine where abundance lies,\n",
            "  Thy self thy foe, to thy sweet self too cruel:\n",
            "  Thou that art now the world's fresh ornament,\n",
            "  And only herald to the gaudy spring,\n",
            "  Within thine own bud buriest thy content,\n",
            "  And tender churl mak'st waste in niggarding:\n",
            "    Pity the world, or else this glutton be,\n",
            "    To eat the world's due, by the grave and thee.\n",
            "\n",
            "\n",
            "                     2\n",
            "  When forty winters shall besiege thy brow,\n",
            "  And dig deep trenches in thy beauty's field,\n",
            "  Thy youth's proud livery so gazed on now,\n",
            "  Will be a tattered weed of small worth held:  \n",
            "  Then being asked, where all thy beauty lies,\n",
            "  Where all the treasure of thy lusty days;\n",
            "  To say within thine own deep su\n"
          ]
        }
      ]
    },
    {
      "cell_type": "code",
      "source": [
        "len(text)"
      ],
      "metadata": {
        "id": "wjAjXOQIqC6x",
        "outputId": "e2485516-abfa-426e-9c6c-df4db9e05b66",
        "colab": {
          "base_uri": "https://localhost:8080/"
        }
      },
      "execution_count": 7,
      "outputs": [
        {
          "output_type": "execute_result",
          "data": {
            "text/plain": [
              "5445609"
            ]
          },
          "metadata": {},
          "execution_count": 7
        }
      ]
    },
    {
      "cell_type": "markdown",
      "source": [
        "## Encode Entire Text"
      ],
      "metadata": {
        "id": "iOBi3M-SqGw4"
      }
    },
    {
      "cell_type": "code",
      "source": [
        "all_characters = set(text)"
      ],
      "metadata": {
        "id": "M36b31GlqFBr"
      },
      "execution_count": 8,
      "outputs": []
    },
    {
      "cell_type": "code",
      "source": [
        "all_characters"
      ],
      "metadata": {
        "id": "rDnKBF0vqKze",
        "outputId": "88e10fde-98ac-4efb-c97b-74c66fa92f98",
        "colab": {
          "base_uri": "https://localhost:8080/"
        }
      },
      "execution_count": 9,
      "outputs": [
        {
          "output_type": "execute_result",
          "data": {
            "text/plain": [
              "{'\\n',\n",
              " ' ',\n",
              " '!',\n",
              " '\"',\n",
              " '&',\n",
              " \"'\",\n",
              " '(',\n",
              " ')',\n",
              " ',',\n",
              " '-',\n",
              " '.',\n",
              " '0',\n",
              " '1',\n",
              " '2',\n",
              " '3',\n",
              " '4',\n",
              " '5',\n",
              " '6',\n",
              " '7',\n",
              " '8',\n",
              " '9',\n",
              " ':',\n",
              " ';',\n",
              " '<',\n",
              " '>',\n",
              " '?',\n",
              " 'A',\n",
              " 'B',\n",
              " 'C',\n",
              " 'D',\n",
              " 'E',\n",
              " 'F',\n",
              " 'G',\n",
              " 'H',\n",
              " 'I',\n",
              " 'J',\n",
              " 'K',\n",
              " 'L',\n",
              " 'M',\n",
              " 'N',\n",
              " 'O',\n",
              " 'P',\n",
              " 'Q',\n",
              " 'R',\n",
              " 'S',\n",
              " 'T',\n",
              " 'U',\n",
              " 'V',\n",
              " 'W',\n",
              " 'X',\n",
              " 'Y',\n",
              " 'Z',\n",
              " '[',\n",
              " ']',\n",
              " '_',\n",
              " '`',\n",
              " 'a',\n",
              " 'b',\n",
              " 'c',\n",
              " 'd',\n",
              " 'e',\n",
              " 'f',\n",
              " 'g',\n",
              " 'h',\n",
              " 'i',\n",
              " 'j',\n",
              " 'k',\n",
              " 'l',\n",
              " 'm',\n",
              " 'n',\n",
              " 'o',\n",
              " 'p',\n",
              " 'q',\n",
              " 'r',\n",
              " 's',\n",
              " 't',\n",
              " 'u',\n",
              " 'v',\n",
              " 'w',\n",
              " 'x',\n",
              " 'y',\n",
              " 'z',\n",
              " '|',\n",
              " '}'}"
            ]
          },
          "metadata": {},
          "execution_count": 9
        }
      ]
    },
    {
      "cell_type": "code",
      "source": [
        "decoder = dict(enumerate(all_characters))"
      ],
      "metadata": {
        "id": "GwSY9J7sqNvm"
      },
      "execution_count": 10,
      "outputs": []
    },
    {
      "cell_type": "code",
      "source": [
        "encoder = {char: ind for ind,char in decoder.items()}"
      ],
      "metadata": {
        "id": "SS6OKcMmqQnM"
      },
      "execution_count": 11,
      "outputs": []
    },
    {
      "cell_type": "code",
      "source": [
        "encoded_text = np.array([encoder[char] for char in text])"
      ],
      "metadata": {
        "id": "CFmy_-4fqS5E"
      },
      "execution_count": 12,
      "outputs": []
    },
    {
      "cell_type": "code",
      "source": [
        "encoded_text[:500]"
      ],
      "metadata": {
        "id": "Xkyq2H4uqYpg",
        "outputId": "350c8fdf-d5c4-48ba-84f9-7b720126fb33",
        "colab": {
          "base_uri": "https://localhost:8080/"
        }
      },
      "execution_count": 13,
      "outputs": [
        {
          "output_type": "execute_result",
          "data": {
            "text/plain": [
              "array([58, 41, 41, 41, 41, 41, 41, 41, 41, 41, 41, 41, 41, 41, 41, 41, 41,\n",
              "       41, 41, 41, 41, 41, 73, 58, 41, 41, 47, 21, 80, 32, 41,  0, 70, 72,\n",
              "       21,  7, 43, 31, 41, 39, 21,  7, 70, 31, 35, 21,  7, 43, 41, 71,  7,\n",
              "       41, 66,  7, 43, 72, 21,  7, 41, 72, 61, 39, 21,  7, 70, 43,  7, 56,\n",
              "       58, 41, 41, 15,  5, 70, 31, 41, 31,  5,  7, 21,  7,  8, 76, 41,  8,\n",
              "        7, 70, 35, 31, 76, 77, 43, 41, 21, 80, 43,  7, 41, 32, 72, 63,  5,\n",
              "       31, 41, 61,  7,  4,  7, 21, 41, 66, 72,  7, 56, 58, 41, 41,  2, 35,\n",
              "       31, 41, 70, 43, 41, 31,  5,  7, 41, 21, 72, 24,  7, 21, 41, 43,  5,\n",
              "       80, 35, 10, 66, 41,  8, 76, 41, 31, 72, 32,  7, 41, 66,  7, 39,  7,\n",
              "       70, 43,  7, 56, 58, 41, 41, 68, 72, 43, 41, 31,  7, 61, 66,  7, 21,\n",
              "       41,  5,  7, 72, 21, 41, 32, 72, 63,  5, 31, 41,  8,  7, 70, 21, 41,\n",
              "        5, 72, 43, 41, 32,  7, 32, 80, 21, 76, 55, 58, 41, 41,  2, 35, 31,\n",
              "       41, 31,  5, 80, 35, 41, 39, 80, 61, 31, 21, 70, 39, 31,  7, 66, 41,\n",
              "       31, 80, 41, 31,  5, 72, 61,  7, 41, 80, 71, 61, 41,  8, 21, 72, 63,\n",
              "        5, 31, 41,  7, 76,  7, 43, 56, 58, 41, 41, 47,  7,  7, 66, 77, 43,\n",
              "       31, 41, 31,  5, 76, 41, 10, 72, 63,  5, 31, 77, 43, 41,  0, 10, 70,\n",
              "       32,  7, 41, 71, 72, 31,  5, 41, 43,  7, 10,  0, 36, 43, 35,  8, 43,\n",
              "       31, 70, 61, 31, 72, 70, 10, 41,  0, 35,  7, 10, 56, 58, 41, 41, 81,\n",
              "       70, 46, 72, 61, 63, 41, 70, 41,  0, 70, 32, 72, 61,  7, 41, 71,  5,\n",
              "        7, 21,  7, 41, 70,  8, 35, 61, 66, 70, 61, 39,  7, 41, 10, 72,  7,\n",
              "       43, 56, 58, 41, 41, 15,  5, 76, 41, 43,  7, 10,  0, 41, 31,  5, 76,\n",
              "       41,  0, 80,  7, 56, 41, 31, 80, 41, 31,  5, 76, 41, 43, 71,  7,  7,\n",
              "       31, 41, 43,  7, 10,  0, 41, 31, 80, 80, 41, 39, 21, 35,  7, 10, 55,\n",
              "       58, 41, 41, 15,  5, 80, 35, 41, 31,  5, 70, 31, 41, 70, 21, 31, 41,\n",
              "       61, 80, 71, 41, 31,  5,  7, 41, 71, 80, 21, 10, 66, 77, 43, 41,  0,\n",
              "       21,  7, 43,  5, 41, 80, 21, 61, 70, 32,  7, 61, 31, 56, 58, 41, 41,\n",
              "        6, 61, 66, 41, 80, 61, 10, 76, 41,  5,  7, 21, 70, 10, 66, 41, 31,\n",
              "       80, 41, 31,  5,  7, 41, 63, 70, 35, 66, 76, 41, 43, 24, 21, 72, 61,\n",
              "       63, 56, 58, 41, 41, 40, 72, 31,  5, 72, 61, 41, 31,  5, 72, 61,  7,\n",
              "       41, 80, 71, 61, 41,  8, 35])"
            ]
          },
          "metadata": {},
          "execution_count": 13
        }
      ]
    },
    {
      "cell_type": "markdown",
      "source": [
        "## One Hot Encoding"
      ],
      "metadata": {
        "id": "ep9R8PfJrcS-"
      }
    },
    {
      "cell_type": "code",
      "source": [
        "def one_hot_encoder(encoded_text, num_uni_chars):\n",
        "    '''\n",
        "    encoded_text : batch of encoded text\n",
        "\n",
        "    num_uni_chars = number of unique characters (len(set(text)))\n",
        "    '''\n",
        "\n",
        "    # METHOD FROM:\n",
        "    # https://stackoverflow.com/questions/29831489/convert-encoded_textay-of-indices-to-1-hot-encoded-numpy-encoded_textay\n",
        "\n",
        "    # Create a placeholder for zeros.\n",
        "    one_hot = np.zeros((encoded_text.size, num_uni_chars))\n",
        "\n",
        "    # Convert data type for later use with pytorch (errors if we dont!)\n",
        "    one_hot = one_hot.astype(np.float32)\n",
        "\n",
        "    # Using fancy indexing fill in the 1s at the correct index locations\n",
        "    one_hot[np.arange(one_hot.shape[0]), encoded_text.flatten()] = 1.0\n",
        "\n",
        "\n",
        "    # Reshape it so it matches the batch sahe\n",
        "    one_hot = one_hot.reshape((*encoded_text.shape, num_uni_chars))\n",
        "\n",
        "    return one_hot"
      ],
      "metadata": {
        "id": "UKwrc60Lqbkz"
      },
      "execution_count": 14,
      "outputs": []
    },
    {
      "cell_type": "code",
      "source": [
        "one_hot_encoder(np.array([1,2,0]),3)"
      ],
      "metadata": {
        "id": "5R31BPAurg6O",
        "outputId": "b58b4ac6-c111-4f49-efb5-626504860e02",
        "colab": {
          "base_uri": "https://localhost:8080/"
        }
      },
      "execution_count": 15,
      "outputs": [
        {
          "output_type": "execute_result",
          "data": {
            "text/plain": [
              "array([[0., 1., 0.],\n",
              "       [0., 0., 1.],\n",
              "       [1., 0., 0.]], dtype=float32)"
            ]
          },
          "metadata": {},
          "execution_count": 15
        }
      ]
    },
    {
      "cell_type": "markdown",
      "source": [
        "## Creating Training Batches"
      ],
      "metadata": {
        "id": "UIJ21XZ8JQdE"
      }
    },
    {
      "cell_type": "code",
      "source": [
        "example_text = np.arange(10)"
      ],
      "metadata": {
        "id": "QlioyFYWt3Ac"
      },
      "execution_count": 16,
      "outputs": []
    },
    {
      "cell_type": "code",
      "source": [
        "example_text"
      ],
      "metadata": {
        "id": "GLmjh2nDJVLO",
        "outputId": "84f90c16-dc67-4a61-8024-688694612ad5",
        "colab": {
          "base_uri": "https://localhost:8080/"
        }
      },
      "execution_count": 17,
      "outputs": [
        {
          "output_type": "execute_result",
          "data": {
            "text/plain": [
              "array([0, 1, 2, 3, 4, 5, 6, 7, 8, 9])"
            ]
          },
          "metadata": {},
          "execution_count": 17
        }
      ]
    },
    {
      "cell_type": "code",
      "source": [
        "# If we wanted 5 batches\n",
        "example_text.reshape((5,-1))"
      ],
      "metadata": {
        "id": "8LYOAIGHJYv-",
        "outputId": "fae7b14a-d843-4e37-d276-12eb4d8be26f",
        "colab": {
          "base_uri": "https://localhost:8080/"
        }
      },
      "execution_count": 18,
      "outputs": [
        {
          "output_type": "execute_result",
          "data": {
            "text/plain": [
              "array([[0, 1],\n",
              "       [2, 3],\n",
              "       [4, 5],\n",
              "       [6, 7],\n",
              "       [8, 9]])"
            ]
          },
          "metadata": {},
          "execution_count": 18
        }
      ]
    },
    {
      "cell_type": "code",
      "source": [
        "def generate_batches(encoded_text, samp_per_batch=10, seq_len=50):\n",
        "\n",
        "    '''\n",
        "    Generate (using yield) batches for training.\n",
        "\n",
        "    X: Encoded Text of length seq_len\n",
        "    Y: Encoded Text shifted by one\n",
        "\n",
        "    Example:\n",
        "\n",
        "    X:\n",
        "\n",
        "    [[1 2 3]]\n",
        "\n",
        "    Y:\n",
        "\n",
        "    [[ 2 3 4]]\n",
        "\n",
        "    encoded_text : Complete Encoded Text to make batches from\n",
        "    batch_size : Number of samples per batch\n",
        "    seq_len : Length of character sequence\n",
        "\n",
        "    '''\n",
        "\n",
        "    # Total number of characters per batch\n",
        "    # Example: If samp_per_batch is 2 and seq_len is 50, then 100\n",
        "    # characters come out per batch.\n",
        "    char_per_batch = samp_per_batch * seq_len\n",
        "\n",
        "\n",
        "    # Number of batches available to make\n",
        "    # Use int() to roun to nearest integer\n",
        "    num_batches_avail = int(len(encoded_text)/char_per_batch)\n",
        "\n",
        "    # Cut off end of encoded_text that\n",
        "    # won't fit evenly into a batch\n",
        "    encoded_text = encoded_text[:num_batches_avail * char_per_batch]\n",
        "\n",
        "\n",
        "    # Reshape text into rows the size of a batch\n",
        "    encoded_text = encoded_text.reshape((samp_per_batch, -1))\n",
        "\n",
        "\n",
        "    # Go through each row in array.\n",
        "    for n in range(0, encoded_text.shape[1], seq_len):\n",
        "\n",
        "        # Grab feature characters\n",
        "        x = encoded_text[:, n:n+seq_len]\n",
        "\n",
        "        # y is the target shifted over by 1\n",
        "        y = np.zeros_like(x)\n",
        "\n",
        "        #\n",
        "        try:\n",
        "            y[:, :-1] = x[:, 1:]\n",
        "            y[:, -1]  = encoded_text[:, n+seq_len]\n",
        "\n",
        "        # FOR POTENTIAL INDEXING ERROR AT THE END\n",
        "        except:\n",
        "            y[:, :-1] = x[:, 1:]\n",
        "            y[:, -1] = encoded_text[:, 0]\n",
        "\n",
        "        yield x, y"
      ],
      "metadata": {
        "id": "rNCwXyODJd4t"
      },
      "execution_count": 19,
      "outputs": []
    },
    {
      "cell_type": "code",
      "source": [],
      "metadata": {
        "id": "bTbqloBiJmMu"
      },
      "execution_count": null,
      "outputs": []
    }
  ]
}