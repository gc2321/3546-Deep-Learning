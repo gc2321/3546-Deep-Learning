{
  "nbformat": 4,
  "nbformat_minor": 0,
  "metadata": {
    "colab": {
      "provenance": [],
      "gpuType": "T4",
      "authorship_tag": "ABX9TyMevT+pKtJwoZLujLN/GmrH",
      "include_colab_link": true
    },
    "kernelspec": {
      "name": "python3",
      "display_name": "Python 3"
    },
    "language_info": {
      "name": "python"
    },
    "accelerator": "GPU"
  },
  "cells": [
    {
      "cell_type": "markdown",
      "metadata": {
        "id": "view-in-github",
        "colab_type": "text"
      },
      "source": [
        "<a href=\"https://colab.research.google.com/github/gc2321/3546-Deep-Learning/blob/main/pytorch/4_1_NLP.ipynb\" target=\"_parent\"><img src=\"https://colab.research.google.com/assets/colab-badge.svg\" alt=\"Open In Colab\"/></a>"
      ]
    },
    {
      "cell_type": "code",
      "execution_count": 1,
      "metadata": {
        "id": "OziT1vTBlMfo"
      },
      "outputs": [],
      "source": [
        "import torch\n",
        "from torch import nn\n",
        "import torch.nn.functional as F\n",
        "\n",
        "import numpy as np\n",
        "import matplotlib.pyplot as plt"
      ]
    },
    {
      "cell_type": "markdown",
      "source": [
        "## Load Data"
      ],
      "metadata": {
        "id": "3BIipZed53pM"
      }
    },
    {
      "cell_type": "code",
      "source": [
        "file = \"/content/gdrive/MyDrive/neural_data/shakespeare.txt\""
      ],
      "metadata": {
        "id": "CAHjcbSdNzj9"
      },
      "execution_count": 2,
      "outputs": []
    },
    {
      "cell_type": "code",
      "source": [
        "from google.colab import drive\n",
        "drive.mount('/content/gdrive')\n"
      ],
      "metadata": {
        "colab": {
          "base_uri": "https://localhost:8080/"
        },
        "id": "8gV230DmPeIB",
        "outputId": "f21672be-1f98-42b5-b3b6-0236c12fc015"
      },
      "execution_count": 3,
      "outputs": [
        {
          "output_type": "stream",
          "name": "stdout",
          "text": [
            "Mounted at /content/gdrive\n"
          ]
        }
      ]
    },
    {
      "cell_type": "code",
      "source": [
        "with open(file,'r',encoding='utf8') as f:\n",
        "    text = f.read()"
      ],
      "metadata": {
        "id": "GamoGy3xPh2s"
      },
      "execution_count": 4,
      "outputs": []
    },
    {
      "cell_type": "code",
      "source": [
        "text[:1000]"
      ],
      "metadata": {
        "colab": {
          "base_uri": "https://localhost:8080/",
          "height": 126
        },
        "id": "x_-1qOzfP6sk",
        "outputId": "a42c1e8d-d219-4824-9c39-74b7b210c691"
      },
      "execution_count": 5,
      "outputs": [
        {
          "output_type": "execute_result",
          "data": {
            "text/plain": [
              "\"\\n                     1\\n  From fairest creatures we desire increase,\\n  That thereby beauty's rose might never die,\\n  But as the riper should by time decease,\\n  His tender heir might bear his memory:\\n  But thou contracted to thine own bright eyes,\\n  Feed'st thy light's flame with self-substantial fuel,\\n  Making a famine where abundance lies,\\n  Thy self thy foe, to thy sweet self too cruel:\\n  Thou that art now the world's fresh ornament,\\n  And only herald to the gaudy spring,\\n  Within thine own bud buriest thy content,\\n  And tender churl mak'st waste in niggarding:\\n    Pity the world, or else this glutton be,\\n    To eat the world's due, by the grave and thee.\\n\\n\\n                     2\\n  When forty winters shall besiege thy brow,\\n  And dig deep trenches in thy beauty's field,\\n  Thy youth's proud livery so gazed on now,\\n  Will be a tattered weed of small worth held:  \\n  Then being asked, where all thy beauty lies,\\n  Where all the treasure of thy lusty days;\\n  To say within thine own deep su\""
            ],
            "application/vnd.google.colaboratory.intrinsic+json": {
              "type": "string"
            }
          },
          "metadata": {},
          "execution_count": 5
        }
      ]
    },
    {
      "cell_type": "code",
      "source": [
        "print(text[:1000])"
      ],
      "metadata": {
        "colab": {
          "base_uri": "https://localhost:8080/"
        },
        "id": "SqNNs6PiPvY9",
        "outputId": "e2f0a92a-645f-416e-ac7b-86c9d6b59cf9"
      },
      "execution_count": 6,
      "outputs": [
        {
          "output_type": "stream",
          "name": "stdout",
          "text": [
            "\n",
            "                     1\n",
            "  From fairest creatures we desire increase,\n",
            "  That thereby beauty's rose might never die,\n",
            "  But as the riper should by time decease,\n",
            "  His tender heir might bear his memory:\n",
            "  But thou contracted to thine own bright eyes,\n",
            "  Feed'st thy light's flame with self-substantial fuel,\n",
            "  Making a famine where abundance lies,\n",
            "  Thy self thy foe, to thy sweet self too cruel:\n",
            "  Thou that art now the world's fresh ornament,\n",
            "  And only herald to the gaudy spring,\n",
            "  Within thine own bud buriest thy content,\n",
            "  And tender churl mak'st waste in niggarding:\n",
            "    Pity the world, or else this glutton be,\n",
            "    To eat the world's due, by the grave and thee.\n",
            "\n",
            "\n",
            "                     2\n",
            "  When forty winters shall besiege thy brow,\n",
            "  And dig deep trenches in thy beauty's field,\n",
            "  Thy youth's proud livery so gazed on now,\n",
            "  Will be a tattered weed of small worth held:  \n",
            "  Then being asked, where all thy beauty lies,\n",
            "  Where all the treasure of thy lusty days;\n",
            "  To say within thine own deep su\n"
          ]
        }
      ]
    },
    {
      "cell_type": "code",
      "source": [
        "len(text)"
      ],
      "metadata": {
        "id": "wjAjXOQIqC6x",
        "outputId": "b95f0093-742f-4f42-f105-ceecb203a72b",
        "colab": {
          "base_uri": "https://localhost:8080/"
        }
      },
      "execution_count": 7,
      "outputs": [
        {
          "output_type": "execute_result",
          "data": {
            "text/plain": [
              "5445609"
            ]
          },
          "metadata": {},
          "execution_count": 7
        }
      ]
    },
    {
      "cell_type": "markdown",
      "source": [
        "## Encode Entire Text"
      ],
      "metadata": {
        "id": "iOBi3M-SqGw4"
      }
    },
    {
      "cell_type": "code",
      "source": [
        "all_characters = set(text)"
      ],
      "metadata": {
        "id": "M36b31GlqFBr"
      },
      "execution_count": 8,
      "outputs": []
    },
    {
      "cell_type": "code",
      "source": [
        "all_characters"
      ],
      "metadata": {
        "id": "rDnKBF0vqKze",
        "outputId": "37c68d7a-aa78-4534-def6-b7067f9a4307",
        "colab": {
          "base_uri": "https://localhost:8080/"
        }
      },
      "execution_count": 9,
      "outputs": [
        {
          "output_type": "execute_result",
          "data": {
            "text/plain": [
              "{'\\n',\n",
              " ' ',\n",
              " '!',\n",
              " '\"',\n",
              " '&',\n",
              " \"'\",\n",
              " '(',\n",
              " ')',\n",
              " ',',\n",
              " '-',\n",
              " '.',\n",
              " '0',\n",
              " '1',\n",
              " '2',\n",
              " '3',\n",
              " '4',\n",
              " '5',\n",
              " '6',\n",
              " '7',\n",
              " '8',\n",
              " '9',\n",
              " ':',\n",
              " ';',\n",
              " '<',\n",
              " '>',\n",
              " '?',\n",
              " 'A',\n",
              " 'B',\n",
              " 'C',\n",
              " 'D',\n",
              " 'E',\n",
              " 'F',\n",
              " 'G',\n",
              " 'H',\n",
              " 'I',\n",
              " 'J',\n",
              " 'K',\n",
              " 'L',\n",
              " 'M',\n",
              " 'N',\n",
              " 'O',\n",
              " 'P',\n",
              " 'Q',\n",
              " 'R',\n",
              " 'S',\n",
              " 'T',\n",
              " 'U',\n",
              " 'V',\n",
              " 'W',\n",
              " 'X',\n",
              " 'Y',\n",
              " 'Z',\n",
              " '[',\n",
              " ']',\n",
              " '_',\n",
              " '`',\n",
              " 'a',\n",
              " 'b',\n",
              " 'c',\n",
              " 'd',\n",
              " 'e',\n",
              " 'f',\n",
              " 'g',\n",
              " 'h',\n",
              " 'i',\n",
              " 'j',\n",
              " 'k',\n",
              " 'l',\n",
              " 'm',\n",
              " 'n',\n",
              " 'o',\n",
              " 'p',\n",
              " 'q',\n",
              " 'r',\n",
              " 's',\n",
              " 't',\n",
              " 'u',\n",
              " 'v',\n",
              " 'w',\n",
              " 'x',\n",
              " 'y',\n",
              " 'z',\n",
              " '|',\n",
              " '}'}"
            ]
          },
          "metadata": {},
          "execution_count": 9
        }
      ]
    },
    {
      "cell_type": "code",
      "source": [
        "decoder = dict(enumerate(all_characters))"
      ],
      "metadata": {
        "id": "GwSY9J7sqNvm"
      },
      "execution_count": 10,
      "outputs": []
    },
    {
      "cell_type": "code",
      "source": [
        "encoder = {char: ind for ind,char in decoder.items()}"
      ],
      "metadata": {
        "id": "SS6OKcMmqQnM"
      },
      "execution_count": 11,
      "outputs": []
    },
    {
      "cell_type": "code",
      "source": [
        "encoded_text = np.array([encoder[char] for char in text])"
      ],
      "metadata": {
        "id": "CFmy_-4fqS5E"
      },
      "execution_count": 12,
      "outputs": []
    },
    {
      "cell_type": "code",
      "source": [
        "encoded_text[:500]"
      ],
      "metadata": {
        "id": "Xkyq2H4uqYpg",
        "outputId": "e54888ea-175b-41b8-df15-6a5c8683adbc",
        "colab": {
          "base_uri": "https://localhost:8080/"
        }
      },
      "execution_count": 13,
      "outputs": [
        {
          "output_type": "execute_result",
          "data": {
            "text/plain": [
              "array([ 6, 20, 20, 20, 20, 20, 20, 20, 20, 20, 20, 20, 20, 20, 20, 20, 20,\n",
              "       20, 20, 20, 20, 20, 46,  6, 20, 20, 57, 53, 73, 76, 20,  0, 50, 54,\n",
              "       53, 18, 17, 16, 20, 45, 53, 18, 50, 16, 19, 53, 18, 17, 20, 14, 18,\n",
              "       20, 41, 18, 17, 54, 53, 18, 20, 54, 74, 45, 53, 18, 50, 17, 18, 38,\n",
              "        6, 20, 20, 65, 33, 50, 16, 20, 16, 33, 18, 53, 18, 77, 61, 20, 77,\n",
              "       18, 50, 19, 16, 61, 28, 17, 20, 53, 73, 17, 18, 20, 76, 54,  5, 33,\n",
              "       16, 20, 74, 18, 22, 18, 53, 20, 41, 54, 18, 38,  6, 20, 20, 35, 19,\n",
              "       16, 20, 50, 17, 20, 16, 33, 18, 20, 53, 54, 69, 18, 53, 20, 17, 33,\n",
              "       73, 19, 15, 41, 20, 77, 61, 20, 16, 54, 76, 18, 20, 41, 18, 45, 18,\n",
              "       50, 17, 18, 38,  6, 20, 20, 26, 54, 17, 20, 16, 18, 74, 41, 18, 53,\n",
              "       20, 33, 18, 54, 53, 20, 76, 54,  5, 33, 16, 20, 77, 18, 50, 53, 20,\n",
              "       33, 54, 17, 20, 76, 18, 76, 73, 53, 61, 48,  6, 20, 20, 35, 19, 16,\n",
              "       20, 16, 33, 73, 19, 20, 45, 73, 74, 16, 53, 50, 45, 16, 18, 41, 20,\n",
              "       16, 73, 20, 16, 33, 54, 74, 18, 20, 73, 14, 74, 20, 77, 53, 54,  5,\n",
              "       33, 16, 20, 18, 61, 18, 17, 38,  6, 20, 20, 57, 18, 18, 41, 28, 17,\n",
              "       16, 20, 16, 33, 61, 20, 15, 54,  5, 33, 16, 28, 17, 20,  0, 15, 50,\n",
              "       76, 18, 20, 14, 54, 16, 33, 20, 17, 18, 15,  0, 44, 17, 19, 77, 17,\n",
              "       16, 50, 74, 16, 54, 50, 15, 20,  0, 19, 18, 15, 38,  6, 20, 20, 62,\n",
              "       50, 70, 54, 74,  5, 20, 50, 20,  0, 50, 76, 54, 74, 18, 20, 14, 33,\n",
              "       18, 53, 18, 20, 50, 77, 19, 74, 41, 50, 74, 45, 18, 20, 15, 54, 18,\n",
              "       17, 38,  6, 20, 20, 65, 33, 61, 20, 17, 18, 15,  0, 20, 16, 33, 61,\n",
              "       20,  0, 73, 18, 38, 20, 16, 73, 20, 16, 33, 61, 20, 17, 14, 18, 18,\n",
              "       16, 20, 17, 18, 15,  0, 20, 16, 73, 73, 20, 45, 53, 19, 18, 15, 48,\n",
              "        6, 20, 20, 65, 33, 73, 19, 20, 16, 33, 50, 16, 20, 50, 53, 16, 20,\n",
              "       74, 73, 14, 20, 16, 33, 18, 20, 14, 73, 53, 15, 41, 28, 17, 20,  0,\n",
              "       53, 18, 17, 33, 20, 73, 53, 74, 50, 76, 18, 74, 16, 38,  6, 20, 20,\n",
              "       64, 74, 41, 20, 73, 74, 15, 61, 20, 33, 18, 53, 50, 15, 41, 20, 16,\n",
              "       73, 20, 16, 33, 18, 20,  5, 50, 19, 41, 61, 20, 17, 69, 53, 54, 74,\n",
              "        5, 38,  6, 20, 20, 40, 54, 16, 33, 54, 74, 20, 16, 33, 54, 74, 18,\n",
              "       20, 73, 14, 74, 20, 77, 19])"
            ]
          },
          "metadata": {},
          "execution_count": 13
        }
      ]
    },
    {
      "cell_type": "markdown",
      "source": [
        "## One Hot Encoding"
      ],
      "metadata": {
        "id": "ep9R8PfJrcS-"
      }
    },
    {
      "cell_type": "code",
      "source": [
        "def one_hot_encoder(encoded_text, num_uni_chars):\n",
        "    '''\n",
        "    encoded_text : batch of encoded text\n",
        "\n",
        "    num_uni_chars = number of unique characters (len(set(text)))\n",
        "    '''\n",
        "\n",
        "    # METHOD FROM:\n",
        "    # https://stackoverflow.com/questions/29831489/convert-encoded_textay-of-indices-to-1-hot-encoded-numpy-encoded_textay\n",
        "\n",
        "    # Create a placeholder for zeros.\n",
        "    one_hot = np.zeros((encoded_text.size, num_uni_chars))\n",
        "\n",
        "    # Convert data type for later use with pytorch (errors if we dont!)\n",
        "    one_hot = one_hot.astype(np.float32)\n",
        "\n",
        "    # Using fancy indexing fill in the 1s at the correct index locations\n",
        "    one_hot[np.arange(one_hot.shape[0]), encoded_text.flatten()] = 1.0\n",
        "\n",
        "\n",
        "    # Reshape it so it matches the batch sahe\n",
        "    one_hot = one_hot.reshape((*encoded_text.shape, num_uni_chars))\n",
        "\n",
        "    return one_hot"
      ],
      "metadata": {
        "id": "UKwrc60Lqbkz"
      },
      "execution_count": 14,
      "outputs": []
    },
    {
      "cell_type": "code",
      "source": [
        "one_hot_encoder(np.array([1,2,0]),3)"
      ],
      "metadata": {
        "id": "5R31BPAurg6O",
        "outputId": "eecf41c1-56d8-4a0c-f5b4-d6f88bd12d74",
        "colab": {
          "base_uri": "https://localhost:8080/"
        }
      },
      "execution_count": 15,
      "outputs": [
        {
          "output_type": "execute_result",
          "data": {
            "text/plain": [
              "array([[0., 1., 0.],\n",
              "       [0., 0., 1.],\n",
              "       [1., 0., 0.]], dtype=float32)"
            ]
          },
          "metadata": {},
          "execution_count": 15
        }
      ]
    },
    {
      "cell_type": "markdown",
      "source": [
        "## Creating Training Batches"
      ],
      "metadata": {
        "id": "UIJ21XZ8JQdE"
      }
    },
    {
      "cell_type": "code",
      "source": [
        "example_text = np.arange(10)"
      ],
      "metadata": {
        "id": "QlioyFYWt3Ac"
      },
      "execution_count": 16,
      "outputs": []
    },
    {
      "cell_type": "code",
      "source": [
        "example_text"
      ],
      "metadata": {
        "colab": {
          "base_uri": "https://localhost:8080/"
        },
        "id": "GLmjh2nDJVLO",
        "outputId": "429d5122-a1bc-4cb3-de07-f83dbb6d4389"
      },
      "execution_count": 17,
      "outputs": [
        {
          "output_type": "execute_result",
          "data": {
            "text/plain": [
              "array([0, 1, 2, 3, 4, 5, 6, 7, 8, 9])"
            ]
          },
          "metadata": {},
          "execution_count": 17
        }
      ]
    },
    {
      "cell_type": "code",
      "source": [
        "# If we wanted 5 batches\n",
        "example_text.reshape((5,-1))"
      ],
      "metadata": {
        "colab": {
          "base_uri": "https://localhost:8080/"
        },
        "id": "8LYOAIGHJYv-",
        "outputId": "c50835dc-29c7-4a9b-e182-cc123ac9afca"
      },
      "execution_count": 18,
      "outputs": [
        {
          "output_type": "execute_result",
          "data": {
            "text/plain": [
              "array([[0, 1],\n",
              "       [2, 3],\n",
              "       [4, 5],\n",
              "       [6, 7],\n",
              "       [8, 9]])"
            ]
          },
          "metadata": {},
          "execution_count": 18
        }
      ]
    },
    {
      "cell_type": "code",
      "source": [
        "def generate_batches(encoded_text, samp_per_batch=10, seq_len=50):\n",
        "\n",
        "    '''\n",
        "    Generate (using yield) batches for training.\n",
        "\n",
        "    X: Encoded Text of length seq_len\n",
        "    Y: Encoded Text shifted by one\n",
        "\n",
        "    Example:\n",
        "\n",
        "    X:\n",
        "\n",
        "    [[1 2 3]]\n",
        "\n",
        "    Y:\n",
        "\n",
        "    [[ 2 3 4]]\n",
        "\n",
        "    encoded_text : Complete Encoded Text to make batches from\n",
        "    batch_size : Number of samples per batch\n",
        "    seq_len : Length of character sequence\n",
        "\n",
        "    '''\n",
        "\n",
        "    # Total number of characters per batch\n",
        "    # Example: If samp_per_batch is 2 and seq_len is 50, then 100\n",
        "    # characters come out per batch.\n",
        "    char_per_batch = samp_per_batch * seq_len\n",
        "\n",
        "\n",
        "    # Number of batches available to make\n",
        "    # Use int() to roun to nearest integer\n",
        "    num_batches_avail = int(len(encoded_text)/char_per_batch)\n",
        "\n",
        "    # Cut off end of encoded_text that\n",
        "    # won't fit evenly into a batch\n",
        "    encoded_text = encoded_text[:num_batches_avail * char_per_batch]\n",
        "\n",
        "\n",
        "    # Reshape text into rows the size of a batch\n",
        "    encoded_text = encoded_text.reshape((samp_per_batch, -1))\n",
        "\n",
        "\n",
        "    # Go through each row in array.\n",
        "    for n in range(0, encoded_text.shape[1], seq_len):\n",
        "\n",
        "        # Grab feature characters\n",
        "        x = encoded_text[:, n:n+seq_len]\n",
        "\n",
        "        # y is the target shifted over by 1\n",
        "        y = np.zeros_like(x)\n",
        "\n",
        "        #\n",
        "        try:\n",
        "            y[:, :-1] = x[:, 1:]\n",
        "            y[:, -1]  = encoded_text[:, n+seq_len]\n",
        "\n",
        "        # FOR POTENTIAL INDEXING ERROR AT THE END\n",
        "        except:\n",
        "            y[:, :-1] = x[:, 1:]\n",
        "            y[:, -1] = encoded_text[:, 0]\n",
        "\n",
        "        yield x, y"
      ],
      "metadata": {
        "id": "rNCwXyODJd4t"
      },
      "execution_count": 19,
      "outputs": []
    },
    {
      "cell_type": "markdown",
      "source": [
        "### Example of generating a batch"
      ],
      "metadata": {
        "id": "LQRKqVAPLoGc"
      }
    },
    {
      "cell_type": "code",
      "source": [
        "sample_text = encoded_text[:20]"
      ],
      "metadata": {
        "id": "bTbqloBiJmMu"
      },
      "execution_count": 20,
      "outputs": []
    },
    {
      "cell_type": "code",
      "source": [
        "sample_text"
      ],
      "metadata": {
        "id": "G5tID-GsLtJW",
        "outputId": "25be51fc-2cd5-4d92-956c-734e8babda92",
        "colab": {
          "base_uri": "https://localhost:8080/"
        }
      },
      "execution_count": 21,
      "outputs": [
        {
          "output_type": "execute_result",
          "data": {
            "text/plain": [
              "array([ 6, 20, 20, 20, 20, 20, 20, 20, 20, 20, 20, 20, 20, 20, 20, 20, 20,\n",
              "       20, 20, 20])"
            ]
          },
          "metadata": {},
          "execution_count": 21
        }
      ]
    },
    {
      "cell_type": "code",
      "source": [
        "batch_generator = generate_batches(sample_text,samp_per_batch=2,seq_len=5)"
      ],
      "metadata": {
        "id": "WAsuUof8LuxU"
      },
      "execution_count": 22,
      "outputs": []
    },
    {
      "cell_type": "code",
      "source": [
        "x, y = next(batch_generator)"
      ],
      "metadata": {
        "id": "c6yqMDJqLwjO"
      },
      "execution_count": 23,
      "outputs": []
    },
    {
      "cell_type": "code",
      "source": [
        "x"
      ],
      "metadata": {
        "id": "NbFWfbYLL0kG",
        "outputId": "f463b2d8-a58c-4601-ed3f-c65530010042",
        "colab": {
          "base_uri": "https://localhost:8080/"
        }
      },
      "execution_count": 24,
      "outputs": [
        {
          "output_type": "execute_result",
          "data": {
            "text/plain": [
              "array([[ 6, 20, 20, 20, 20],\n",
              "       [20, 20, 20, 20, 20]])"
            ]
          },
          "metadata": {},
          "execution_count": 24
        }
      ]
    },
    {
      "cell_type": "code",
      "source": [
        "y"
      ],
      "metadata": {
        "id": "HKroEhFML1J8",
        "outputId": "0b2401f7-c9ef-4108-e9db-ca271c84f156",
        "colab": {
          "base_uri": "https://localhost:8080/"
        }
      },
      "execution_count": 25,
      "outputs": [
        {
          "output_type": "execute_result",
          "data": {
            "text/plain": [
              "array([[20, 20, 20, 20, 20],\n",
              "       [20, 20, 20, 20, 20]])"
            ]
          },
          "metadata": {},
          "execution_count": 25
        }
      ]
    },
    {
      "cell_type": "markdown",
      "source": [
        "### GPU Check"
      ],
      "metadata": {
        "id": "rij72hLxL70q"
      }
    },
    {
      "cell_type": "code",
      "source": [
        "torch.cuda.is_available()"
      ],
      "metadata": {
        "id": "WPNqMNHxL93d",
        "outputId": "ae162491-38ea-4c34-ef7a-f99de564aa03",
        "colab": {
          "base_uri": "https://localhost:8080/"
        }
      },
      "execution_count": 26,
      "outputs": [
        {
          "output_type": "execute_result",
          "data": {
            "text/plain": [
              "True"
            ]
          },
          "metadata": {},
          "execution_count": 26
        }
      ]
    },
    {
      "cell_type": "markdown",
      "source": [
        "## Creating the LSTM Model"
      ],
      "metadata": {
        "id": "nVSws094MYUe"
      }
    },
    {
      "cell_type": "code",
      "source": [
        "class CharModel(nn.Module):\n",
        "\n",
        "    def __init__(self, all_chars, num_hidden=256, num_layers=4,drop_prob=0.5,use_gpu=False):\n",
        "\n",
        "        # SET UP ATTRIBUTES\n",
        "        super().__init__()\n",
        "        self.drop_prob = drop_prob\n",
        "        self.num_layers = num_layers\n",
        "        self.num_hidden = num_hidden\n",
        "        self.use_gpu = use_gpu\n",
        "\n",
        "        #CHARACTER SET, ENCODER, and DECODER\n",
        "        self.all_chars = all_chars\n",
        "        self.decoder = dict(enumerate(all_chars))\n",
        "        self.encoder = {char: ind for ind,char in decoder.items()}\n",
        "\n",
        "        self.lstm = nn.LSTM(len(self.all_chars), num_hidden, num_layers, dropout=drop_prob, batch_first=True)\n",
        "        self.dropout = nn.Dropout(drop_prob)\n",
        "        self.fc_linear = nn.Linear(num_hidden, len(self.all_chars))\n",
        "\n",
        "    def forward(self, x, hidden):\n",
        "\n",
        "        lstm_output, hidden = self.lstm(x, hidden)\n",
        "        drop_output = self.dropout(lstm_output)\n",
        "        drop_output = drop_output.contiguous().view(-1, self.num_hidden)\n",
        "        final_out = self.fc_linear(drop_output)\n",
        "        return final_out, hidden\n",
        "\n",
        "    def hidden_state(self, batch_size):\n",
        "        '''\n",
        "        Used as separate method to account for both GPU and CPU users.\n",
        "        '''\n",
        "\n",
        "        if self.use_gpu:\n",
        "            hidden = (torch.zeros(self.num_layers,batch_size,self.num_hidden).cuda(),\n",
        "                     torch.zeros(self.num_layers,batch_size,self.num_hidden).cuda())\n",
        "        else:\n",
        "            hidden = (torch.zeros(self.num_layers,batch_size,self.num_hidden),\n",
        "                     torch.zeros(self.num_layers,batch_size,self.num_hidden))\n",
        "\n",
        "        return hidden"
      ],
      "metadata": {
        "id": "I080ogBnL_uG"
      },
      "execution_count": 28,
      "outputs": []
    },
    {
      "cell_type": "markdown",
      "source": [
        "### Instantiate the Model"
      ],
      "metadata": {
        "id": "XOFIbrPLM7oH"
      }
    },
    {
      "cell_type": "code",
      "source": [
        "model = CharModel(\n",
        "    all_chars=all_characters,\n",
        "    num_hidden=512,\n",
        "    num_layers=3,\n",
        "    drop_prob=0.5,\n",
        "    use_gpu=True,\n",
        ")"
      ],
      "metadata": {
        "id": "6pmzZi56M-AA"
      },
      "execution_count": 29,
      "outputs": []
    },
    {
      "cell_type": "code",
      "source": [
        "total_param  = []\n",
        "for p in model.parameters():\n",
        "    total_param.append(int(p.numel()))"
      ],
      "metadata": {
        "id": "i5tnUON7NEbR"
      },
      "execution_count": 30,
      "outputs": []
    },
    {
      "cell_type": "code",
      "source": [
        "sum(total_param)"
      ],
      "metadata": {
        "id": "gX2i4ws_NJIe",
        "outputId": "18b51833-01d5-4ce2-aa3f-05e251de8614",
        "colab": {
          "base_uri": "https://localhost:8080/"
        }
      },
      "execution_count": 31,
      "outputs": [
        {
          "output_type": "execute_result",
          "data": {
            "text/plain": [
              "5470292"
            ]
          },
          "metadata": {},
          "execution_count": 31
        }
      ]
    },
    {
      "cell_type": "code",
      "source": [
        "len(encoded_text)"
      ],
      "metadata": {
        "id": "6fdUrgzCNMjt",
        "outputId": "ffa505c3-7292-45c4-a396-6c2adf20d114",
        "colab": {
          "base_uri": "https://localhost:8080/"
        }
      },
      "execution_count": 32,
      "outputs": [
        {
          "output_type": "execute_result",
          "data": {
            "text/plain": [
              "5445609"
            ]
          },
          "metadata": {},
          "execution_count": 32
        }
      ]
    },
    {
      "cell_type": "markdown",
      "source": [
        "### Optimizer and Loss"
      ],
      "metadata": {
        "id": "L_OsAybSNQqy"
      }
    },
    {
      "cell_type": "code",
      "source": [
        "optimizer = torch.optim.Adam(model.parameters(),lr=0.001)\n",
        "criterion = nn.CrossEntropyLoss()"
      ],
      "metadata": {
        "id": "6mAxLdlkNOoG"
      },
      "execution_count": 33,
      "outputs": []
    },
    {
      "cell_type": "code",
      "source": [],
      "metadata": {
        "id": "CgMIj2kMNVX1"
      },
      "execution_count": null,
      "outputs": []
    }
  ]
}