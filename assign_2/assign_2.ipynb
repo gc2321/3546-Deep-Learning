{
  "nbformat": 4,
  "nbformat_minor": 0,
  "metadata": {
    "colab": {
      "provenance": [],
      "gpuType": "T4",
      "authorship_tag": "ABX9TyMUxxORezwnnGJfud4HCI1x",
      "include_colab_link": true
    },
    "kernelspec": {
      "name": "python3",
      "display_name": "Python 3"
    },
    "language_info": {
      "name": "python"
    },
    "accelerator": "GPU"
  },
  "cells": [
    {
      "cell_type": "markdown",
      "metadata": {
        "id": "view-in-github",
        "colab_type": "text"
      },
      "source": [
        "<a href=\"https://colab.research.google.com/github/gc2321/3546-Deep-Learning/blob/main/assign_2/assign_2.ipynb\" target=\"_parent\"><img src=\"https://colab.research.google.com/assets/colab-badge.svg\" alt=\"Open In Colab\"/></a>"
      ]
    },
    {
      "cell_type": "markdown",
      "source": [
        "# Classifying Flowers using Transfer Learning in Keras"
      ],
      "metadata": {
        "id": "upHyJKC91T7-"
      }
    },
    {
      "cell_type": "markdown",
      "source": [
        "Assignment 2 - Convolutional Neural Nets and Transfer Learning\n",
        "\n",
        "By Gordon Chan (qq525548)\n"
      ],
      "metadata": {
        "id": "uXoQh5r61RI6"
      }
    },
    {
      "cell_type": "code",
      "execution_count": 1,
      "metadata": {
        "id": "ydGDtyOHcYWB"
      },
      "outputs": [],
      "source": [
        "import os\n",
        "import tensorflow as tf\n",
        "from tensorflow import keras\n",
        "from keras.models import Sequential\n",
        "from keras.layers import Dense\n",
        "from sklearn.model_selection import cross_val_score\n",
        "from sklearn.model_selection import KFold\n",
        "from sklearn.preprocessing import StandardScaler\n",
        "from sklearn.pipeline import Pipeline\n",
        "\n",
        "import pandas as pd\n",
        "import seaborn as sns\n",
        "import matplotlib.pyplot as plt\n",
        "import numpy as np\n",
        "import random\n",
        "random.seed(42)\n"
      ]
    },
    {
      "cell_type": "code",
      "source": [
        "from google.colab import drive\n",
        "drive.mount('/content/gdrive')"
      ],
      "metadata": {
        "id": "qVsg_UPY1fvR",
        "outputId": "cab38b2b-ede3-489c-c97c-dd323097bce7",
        "colab": {
          "base_uri": "https://localhost:8080/"
        }
      },
      "execution_count": 2,
      "outputs": [
        {
          "output_type": "stream",
          "name": "stdout",
          "text": [
            "Mounted at /content/gdrive\n"
          ]
        }
      ]
    },
    {
      "cell_type": "code",
      "source": [
        "data_dir = \"/content/gdrive/MyDrive/3546/assign_2/flower_photos\""
      ],
      "metadata": {
        "id": "waL6gWMg1yn2"
      },
      "execution_count": 3,
      "outputs": []
    },
    {
      "cell_type": "code",
      "source": [
        "os.listdir(data_dir)"
      ],
      "metadata": {
        "id": "isCUGWNl1-Kr",
        "outputId": "d5460c85-3096-453e-ac4e-95460dd11ea1",
        "colab": {
          "base_uri": "https://localhost:8080/"
        }
      },
      "execution_count": 4,
      "outputs": [
        {
          "output_type": "execute_result",
          "data": {
            "text/plain": [
              "['tulips', 'roses', 'sunflowers', 'dandelion', 'daisy']"
            ]
          },
          "metadata": {},
          "execution_count": 4
        }
      ]
    },
    {
      "cell_type": "markdown",
      "source": [
        "## Loading data"
      ],
      "metadata": {
        "id": "QL_4VxWJ3yXH"
      }
    },
    {
      "cell_type": "code",
      "source": [
        "from sklearn.model_selection import train_test_split\n",
        "\n",
        "# Get the list of classes (folders)\n",
        "classes = ['tulips', 'roses', 'sunflowers', 'dandelion', 'daisy']\n",
        "\n",
        "# Initialize the lists to store the images and labels\n",
        "images = []\n",
        "labels = []\n",
        "\n",
        "# Loop through each class folder\n",
        "for class_ in classes:\n",
        "    # Get the list of images in the current class folder\n",
        "    image_paths = tf.io.gfile.glob(f'{data_dir}/{class_}/*.jpg')\n",
        "\n",
        "    # Loop through each image\n",
        "    for image_path in image_paths:\n",
        "        # Read the image\n",
        "        image = tf.io.read_file(image_path)\n",
        "        image = tf.image.decode_jpeg(image, channels=3)\n",
        "\n",
        "        # Add the image and label to the lists\n",
        "        images.append(image)\n",
        "        labels.append(class_)\n",
        "\n",
        "# Split the data into training and testing sets (80% for training and 20% for testing)\n",
        "train_images, test_images, train_labels, test_labels = train_test_split(images, labels, test_size=0.2, random_state=42, stratify=labels)\n",
        "\n",
        "# Print the shapes of the training and testing sets\n",
        "print(f'Training images shape: {len(train_images)}')\n",
        "print(f'Testing images shape: {len(test_images)}')"
      ],
      "metadata": {
        "id": "G_O3G9yGFr9h",
        "outputId": "d375c316-87c8-481a-92bb-22e8f4fc27c5",
        "colab": {
          "base_uri": "https://localhost:8080/"
        }
      },
      "execution_count": 46,
      "outputs": [
        {
          "output_type": "stream",
          "name": "stdout",
          "text": [
            "Training images shape: 2936\n",
            "Testing images shape: 734\n"
          ]
        }
      ]
    },
    {
      "cell_type": "code",
      "source": [],
      "metadata": {
        "id": "gNTAuZur4ftU"
      },
      "execution_count": null,
      "outputs": []
    }
  ]
}