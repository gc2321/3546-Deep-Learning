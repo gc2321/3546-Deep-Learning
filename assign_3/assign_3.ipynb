{
  "nbformat": 4,
  "nbformat_minor": 0,
  "metadata": {
    "colab": {
      "provenance": []
    },
    "kernelspec": {
      "name": "python3",
      "display_name": "Python 3"
    },
    "language_info": {
      "name": "python"
    }
  },
  "cells": [
    {
      "cell_type": "markdown",
      "source": [
        "# SCS 3546: Deep Learning\n",
        "> **Assignment 3: Contextualized Word Embeddings**"
      ],
      "metadata": {
        "id": "N5vYuxQwmkFo"
      }
    },
    {
      "cell_type": "markdown",
      "source": [
        "### Your name & student number:\n",
        "\n",
        "<pre> Gordon Chan </pre>\n",
        "\n",
        "<pre> qq525548 </pre>"
      ],
      "metadata": {
        "id": "b1kme0NkmpLK"
      }
    },
    {
      "cell_type": "markdown",
      "source": [
        "## **Assignment Description**\n",
        "***\n",
        "\n",
        "Search Engines are a standard tool for finding relevant content. The calculation of similarity between textual information is an important factor for better search results.\n",
        "\n",
        "### **Objectives**\n",
        "\n",
        "**Your goal in this assignment is to calculate the textual similarity between queries and the provided sample documents, using a variety of NLP approaches.**\n",
        "\n",
        "In achieving the above goal, you will also:\n",
        "- Demonstrate how to preprocess text and embed textual data.\n",
        "- Compare the results of textual similarity scoring between traditional and deep-learning based NLP methods.\n",
        "\n",
        "### **Data and Queries**\n",
        "\n",
        "You will use the document repository provided by `sample_repository.json`, which you can download from the following link, or from the assignment description in Quercus: https://q.utoronto.ca/courses/286389/files/21993451/download?download_frd=1\n",
        "\n",
        "The queries you will run against these sample documents are the following:\n",
        "\n",
        "- Query 1: “fruits”\n",
        "- Query 2: “vegetables”\n",
        "- Query 3: “healthy foods in Canada”\n",
        "\n",
        "### **Techniques to Demonstrate**\n",
        "\n",
        "The techniques you will use to compute the similarity scores are:\n",
        "- 1. TF-IDF.\n",
        "- 2. Semantic similarity using GloVe word vectors.\n",
        "- 3. Semantic similarity using a BERT-based model.\n",
        "\n",
        "\n",
        "### **Feel Free to Choose Your Own Approach**\n",
        "\n",
        "How you go about demonstrating each of the above techniques is up to you. You are not expected to use any particular library. The code below is just meant to provide you with some guidance to get started. You **do**, however, need to demonstrate obtaining similarity scores **with all 3 techniques above**, but how you go about doing this is totally up to you. The evaluation will be based on your ability obtain results using all three techniques, plus your discussion/comparison of any differences you observe.\n",
        "\n"
      ],
      "metadata": {
        "id": "qtPkbEdymrmV"
      }
    },
    {
      "cell_type": "markdown",
      "source": [
        "## **Grade Allocation**\n",
        "***\n",
        "15 points total\n",
        "\n",
        "- Experiment 1 (TD-IDF), implementation: 2 marks\n",
        "- Experiment 2 (GloVe), implementation: 3 marks\n",
        "- Experiment 3 (BERT), implementation: 3 marks\n",
        "- Comparison and Discussion: 3 marks\n",
        "  - Compare all three techniques and interpret your findings. Do your best to explain the differences you observe in terms of concepts learned in class (not just the _what_, but also the _how_ and _why_ one technique produces different results from another).\n",
        "- Text Pre-Processing: 2 marks\n",
        " - Cleaning and standardization (e.g. lemmatization, stemming) in Experiment 1\n",
        " - Basic text cleaning (e.g. removal of special characters or tags) in Experiments 2 and 3.\n",
        "- Clarity: 2 marks\n",
        " - The marks for clarity are awarded for code documentation, clean code (e.g. avoiding repetition by building re-usable functions)  and how well you explained/supported your answers, including the use of visualizations.\n"
      ],
      "metadata": {
        "id": "RsGXPLNwm1MK"
      }
    },
    {
      "cell_type": "markdown",
      "metadata": {
        "id": "DnvVdcQSiKMA"
      },
      "source": [
        "# Setup and Data Import\n",
        "***\n",
        "You can use the code snippets below to help you load and extract the document repository.\n"
      ]
    },
    {
      "cell_type": "code",
      "source": [
        "from google.colab import drive\n",
        "drive.mount('/content/gdrive')"
      ],
      "metadata": {
        "colab": {
          "base_uri": "https://localhost:8080/"
        },
        "id": "psBH7U7K5wVB",
        "outputId": "69aa6869-652b-49f6-de42-ab05c57db184"
      },
      "execution_count": 1,
      "outputs": [
        {
          "output_type": "stream",
          "name": "stdout",
          "text": [
            "Mounted at /content/gdrive\n"
          ]
        }
      ]
    },
    {
      "cell_type": "code",
      "source": [
        "filePath =\"/content/gdrive/MyDrive/neural_data/sample_repository.json\""
      ],
      "metadata": {
        "id": "VNAZpAW75rIi"
      },
      "execution_count": 2,
      "outputs": []
    },
    {
      "cell_type": "code",
      "metadata": {
        "id": "0VlWbMwpg4u5"
      },
      "source": [
        "# this will unpack the json file contents into a list of titles and documents\n",
        "import json\n",
        "\n",
        "with open(filePath) as in_file:\n",
        "    repo_data = json.load(in_file)\n",
        "\n",
        "titles = [item[0] for item in repo_data['data']]\n",
        "documents = [item[1] for item in repo_data['data']]\n"
      ],
      "execution_count": 3,
      "outputs": []
    },
    {
      "cell_type": "code",
      "source": [
        "# let's take a look at some of these documents and titles;\n",
        "# here we print the five last entries\n",
        "for id in range(-5, 0, 1):\n",
        "  print(f\"Document title: {titles[id]}\")\n",
        "  print(f\"Document contents: {documents[id]}\")\n",
        "  print(\"\\n\") # adds newline"
      ],
      "metadata": {
        "colab": {
          "base_uri": "https://localhost:8080/"
        },
        "id": "jgDwMaKYpdIS",
        "outputId": "1044e0b8-2b20-477f-bfeb-d5e8b35b0cc0"
      },
      "execution_count": 4,
      "outputs": [
        {
          "output_type": "stream",
          "name": "stdout",
          "text": [
            "Document title: botany\n",
            "Document contents: Botany, also called plant science(s), plant biology or phytology, is the science of plant life and a branch of biology. A botanist, plant scientist or phytologist is a scientist who specialises in this field. \n",
            "\n",
            "\n",
            "Document title: Ford Bronco \n",
            "Document contents: The Ford Bronco is a model line of sport utility vehicles manufactured and marketed by Ford. ... The first SUV model developed by the company, five generations of the Bronco were sold from the 1966 to 1996 model years. A sixth generation of the model line is sold from the 2021 model year. the Ford Bronco will be available in Canada, with first deliveries beginning in spring of 2021. The Bronco will come in six versions in Canada: Base, Big Bend, Black Diamond, Outer Banks, Wildtrak and Badlands. \n",
            "\n",
            "\n",
            "Document title: List of fruit dishes\n",
            "Document contents: Fruit dishes are those that use fruit as a primary ingredient. Condiments prepared with fruit as a primary ingredient are also included in this list.\n",
            "\n",
            "\n",
            "Document title: Neuro linguistic programming\n",
            "Document contents: Neuro linguistic programming (NLP) is a pseudoscientific approach to communication, personal development, and psychotherapy created by Richard Bandler and John Grinder in California, United States, in the 1970s.\n",
            "\n",
            "\n",
            "Document title: fruit serving bowl\n",
            "Document contents: A fruit serving bowl is a round dish or container typically used to prepare and serve food. The interior of a bowl is characteristically shaped like a spherical cap, with the edges and the bottom forming a seamless curve. This makes bowls especially suited for holding liquids and loose food, as the contents of the bowl are naturally concentrated in its center by the force of gravity.\n",
            "\n",
            "\n"
          ]
        }
      ]
    },
    {
      "cell_type": "code",
      "source": [
        "titles[0], len(titles)"
      ],
      "metadata": {
        "colab": {
          "base_uri": "https://localhost:8080/"
        },
        "id": "Q71eg29aAAWa",
        "outputId": "5f8285b3-76d9-4319-8982-8eeda4016680"
      },
      "execution_count": 5,
      "outputs": [
        {
          "output_type": "execute_result",
          "data": {
            "text/plain": [
              "('Pomegranate Bhagwa', 32)"
            ]
          },
          "metadata": {},
          "execution_count": 5
        }
      ]
    },
    {
      "cell_type": "code",
      "source": [
        "documents[0][:80], len(documents)"
      ],
      "metadata": {
        "colab": {
          "base_uri": "https://localhost:8080/"
        },
        "id": "jSceRGw6_xuc",
        "outputId": "0061552c-6987-4c8a-d602-e80b69afbb89"
      },
      "execution_count": 6,
      "outputs": [
        {
          "output_type": "execute_result",
          "data": {
            "text/plain": [
              "('Fresh Pomegranate from Anushka Avni International Bhagwa is a premium Pomegranat',\n",
              " 32)"
            ]
          },
          "metadata": {},
          "execution_count": 6
        }
      ]
    },
    {
      "cell_type": "markdown",
      "metadata": {
        "id": "u1zBu6DIjdtP"
      },
      "source": [
        "# Experiment 1: TF-IDF\n",
        "***\n",
        "\n",
        "**T**erm **F**requency - **I**nverse **D**ocument **F**requency (TF-IDF) is a traditional NLP technique to look at words that appear in both pieces of text, and score them based on how often they appear. For this experiment, you are free to use the TF-IDF implementation provided by scikit-learn.\n"
      ]
    },
    {
      "cell_type": "code",
      "metadata": {
        "colab": {
          "base_uri": "https://localhost:8080/"
        },
        "id": "5XP9_ncYg4yu",
        "outputId": "af45baa0-f501-4aef-8def-9989aa7e4dba"
      },
      "source": [
        "from sklearn.feature_extraction.text import TfidfVectorizer\n",
        "from sklearn.metrics.pairwise import linear_kernel\n",
        "\n",
        "import nltk\n",
        "nltk.download('stopwords')\n",
        "from nltk.corpus import stopwords\n",
        "\n",
        "nltk.download('punkt')\n",
        "stop_words = list(set(stopwords.words('english')))"
      ],
      "execution_count": 7,
      "outputs": [
        {
          "output_type": "stream",
          "name": "stderr",
          "text": [
            "[nltk_data] Downloading package stopwords to /root/nltk_data...\n",
            "[nltk_data]   Unzipping corpora/stopwords.zip.\n",
            "[nltk_data] Downloading package punkt to /root/nltk_data...\n",
            "[nltk_data]   Unzipping tokenizers/punkt.zip.\n"
          ]
        }
      ]
    },
    {
      "cell_type": "code",
      "source": [
        "def find_top_similarity(query, top_n=5):\n",
        "  vectorizer = TfidfVectorizer(stop_words=stop_words)\n",
        "  vectors = vectorizer.fit_transform([query] + documents)\n",
        "\n",
        "  # Calculate similarity scores\n",
        "  # Compare first vector(vectors[0:1]) with all other vectors in vectors\n",
        "  # linear_kernel: compute dot product of vectors, this is the cosine similarity when the vectors are normalized\n",
        "  cosine_similarities = linear_kernel(vectors[0:1], vectors).flatten()\n",
        "\n",
        "  # Output the similarity scores for the top 5 documents\n",
        "  top_indices = cosine_similarities.argsort()[-2:-7:-1]\n",
        "  print(\"Query:\", query)\n",
        "  print(\"Top 5 similar documents:\")\n",
        "  for idx in top_indices:\n",
        "      print(f\"Document {idx-1}: \\t{documents[idx-1][:80]}, \\tsimilarity score {round(cosine_similarities[idx], 2)}\")\n"
      ],
      "metadata": {
        "id": "Fe3KcfoKHSp_"
      },
      "execution_count": 8,
      "outputs": []
    },
    {
      "cell_type": "code",
      "source": [
        "queries = ['fruits', 'vegetables', 'healthy foods in Canada']\n",
        "for query in queries:\n",
        "  find_top_similarity(query)\n",
        "  print()"
      ],
      "metadata": {
        "colab": {
          "base_uri": "https://localhost:8080/"
        },
        "id": "40DqMMM2Iu5a",
        "outputId": "13eaf3ed-b0c1-4276-ea89-b3b3902bc62d"
      },
      "execution_count": 9,
      "outputs": [
        {
          "output_type": "stream",
          "name": "stdout",
          "text": [
            "Query: fruits\n",
            "Top 5 similar documents:\n",
            "Document 6: \tTo a botanist, a fruit is an entity that develops from the fertilized ovary of a, \tsimilarity score 0.16\n",
            "Document 10: \tCanada's Food Guide is a nutrition guide produced by Health Canada to promote He, \tsimilarity score 0.07\n",
            "Document 14: \tBerry Size: 18mm and above Packaging Packing Size: 4.5 kg loose in carry bags 8., \tsimilarity score 0.0\n",
            "Document 0: \tFresh Pomegranate from Anushka Avni International Bhagwa is a premium Pomegranat, \tsimilarity score 0.0\n",
            "Document 1: \tFresh Pomegranate Arakta from Anushka Avni International This Pomegranate are bi, \tsimilarity score 0.0\n",
            "\n",
            "Query: vegetables\n",
            "Top 5 similar documents:\n",
            "Document 10: \tCanada's Food Guide is a nutrition guide produced by Health Canada to promote He, \tsimilarity score 0.08\n",
            "Document 14: \tBerry Size: 18mm and above Packaging Packing Size: 4.5 kg loose in carry bags 8., \tsimilarity score 0.0\n",
            "Document 0: \tFresh Pomegranate from Anushka Avni International Bhagwa is a premium Pomegranat, \tsimilarity score 0.0\n",
            "Document 1: \tFresh Pomegranate Arakta from Anushka Avni International This Pomegranate are bi, \tsimilarity score 0.0\n",
            "Document 2: \tAbout Us Anushka Avni International (AAI) takes pleasure in presenting itself as, \tsimilarity score 0.0\n",
            "\n",
            "Query: healthy foods in Canada\n",
            "Top 5 similar documents:\n",
            "Document 10: \tCanada's Food Guide is a nutrition guide produced by Health Canada to promote He, \tsimilarity score 0.6\n",
            "Document 9: \tIn nutrition, the diet of an organism is the sum of foods it eats, which is larg, \tsimilarity score 0.3\n",
            "Document 12: \tCanadian Industry Statistics (CIS) analyses industry data on many economic indic, \tsimilarity score 0.1\n",
            "Document 11: \tUK, Nether Land, Russia, Canada, HongKong, Malaysia, Singapore, Oman, UAE, Qatar, \tsimilarity score 0.09\n",
            "Document 28: \tThe Ford Bronco is a model line of sport utility vehicles manufactured and marke, \tsimilarity score 0.07\n",
            "\n"
          ]
        }
      ]
    },
    {
      "cell_type": "code",
      "source": [
        "documents[10]"
      ],
      "metadata": {
        "colab": {
          "base_uri": "https://localhost:8080/",
          "height": 108
        },
        "id": "hM5Yp3TvJ70D",
        "outputId": "3c77d418-3083-4063-ad5a-ebe1b654ecbe"
      },
      "execution_count": 10,
      "outputs": [
        {
          "output_type": "execute_result",
          "data": {
            "text/plain": [
              "\"Canada's Food Guide is a nutrition guide produced by Health Canada to promote Healthy behaviours and habits, and lifestyles in Canada - this is to increase the number of healthy people in Canada. In 2007, it was reported to be the second most requested Canadian government publication, behind the Income Tax Forms. The Health Canada website states: Food guides are basic education tools that are designed to help people follow a healthy diet. The Guide recommends eating a variety of healthy foods each day including plenty of vegetables and fruits, protein foods, and whole grain foods. It recommends choosing protein foods that come from plants more often. It also recommends limiting highly processed foods.\""
            ],
            "application/vnd.google.colaboratory.intrinsic+json": {
              "type": "string"
            }
          },
          "metadata": {},
          "execution_count": 10
        }
      ]
    },
    {
      "cell_type": "markdown",
      "source": [
        "Documents[10] came up in top 5 of all three queries."
      ],
      "metadata": {
        "id": "pwo3yr-cKIVA"
      }
    },
    {
      "cell_type": "markdown",
      "metadata": {
        "id": "QqrN27J9mZwb"
      },
      "source": [
        "## Repeat the same task after some preprocessing\n",
        "\n",
        "Use a minimum of 2 different text cleaning/standardization techniques (e.g. lemmatization, removing punctuation, etc)."
      ]
    },
    {
      "cell_type": "code",
      "source": [
        "nltk.download('wordnet')\n",
        "nltk.download('averaged_perceptron_tagger')"
      ],
      "metadata": {
        "colab": {
          "base_uri": "https://localhost:8080/"
        },
        "id": "OhnwdZpFOl9O",
        "outputId": "b8a3275c-f84a-461e-dd96-e28b5afe9a34"
      },
      "execution_count": 11,
      "outputs": [
        {
          "output_type": "stream",
          "name": "stderr",
          "text": [
            "[nltk_data] Downloading package wordnet to /root/nltk_data...\n",
            "[nltk_data] Downloading package averaged_perceptron_tagger to\n",
            "[nltk_data]     /root/nltk_data...\n",
            "[nltk_data]   Unzipping taggers/averaged_perceptron_tagger.zip.\n"
          ]
        },
        {
          "output_type": "execute_result",
          "data": {
            "text/plain": [
              "True"
            ]
          },
          "metadata": {},
          "execution_count": 11
        }
      ]
    },
    {
      "cell_type": "code",
      "metadata": {
        "id": "QSsdfQb9g46z"
      },
      "source": [
        "# e.g. you can use a lemmatizer to reduce words down to their\n",
        "# simplest 'lemma' (helpful when dealing with plurals)\n",
        "\n",
        "from nltk.corpus import wordnet\n",
        "from nltk import word_tokenize\n",
        "from nltk.stem import WordNetLemmatizer\n",
        "import string"
      ],
      "execution_count": 12,
      "outputs": []
    },
    {
      "cell_type": "code",
      "source": [
        "def get_wordnet_pos(treebank_tag):\n",
        "    \"\"\"\n",
        "    Convert Treebank POS tags to WordNet POS tags\n",
        "    The Penn Treebank tagset uses different tags (eg, NN for noun)\n",
        "    than WordNet (e.g., N for noun)\n",
        "    \"\"\"\n",
        "    if treebank_tag.startswith('J'):\n",
        "        return wordnet.ADJ\n",
        "    elif treebank_tag.startswith('V'):\n",
        "        return wordnet.VERB\n",
        "    elif treebank_tag.startswith('N'):\n",
        "        return wordnet.NOUN\n",
        "    elif treebank_tag.startswith('R'):\n",
        "        return wordnet.ADV\n",
        "    else:\n",
        "        return wordnet.NOUN  # default to noun if POS tag is not found\n"
      ],
      "metadata": {
        "id": "NQ5LrFHxPfEJ"
      },
      "execution_count": 13,
      "outputs": []
    },
    {
      "cell_type": "code",
      "source": [
        "def lemmatize_document(document):\n",
        "    lemmatizer = WordNetLemmatizer()\n",
        "    words = word_tokenize(document)\n",
        "\n",
        "    # Remove punctuation and convert to lowercase\n",
        "    words = [word.lower() for word in words if word.isalnum()]\n",
        "\n",
        "    pos_tags = nltk.pos_tag(words)\n",
        "    lemmatized_words = [lemmatizer.lemmatize(word, get_wordnet_pos(tag)) for word, tag in pos_tags]\n",
        "    return ' '.join(lemmatized_words)\n"
      ],
      "metadata": {
        "id": "7iCZN9lYPW6V"
      },
      "execution_count": 14,
      "outputs": []
    },
    {
      "cell_type": "code",
      "source": [
        "def find_top_similarity_2(query, top_n=5, stop_words=None):\n",
        "\n",
        "    # preprocessing\n",
        "    lemmatized_documents = [lemmatize_document(doc) for doc in documents]\n",
        "    lemmatized_query = lemmatize_document(query)\n",
        "\n",
        "    vectorizer = TfidfVectorizer(stop_words=stop_words)\n",
        "    vectors = vectorizer.fit_transform([lemmatized_query] + lemmatized_documents)\n",
        "\n",
        "    # Calculate similarity scores\n",
        "    cosine_similarities = linear_kernel(vectors[0:1], vectors).flatten()\n",
        "\n",
        "    # Output the similarity scores for the top N documents\n",
        "    top_indices = cosine_similarities.argsort()[-2:-top_n-2:-1]\n",
        "    print(\"Query:\", query)\n",
        "    print(f\"Top {top_n} similar documents:\")\n",
        "    for idx in top_indices:\n",
        "        print(f\"Document {idx-1}: \\t{documents[idx-1][:80]}, \\tsimilarity score {round(cosine_similarities[idx], 2)}\")\n"
      ],
      "metadata": {
        "id": "tQbGvZdmPucI"
      },
      "execution_count": 15,
      "outputs": []
    },
    {
      "cell_type": "code",
      "source": [
        "for query in queries:\n",
        "  find_top_similarity_2(query)\n",
        "  print()"
      ],
      "metadata": {
        "colab": {
          "base_uri": "https://localhost:8080/"
        },
        "id": "IEhohxUwPuYh",
        "outputId": "b4b12f69-f0e2-4b9c-97d7-b302ac1657f2"
      },
      "execution_count": 16,
      "outputs": [
        {
          "output_type": "stream",
          "name": "stdout",
          "text": [
            "Query: fruits\n",
            "Top 5 similar documents:\n",
            "Document 29: \tFruit dishes are those that use fruit as a primary ingredient. Condiments prepar, \tsimilarity score 0.44\n",
            "Document 6: \tTo a botanist, a fruit is an entity that develops from the fertilized ovary of a, \tsimilarity score 0.23\n",
            "Document 0: \tFresh Pomegranate from Anushka Avni International Bhagwa is a premium Pomegranat, \tsimilarity score 0.15\n",
            "Document 31: \tA fruit serving bowl is a round dish or container typically used to prepare and , \tsimilarity score 0.08\n",
            "Document 1: \tFresh Pomegranate Arakta from Anushka Avni International This Pomegranate are bi, \tsimilarity score 0.05\n",
            "\n",
            "Query: vegetables\n",
            "Top 5 similar documents:\n",
            "Document 10: \tCanada's Food Guide is a nutrition guide produced by Health Canada to promote He, \tsimilarity score 0.07\n",
            "Document 14: \tBerry Size: 18mm and above Packaging Packing Size: 4.5 kg loose in carry bags 8., \tsimilarity score 0.0\n",
            "Document 0: \tFresh Pomegranate from Anushka Avni International Bhagwa is a premium Pomegranat, \tsimilarity score 0.0\n",
            "Document 1: \tFresh Pomegranate Arakta from Anushka Avni International This Pomegranate are bi, \tsimilarity score 0.0\n",
            "Document 2: \tAbout Us Anushka Avni International (AAI) takes pleasure in presenting itself as, \tsimilarity score 0.0\n",
            "\n",
            "Query: healthy foods in Canada\n",
            "Top 5 similar documents:\n",
            "Document 10: \tCanada's Food Guide is a nutrition guide produced by Health Canada to promote He, \tsimilarity score 0.58\n",
            "Document 9: \tIn nutrition, the diet of an organism is the sum of foods it eats, which is larg, \tsimilarity score 0.24\n",
            "Document 12: \tCanadian Industry Statistics (CIS) analyses industry data on many economic indic, \tsimilarity score 0.12\n",
            "Document 31: \tA fruit serving bowl is a round dish or container typically used to prepare and , \tsimilarity score 0.12\n",
            "Document 28: \tThe Ford Bronco is a model line of sport utility vehicles manufactured and marke, \tsimilarity score 0.1\n",
            "\n"
          ]
        }
      ]
    },
    {
      "cell_type": "markdown",
      "source": [
        "What impact did the text cleaning / preprocessing have on your results?"
      ],
      "metadata": {
        "id": "eg7AQ9wGy1BA"
      }
    },
    {
      "cell_type": "markdown",
      "source": [
        "After preprocessing, the scores are a bit different for some queries. For example for query 'fruits', the top documents was Document 6 (score 0.16) without any preprocessing, but after preprocessing, Document 29 is the top document (score, 0.44). For query 'vegetables', the ranking of the documents are not different, neither are the scores. For query 'health foods in Canada', the top 3 documents are the same for both approaches. With preprocessing, it is able to pick up Document 31 and Document 28. Hence, for some queries, some important documents are missed if preprocessing steps did not take place."
      ],
      "metadata": {
        "id": "HnOEiP5bSIOo"
      }
    },
    {
      "cell_type": "code",
      "source": [],
      "metadata": {
        "id": "wRWtek5oy5tv"
      },
      "execution_count": 16,
      "outputs": []
    },
    {
      "cell_type": "markdown",
      "metadata": {
        "id": "H8V2kx6Epnxq"
      },
      "source": [
        "# Experiment 2: Semantic matching using GloVe embeddings\n",
        "***"
      ]
    },
    {
      "cell_type": "code",
      "metadata": {
        "id": "AGBg_Roo8FvP",
        "colab": {
          "base_uri": "https://localhost:8080/"
        },
        "outputId": "0f70315d-856b-4fb2-871c-99623443acc9"
      },
      "source": [
        "# if you decide to use the gensim library and the sample codes below,\n",
        "# you would need gensim version >=4.0.1 to be installed\n",
        "\n",
        "import gensim\n",
        "print(gensim.__version__)"
      ],
      "execution_count": 17,
      "outputs": [
        {
          "output_type": "stream",
          "name": "stdout",
          "text": [
            "4.3.2\n"
          ]
        }
      ]
    },
    {
      "cell_type": "code",
      "metadata": {
        "id": "oywLsqBYrayZ"
      },
      "source": [
        "import logging\n",
        "import json\n",
        "import logging\n",
        "from re import sub\n",
        "from multiprocessing import cpu_count\n",
        "\n",
        "import numpy as np\n",
        "\n",
        "import gensim.downloader as api\n",
        "from gensim.utils import simple_preprocess\n",
        "from gensim.corpora import Dictionary\n",
        "from gensim.models import TfidfModel\n",
        "from gensim.similarities import WordEmbeddingSimilarityIndex\n",
        "from gensim.similarities import SparseTermSimilarityMatrix\n",
        "from gensim.similarities import SoftCosineSimilarity"
      ],
      "execution_count": 18,
      "outputs": []
    },
    {
      "cell_type": "code",
      "metadata": {
        "id": "Pa0dlD102lbp"
      },
      "source": [
        "# optional, but it helps\n",
        "import logging\n",
        "\n",
        "# Initialize logging.\n",
        "logging.basicConfig(format='%(asctime)s : %(levelname)s : %(message)s', level=logging.WARNING)"
      ],
      "execution_count": 19,
      "outputs": []
    },
    {
      "cell_type": "code",
      "metadata": {
        "id": "SwQBtaxk5rXS",
        "colab": {
          "base_uri": "https://localhost:8080/"
        },
        "outputId": "1514d283-bea8-4928-d871-cf8dc92d7c22"
      },
      "source": [
        "import nltk\n",
        "\n",
        "# Import and download stopwords from NLTK.\n",
        "nltk.download('stopwords')  # Download stopwords list.\n",
        "stopwords = set(nltk.corpus.stopwords.words(\"english\"))"
      ],
      "execution_count": 20,
      "outputs": [
        {
          "output_type": "stream",
          "name": "stderr",
          "text": [
            "[nltk_data] Downloading package stopwords to /root/nltk_data...\n",
            "[nltk_data]   Package stopwords is already up-to-date!\n"
          ]
        }
      ]
    },
    {
      "cell_type": "code",
      "metadata": {
        "id": "5mlGyZeZ2Nle"
      },
      "source": [
        "def preprocess(doc):\n",
        "    # Tokenize, clean up input document string\n",
        "    doc = sub(r'<img[^<>]+(>|$)', \" image_token \", doc)\n",
        "    # you may decide to add additional steps here\n",
        "    return [token for token in simple_preprocess(doc, min_len=0, max_len=float(\"inf\")) if token not in stopwords]"
      ],
      "execution_count": 22,
      "outputs": []
    },
    {
      "cell_type": "code",
      "metadata": {
        "id": "vP1s_4hMpqAn"
      },
      "source": [
        "# Load test data\n",
        "with open(filePath) as in_file:\n",
        "    repo_data = json.load(in_file)\n",
        "\n",
        "titles = [item[0] for item in repo_data['data']]\n",
        "documents = [item[1] for item in repo_data['data']]"
      ],
      "execution_count": 23,
      "outputs": []
    },
    {
      "cell_type": "code",
      "source": [
        "queries"
      ],
      "metadata": {
        "id": "4fj_43IAanD2",
        "outputId": "9fc48218-9745-4a8c-f795-f8a310fc1843",
        "colab": {
          "base_uri": "https://localhost:8080/"
        }
      },
      "execution_count": 24,
      "outputs": [
        {
          "output_type": "execute_result",
          "data": {
            "text/plain": [
              "['fruits', 'vegetables', 'healthy foods in Canada']"
            ]
          },
          "metadata": {},
          "execution_count": 24
        }
      ]
    },
    {
      "cell_type": "code",
      "metadata": {
        "id": "aaVXOXGDpqD5"
      },
      "source": [
        "# Preprocess the documents, including the query string\n",
        "corpus = [preprocess(document) for document in documents]\n",
        "query = preprocess(queries[0])"
      ],
      "execution_count": 25,
      "outputs": []
    },
    {
      "cell_type": "code",
      "metadata": {
        "id": "sR_F5zkipqH7",
        "colab": {
          "base_uri": "https://localhost:8080/"
        },
        "outputId": "dc39068c-4614-492c-ff6a-5d8a1f828dfa"
      },
      "source": [
        "# Download and load the GloVe word vector embeddings\n",
        "if 'glove' not in locals():  # only load if not already in memory\n",
        "    glove = api.load(\"glove-wiki-gigaword-50\")\n",
        "\n",
        "similarity_index = WordEmbeddingSimilarityIndex(glove)"
      ],
      "execution_count": 26,
      "outputs": [
        {
          "output_type": "stream",
          "name": "stdout",
          "text": [
            "[==================================================] 100.0% 66.0/66.0MB downloaded\n"
          ]
        }
      ]
    },
    {
      "cell_type": "code",
      "metadata": {
        "id": "YtWEI622pqLa",
        "colab": {
          "base_uri": "https://localhost:8080/"
        },
        "outputId": "61ee6fdd-c312-4265-be84-734f3b58fd94"
      },
      "source": [
        "# Build the term dictionary, TF-idf model\n",
        "# Keep in mind that the search query must be in the dictionary as well, in case the terms do not overlap with the documents\n",
        "dictionary = Dictionary(corpus+[query])\n",
        "tfidf = TfidfModel(dictionary=dictionary)\n",
        "\n",
        "# Create the term similarity matrix.\n",
        "# The nonzero_limit enforces sparsity by limiting the number of non-zero terms in each column.\n",
        "# In my case, I got best results by removing the default value of 100\n",
        "similarity_matrix = SparseTermSimilarityMatrix(similarity_index, dictionary, tfidf)  # , nonzero_limit=None)"
      ],
      "execution_count": 27,
      "outputs": [
        {
          "output_type": "stream",
          "name": "stderr",
          "text": [
            "100%|██████████| 568/568 [00:15<00:00, 37.66it/s]\n"
          ]
        }
      ]
    },
    {
      "cell_type": "code",
      "metadata": {
        "id": "Fn9tPObFpqPJ",
        "colab": {
          "base_uri": "https://localhost:8080/"
        },
        "outputId": "cbb22fd9-a1e5-417f-e15c-e86e8d627fa1"
      },
      "source": [
        "# Compute similarity measure between the query and the documents.\n",
        "query_tf = tfidf[dictionary.doc2bow(query)]\n",
        "\n",
        "index = SoftCosineSimilarity(\n",
        "            tfidf[[dictionary.doc2bow(document) for document in corpus]],\n",
        "            similarity_matrix)\n",
        "\n",
        "doc_similarity_scores = index[query_tf]"
      ],
      "execution_count": 28,
      "outputs": [
        {
          "output_type": "stream",
          "name": "stderr",
          "text": [
            "/usr/local/lib/python3.10/dist-packages/gensim/similarities/termsim.py:382: RuntimeWarning: divide by zero encountered in divide\n",
            "  normalized_corpus = np.multiply(corpus, 1.0 / corpus_norm)\n",
            "/usr/local/lib/python3.10/dist-packages/gensim/similarities/termsim.py:382: RuntimeWarning: invalid value encountered in multiply\n",
            "  normalized_corpus = np.multiply(corpus, 1.0 / corpus_norm)\n"
          ]
        }
      ]
    },
    {
      "cell_type": "code",
      "source": [
        "doc_similarity_scores, len(doc_similarity_scores)"
      ],
      "metadata": {
        "id": "i7jay52wbZhf",
        "outputId": "a64e0680-dbf6-43e1-c60b-673d8908148e",
        "colab": {
          "base_uri": "https://localhost:8080/"
        }
      },
      "execution_count": 30,
      "outputs": [
        {
          "output_type": "execute_result",
          "data": {
            "text/plain": [
              "(array([0.8091958 , 0.72479224, 0.        , 0.        , 0.41293627,\n",
              "        0.        , 0.88390946, 0.        , 0.5453234 , 0.5064042 ,\n",
              "        0.7613044 , 0.        , 0.        , 0.5223634 , 0.        ,\n",
              "        0.5223635 , 0.56572443, 0.41293627, 0.45817053, 0.        ,\n",
              "        0.        , 0.50264883, 0.50177664, 0.63024676, 0.        ,\n",
              "        0.69269216, 0.        , 0.        , 0.        , 0.8436877 ,\n",
              "        0.        , 0.8436877 ], dtype=float32),\n",
              " 32)"
            ]
          },
          "metadata": {},
          "execution_count": 30
        }
      ]
    },
    {
      "cell_type": "code",
      "source": [
        "sorted_indices = np.argsort(doc_similarity_scores)[::-1]  # Sort indices in descending order\n",
        "top_5_docs = [(documents[idx], idx, doc_similarity_scores[idx]) for idx in sorted_indices[:5]]\n",
        "\n",
        "for doc, idx, score in top_5_docs:\n",
        "  score = round(score, 2)\n",
        "  print(f\"Document {idx}: \\t{documents[idx][:80]}, \\tsimilarity score {score}\")"
      ],
      "metadata": {
        "id": "hRqmtMJygHZq",
        "outputId": "058cac42-3719-47e3-f9c1-634f9c236b4e",
        "colab": {
          "base_uri": "https://localhost:8080/"
        }
      },
      "execution_count": 55,
      "outputs": [
        {
          "output_type": "stream",
          "name": "stdout",
          "text": [
            "Document 6: \tTo a botanist, a fruit is an entity that develops from the fertilized ovary of a, \tsimilarity score 0.8799999952316284\n",
            "Document 31: \tA fruit serving bowl is a round dish or container typically used to prepare and , \tsimilarity score 0.8399999737739563\n",
            "Document 29: \tFruit dishes are those that use fruit as a primary ingredient. Condiments prepar, \tsimilarity score 0.8399999737739563\n",
            "Document 0: \tFresh Pomegranate from Anushka Avni International Bhagwa is a premium Pomegranat, \tsimilarity score 0.8100000023841858\n",
            "Document 10: \tCanada's Food Guide is a nutrition guide produced by Health Canada to promote He, \tsimilarity score 0.7599999904632568\n"
          ]
        }
      ]
    },
    {
      "cell_type": "code",
      "source": [
        "def glove_find_top_similarity(query, top_n=5):"
      ],
      "metadata": {
        "id": "Id829_DYefvZ",
        "outputId": "9f0f3015-92ba-4fc1-9fd3-a4d1b86a80d1",
        "colab": {
          "base_uri": "https://localhost:8080/",
          "height": 128
        }
      },
      "execution_count": 60,
      "outputs": [
        {
          "output_type": "error",
          "ename": "SyntaxError",
          "evalue": "incomplete input (<ipython-input-60-4c75df8f0335>, line 1)",
          "traceback": [
            "\u001b[0;36m  File \u001b[0;32m\"<ipython-input-60-4c75df8f0335>\"\u001b[0;36m, line \u001b[0;32m1\u001b[0m\n\u001b[0;31m    def glove_find_top_similarity(query, top_n=5):\u001b[0m\n\u001b[0m                                                  ^\u001b[0m\n\u001b[0;31mSyntaxError\u001b[0m\u001b[0;31m:\u001b[0m incomplete input\n"
          ]
        }
      ]
    },
    {
      "cell_type": "code",
      "source": [],
      "metadata": {
        "id": "H-bBqMzmefsG"
      },
      "execution_count": null,
      "outputs": []
    },
    {
      "cell_type": "code",
      "source": [],
      "metadata": {
        "id": "mjDgZKzwefm5"
      },
      "execution_count": null,
      "outputs": []
    },
    {
      "cell_type": "markdown",
      "metadata": {
        "id": "8at07gGAI-MH"
      },
      "source": [
        "# Experiment 3: BERT Model\n",
        "***\n",
        "Use a BERT model obtain sentence embeddings and calculate the similarity between queries and documents.\n",
        "\n",
        "> Hint: see the Module 07 jupyter notebook for examples of how to work with BERT."
      ]
    },
    {
      "cell_type": "code",
      "metadata": {
        "id": "aBSozs_tYFjg"
      },
      "source": [],
      "execution_count": null,
      "outputs": []
    },
    {
      "cell_type": "code",
      "metadata": {
        "id": "raaQrNXUKL2o"
      },
      "source": [
        "# for each query, output the similarity scores for the top 5 documents with\n",
        "# th highest score, and interpret your results"
      ],
      "execution_count": null,
      "outputs": []
    },
    {
      "cell_type": "code",
      "metadata": {
        "id": "sLH7jBj4KL7E"
      },
      "source": [],
      "execution_count": null,
      "outputs": []
    },
    {
      "cell_type": "markdown",
      "source": [
        " # Technique Comparison\n",
        " ***\n",
        "\n",
        "Compare all three techniques and interpret your findings. Do your best to explain the differences you observe in terms of concepts learned in class (not just the what, but also the how and why one technique produces different results from another).\n"
      ],
      "metadata": {
        "id": "XpX8H6_TEPOM"
      }
    },
    {
      "cell_type": "code",
      "source": [],
      "metadata": {
        "id": "LwKekAZX1kDj"
      },
      "execution_count": null,
      "outputs": []
    }
  ]
}