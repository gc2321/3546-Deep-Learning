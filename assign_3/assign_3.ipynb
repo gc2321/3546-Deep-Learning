{
  "nbformat": 4,
  "nbformat_minor": 0,
  "metadata": {
    "colab": {
      "provenance": []
    },
    "kernelspec": {
      "name": "python3",
      "display_name": "Python 3"
    },
    "language_info": {
      "name": "python"
    }
  },
  "cells": [
    {
      "cell_type": "markdown",
      "source": [
        "# SCS 3546: Deep Learning\n",
        "> **Assignment 3: Contextualized Word Embeddings**"
      ],
      "metadata": {
        "id": "N5vYuxQwmkFo"
      }
    },
    {
      "cell_type": "markdown",
      "source": [
        "### Your name & student number:\n",
        "\n",
        "<pre> Gordon Chan </pre>\n",
        "\n",
        "<pre> qq525548 </pre>"
      ],
      "metadata": {
        "id": "b1kme0NkmpLK"
      }
    },
    {
      "cell_type": "markdown",
      "source": [
        "## **Assignment Description**\n",
        "***\n",
        "\n",
        "Search Engines are a standard tool for finding relevant content. The calculation of similarity between textual information is an important factor for better search results.\n",
        "\n",
        "### **Objectives**\n",
        "\n",
        "**Your goal in this assignment is to calculate the textual similarity between queries and the provided sample documents, using a variety of NLP approaches.**\n",
        "\n",
        "In achieving the above goal, you will also:\n",
        "- Demonstrate how to preprocess text and embed textual data.\n",
        "- Compare the results of textual similarity scoring between traditional and deep-learning based NLP methods.\n",
        "\n",
        "### **Data and Queries**\n",
        "\n",
        "You will use the document repository provided by `sample_repository.json`, which you can download from the following link, or from the assignment description in Quercus: https://q.utoronto.ca/courses/286389/files/21993451/download?download_frd=1\n",
        "\n",
        "The queries you will run against these sample documents are the following:\n",
        "\n",
        "- Query 1: “fruits”\n",
        "- Query 2: “vegetables”\n",
        "- Query 3: “healthy foods in Canada”\n",
        "\n",
        "### **Techniques to Demonstrate**\n",
        "\n",
        "The techniques you will use to compute the similarity scores are:\n",
        "- 1. TF-IDF.\n",
        "- 2. Semantic similarity using GloVe word vectors.\n",
        "- 3. Semantic similarity using a BERT-based model.\n",
        "\n",
        "\n",
        "### **Feel Free to Choose Your Own Approach**\n",
        "\n",
        "How you go about demonstrating each of the above techniques is up to you. You are not expected to use any particular library. The code below is just meant to provide you with some guidance to get started. You **do**, however, need to demonstrate obtaining similarity scores **with all 3 techniques above**, but how you go about doing this is totally up to you. The evaluation will be based on your ability obtain results using all three techniques, plus your discussion/comparison of any differences you observe.\n",
        "\n"
      ],
      "metadata": {
        "id": "qtPkbEdymrmV"
      }
    },
    {
      "cell_type": "markdown",
      "source": [
        "## **Grade Allocation**\n",
        "***\n",
        "15 points total\n",
        "\n",
        "- Experiment 1 (TD-IDF), implementation: 2 marks\n",
        "- Experiment 2 (GloVe), implementation: 3 marks\n",
        "- Experiment 3 (BERT), implementation: 3 marks\n",
        "- Comparison and Discussion: 3 marks\n",
        "  - Compare all three techniques and interpret your findings. Do your best to explain the differences you observe in terms of concepts learned in class (not just the _what_, but also the _how_ and _why_ one technique produces different results from another).\n",
        "- Text Pre-Processing: 2 marks\n",
        " - Cleaning and standardization (e.g. lemmatization, stemming) in Experiment 1\n",
        " - Basic text cleaning (e.g. removal of special characters or tags) in Experiments 2 and 3.\n",
        "- Clarity: 2 marks\n",
        " - The marks for clarity are awarded for code documentation, clean code (e.g. avoiding repetition by building re-usable functions)  and how well you explained/supported your answers, including the use of visualizations.\n"
      ],
      "metadata": {
        "id": "RsGXPLNwm1MK"
      }
    },
    {
      "cell_type": "markdown",
      "metadata": {
        "id": "DnvVdcQSiKMA"
      },
      "source": [
        "# Setup and Data Import\n",
        "***\n",
        "You can use the code snippets below to help you load and extract the document repository.\n"
      ]
    },
    {
      "cell_type": "code",
      "source": [
        "from google.colab import drive\n",
        "drive.mount('/content/gdrive')"
      ],
      "metadata": {
        "colab": {
          "base_uri": "https://localhost:8080/"
        },
        "id": "psBH7U7K5wVB",
        "outputId": "364e3350-4d9b-4242-b831-f01c09cb863d"
      },
      "execution_count": 62,
      "outputs": [
        {
          "output_type": "stream",
          "name": "stdout",
          "text": [
            "Drive already mounted at /content/gdrive; to attempt to forcibly remount, call drive.mount(\"/content/gdrive\", force_remount=True).\n"
          ]
        }
      ]
    },
    {
      "cell_type": "code",
      "source": [
        "filePath =\"/content/gdrive/MyDrive/neural_data/sample_repository.json\""
      ],
      "metadata": {
        "id": "VNAZpAW75rIi"
      },
      "execution_count": 63,
      "outputs": []
    },
    {
      "cell_type": "code",
      "metadata": {
        "id": "0VlWbMwpg4u5"
      },
      "source": [
        "# this will unpack the json file contents into a list of titles and documents\n",
        "import json\n",
        "\n",
        "with open(filePath) as in_file:\n",
        "    repo_data = json.load(in_file)\n",
        "\n",
        "titles = [item[0] for item in repo_data['data']]\n",
        "documents = [item[1] for item in repo_data['data']]\n"
      ],
      "execution_count": 64,
      "outputs": []
    },
    {
      "cell_type": "code",
      "source": [
        "# let's take a look at some of these documents and titles;\n",
        "# here we print the five last entries\n",
        "for id in range(-5, 0, 1):\n",
        "  print(f\"Document title: {titles[id]}\")\n",
        "  print(f\"Document contents: {documents[id]}\")\n",
        "  print(\"\\n\") # adds newline"
      ],
      "metadata": {
        "colab": {
          "base_uri": "https://localhost:8080/"
        },
        "id": "jgDwMaKYpdIS",
        "outputId": "200907f1-9e97-4737-d82f-6ce9da48a9b9"
      },
      "execution_count": 65,
      "outputs": [
        {
          "output_type": "stream",
          "name": "stdout",
          "text": [
            "Document title: botany\n",
            "Document contents: Botany, also called plant science(s), plant biology or phytology, is the science of plant life and a branch of biology. A botanist, plant scientist or phytologist is a scientist who specialises in this field. \n",
            "\n",
            "\n",
            "Document title: Ford Bronco \n",
            "Document contents: The Ford Bronco is a model line of sport utility vehicles manufactured and marketed by Ford. ... The first SUV model developed by the company, five generations of the Bronco were sold from the 1966 to 1996 model years. A sixth generation of the model line is sold from the 2021 model year. the Ford Bronco will be available in Canada, with first deliveries beginning in spring of 2021. The Bronco will come in six versions in Canada: Base, Big Bend, Black Diamond, Outer Banks, Wildtrak and Badlands. \n",
            "\n",
            "\n",
            "Document title: List of fruit dishes\n",
            "Document contents: Fruit dishes are those that use fruit as a primary ingredient. Condiments prepared with fruit as a primary ingredient are also included in this list.\n",
            "\n",
            "\n",
            "Document title: Neuro linguistic programming\n",
            "Document contents: Neuro linguistic programming (NLP) is a pseudoscientific approach to communication, personal development, and psychotherapy created by Richard Bandler and John Grinder in California, United States, in the 1970s.\n",
            "\n",
            "\n",
            "Document title: fruit serving bowl\n",
            "Document contents: A fruit serving bowl is a round dish or container typically used to prepare and serve food. The interior of a bowl is characteristically shaped like a spherical cap, with the edges and the bottom forming a seamless curve. This makes bowls especially suited for holding liquids and loose food, as the contents of the bowl are naturally concentrated in its center by the force of gravity.\n",
            "\n",
            "\n"
          ]
        }
      ]
    },
    {
      "cell_type": "code",
      "source": [
        "titles[0], len(titles)"
      ],
      "metadata": {
        "colab": {
          "base_uri": "https://localhost:8080/"
        },
        "id": "Q71eg29aAAWa",
        "outputId": "ff87f012-bd84-4578-fdaa-c5be5230bf1d"
      },
      "execution_count": 66,
      "outputs": [
        {
          "output_type": "execute_result",
          "data": {
            "text/plain": [
              "('Pomegranate Bhagwa', 32)"
            ]
          },
          "metadata": {},
          "execution_count": 66
        }
      ]
    },
    {
      "cell_type": "code",
      "source": [
        "documents[0][:80], len(documents)"
      ],
      "metadata": {
        "colab": {
          "base_uri": "https://localhost:8080/"
        },
        "id": "jSceRGw6_xuc",
        "outputId": "7aa64841-c93d-417b-e388-542033f8837b"
      },
      "execution_count": 67,
      "outputs": [
        {
          "output_type": "execute_result",
          "data": {
            "text/plain": [
              "('Fresh Pomegranate from Anushka Avni International Bhagwa is a premium Pomegranat',\n",
              " 32)"
            ]
          },
          "metadata": {},
          "execution_count": 67
        }
      ]
    },
    {
      "cell_type": "markdown",
      "metadata": {
        "id": "u1zBu6DIjdtP"
      },
      "source": [
        "# Experiment 1: TF-IDF\n",
        "***\n",
        "\n",
        "**T**erm **F**requency - **I**nverse **D**ocument **F**requency (TF-IDF) is a traditional NLP technique to look at words that appear in both pieces of text, and score them based on how often they appear. For this experiment, you are free to use the TF-IDF implementation provided by scikit-learn.\n"
      ]
    },
    {
      "cell_type": "code",
      "metadata": {
        "colab": {
          "base_uri": "https://localhost:8080/"
        },
        "id": "5XP9_ncYg4yu",
        "outputId": "ee4cc176-4d90-4923-c60a-2be841d11b39"
      },
      "source": [
        "from sklearn.feature_extraction.text import TfidfVectorizer\n",
        "from sklearn.metrics.pairwise import linear_kernel\n",
        "\n",
        "import nltk\n",
        "nltk.download('stopwords')\n",
        "from nltk.corpus import stopwords\n",
        "\n",
        "nltk.download('punkt')\n",
        "stop_words = list(set(stopwords.words('english')))"
      ],
      "execution_count": 68,
      "outputs": [
        {
          "output_type": "stream",
          "name": "stderr",
          "text": [
            "[nltk_data] Downloading package stopwords to /root/nltk_data...\n",
            "[nltk_data]   Package stopwords is already up-to-date!\n",
            "[nltk_data] Downloading package punkt to /root/nltk_data...\n",
            "[nltk_data]   Package punkt is already up-to-date!\n"
          ]
        }
      ]
    },
    {
      "cell_type": "code",
      "source": [
        "def find_top_similarity(query, top_n=5):\n",
        "  vectorizer = TfidfVectorizer(stop_words=stop_words)\n",
        "  vectors = vectorizer.fit_transform([query] + documents)\n",
        "\n",
        "  # Calculate similarity scores\n",
        "  # Compare first vector(vectors[0:1]) with all other vectors in vectors\n",
        "  # linear_kernel: compute dot product of vectors, this is the cosine similarity when the vectors are normalized\n",
        "  cosine_similarities = linear_kernel(vectors[0:1], vectors).flatten()\n",
        "\n",
        "  # Output the similarity scores for the top 5 documents\n",
        "  top_indices = cosine_similarities.argsort()[-2:-7:-1]\n",
        "  print(\"Query:\", query)\n",
        "  print(\"Top 5 similar documents:\")\n",
        "  for idx in top_indices:\n",
        "      print(f\"Document {idx-1}: \\t{documents[idx-1][:80]}, \\tsimilarity score {round(cosine_similarities[idx], 2)}\")\n"
      ],
      "metadata": {
        "id": "Fe3KcfoKHSp_"
      },
      "execution_count": 69,
      "outputs": []
    },
    {
      "cell_type": "code",
      "source": [
        "queries = ['fruits', 'vegetables', 'healthy foods in Canada']\n",
        "for query in queries:\n",
        "  find_top_similarity(query)\n",
        "  print()"
      ],
      "metadata": {
        "colab": {
          "base_uri": "https://localhost:8080/"
        },
        "id": "40DqMMM2Iu5a",
        "outputId": "aa0a2ae6-f404-4138-c13c-bc12c10cef27"
      },
      "execution_count": 70,
      "outputs": [
        {
          "output_type": "stream",
          "name": "stdout",
          "text": [
            "Query: fruits\n",
            "Top 5 similar documents:\n",
            "Document 6: \tTo a botanist, a fruit is an entity that develops from the fertilized ovary of a, \tsimilarity score 0.16\n",
            "Document 10: \tCanada's Food Guide is a nutrition guide produced by Health Canada to promote He, \tsimilarity score 0.07\n",
            "Document 14: \tBerry Size: 18mm and above Packaging Packing Size: 4.5 kg loose in carry bags 8., \tsimilarity score 0.0\n",
            "Document 0: \tFresh Pomegranate from Anushka Avni International Bhagwa is a premium Pomegranat, \tsimilarity score 0.0\n",
            "Document 1: \tFresh Pomegranate Arakta from Anushka Avni International This Pomegranate are bi, \tsimilarity score 0.0\n",
            "\n",
            "Query: vegetables\n",
            "Top 5 similar documents:\n",
            "Document 10: \tCanada's Food Guide is a nutrition guide produced by Health Canada to promote He, \tsimilarity score 0.08\n",
            "Document 14: \tBerry Size: 18mm and above Packaging Packing Size: 4.5 kg loose in carry bags 8., \tsimilarity score 0.0\n",
            "Document 0: \tFresh Pomegranate from Anushka Avni International Bhagwa is a premium Pomegranat, \tsimilarity score 0.0\n",
            "Document 1: \tFresh Pomegranate Arakta from Anushka Avni International This Pomegranate are bi, \tsimilarity score 0.0\n",
            "Document 2: \tAbout Us Anushka Avni International (AAI) takes pleasure in presenting itself as, \tsimilarity score 0.0\n",
            "\n",
            "Query: healthy foods in Canada\n",
            "Top 5 similar documents:\n",
            "Document 10: \tCanada's Food Guide is a nutrition guide produced by Health Canada to promote He, \tsimilarity score 0.6\n",
            "Document 9: \tIn nutrition, the diet of an organism is the sum of foods it eats, which is larg, \tsimilarity score 0.3\n",
            "Document 12: \tCanadian Industry Statistics (CIS) analyses industry data on many economic indic, \tsimilarity score 0.1\n",
            "Document 11: \tUK, Nether Land, Russia, Canada, HongKong, Malaysia, Singapore, Oman, UAE, Qatar, \tsimilarity score 0.09\n",
            "Document 28: \tThe Ford Bronco is a model line of sport utility vehicles manufactured and marke, \tsimilarity score 0.07\n",
            "\n"
          ]
        }
      ]
    },
    {
      "cell_type": "code",
      "source": [
        "documents[10]"
      ],
      "metadata": {
        "colab": {
          "base_uri": "https://localhost:8080/",
          "height": 108
        },
        "id": "hM5Yp3TvJ70D",
        "outputId": "594dddfd-4e70-49e7-f298-5c25f74232a9"
      },
      "execution_count": 71,
      "outputs": [
        {
          "output_type": "execute_result",
          "data": {
            "text/plain": [
              "\"Canada's Food Guide is a nutrition guide produced by Health Canada to promote Healthy behaviours and habits, and lifestyles in Canada - this is to increase the number of healthy people in Canada. In 2007, it was reported to be the second most requested Canadian government publication, behind the Income Tax Forms. The Health Canada website states: Food guides are basic education tools that are designed to help people follow a healthy diet. The Guide recommends eating a variety of healthy foods each day including plenty of vegetables and fruits, protein foods, and whole grain foods. It recommends choosing protein foods that come from plants more often. It also recommends limiting highly processed foods.\""
            ],
            "application/vnd.google.colaboratory.intrinsic+json": {
              "type": "string"
            }
          },
          "metadata": {},
          "execution_count": 71
        }
      ]
    },
    {
      "cell_type": "markdown",
      "source": [
        "Documents[10] came up in top 5 of all three queries."
      ],
      "metadata": {
        "id": "pwo3yr-cKIVA"
      }
    },
    {
      "cell_type": "markdown",
      "metadata": {
        "id": "QqrN27J9mZwb"
      },
      "source": [
        "## Repeat the same task after some preprocessing\n",
        "\n",
        "Use a minimum of 2 different text cleaning/standardization techniques (e.g. lemmatization, removing punctuation, etc)."
      ]
    },
    {
      "cell_type": "code",
      "source": [
        "nltk.download('wordnet')\n",
        "nltk.download('averaged_perceptron_tagger')"
      ],
      "metadata": {
        "colab": {
          "base_uri": "https://localhost:8080/"
        },
        "id": "OhnwdZpFOl9O",
        "outputId": "8ec06fe4-7618-4f38-a2f4-5c5f78e8496c"
      },
      "execution_count": 72,
      "outputs": [
        {
          "output_type": "stream",
          "name": "stderr",
          "text": [
            "[nltk_data] Downloading package wordnet to /root/nltk_data...\n",
            "[nltk_data]   Package wordnet is already up-to-date!\n",
            "[nltk_data] Downloading package averaged_perceptron_tagger to\n",
            "[nltk_data]     /root/nltk_data...\n",
            "[nltk_data]   Package averaged_perceptron_tagger is already up-to-\n",
            "[nltk_data]       date!\n"
          ]
        },
        {
          "output_type": "execute_result",
          "data": {
            "text/plain": [
              "True"
            ]
          },
          "metadata": {},
          "execution_count": 72
        }
      ]
    },
    {
      "cell_type": "code",
      "metadata": {
        "id": "QSsdfQb9g46z"
      },
      "source": [
        "# e.g. you can use a lemmatizer to reduce words down to their\n",
        "# simplest 'lemma' (helpful when dealing with plurals)\n",
        "\n",
        "from nltk.corpus import wordnet\n",
        "from nltk import word_tokenize\n",
        "from nltk.stem import WordNetLemmatizer\n",
        "import string"
      ],
      "execution_count": 73,
      "outputs": []
    },
    {
      "cell_type": "code",
      "source": [
        "def get_wordnet_pos(treebank_tag):\n",
        "    \"\"\"\n",
        "    Convert Treebank POS tags to WordNet POS tags\n",
        "    The Penn Treebank tagset uses different tags (eg, NN for noun)\n",
        "    than WordNet (e.g., N for noun)\n",
        "    \"\"\"\n",
        "    if treebank_tag.startswith('J'):\n",
        "        return wordnet.ADJ\n",
        "    elif treebank_tag.startswith('V'):\n",
        "        return wordnet.VERB\n",
        "    elif treebank_tag.startswith('N'):\n",
        "        return wordnet.NOUN\n",
        "    elif treebank_tag.startswith('R'):\n",
        "        return wordnet.ADV\n",
        "    else:\n",
        "        return wordnet.NOUN  # default to noun if POS tag is not found\n"
      ],
      "metadata": {
        "id": "NQ5LrFHxPfEJ"
      },
      "execution_count": 74,
      "outputs": []
    },
    {
      "cell_type": "code",
      "source": [
        "def lemmatize_document(document):\n",
        "    lemmatizer = WordNetLemmatizer()\n",
        "    words = word_tokenize(document)\n",
        "\n",
        "    # Remove punctuation and convert to lowercase\n",
        "    words = [word.lower() for word in words if word.isalnum()]\n",
        "\n",
        "    pos_tags = nltk.pos_tag(words)\n",
        "    lemmatized_words = [lemmatizer.lemmatize(word, get_wordnet_pos(tag)) for word, tag in pos_tags]\n",
        "    return ' '.join(lemmatized_words)\n"
      ],
      "metadata": {
        "id": "7iCZN9lYPW6V"
      },
      "execution_count": 75,
      "outputs": []
    },
    {
      "cell_type": "code",
      "source": [
        "def find_top_similarity_preprocess(query, top_n=5, stop_words=None):\n",
        "\n",
        "    # preprocessing\n",
        "    lemmatized_documents = [lemmatize_document(doc) for doc in documents]\n",
        "    lemmatized_query = lemmatize_document(query)\n",
        "\n",
        "    vectorizer = TfidfVectorizer(stop_words=stop_words)\n",
        "    vectors = vectorizer.fit_transform([lemmatized_query] + lemmatized_documents)\n",
        "\n",
        "    # Calculate similarity scores\n",
        "    cosine_similarities = linear_kernel(vectors[0:1], vectors).flatten()\n",
        "\n",
        "    # Output the similarity scores for the top N documents\n",
        "    top_indices = cosine_similarities.argsort()[-2:-top_n-2:-1]\n",
        "    print(\"Query:\", query)\n",
        "    print(f\"Top {top_n} similar documents:\")\n",
        "    for idx in top_indices:\n",
        "        print(f\"Document {idx-1}: \\t{documents[idx-1][:80]}, \\tsimilarity score {round(cosine_similarities[idx], 2)}\")\n"
      ],
      "metadata": {
        "id": "tQbGvZdmPucI"
      },
      "execution_count": 76,
      "outputs": []
    },
    {
      "cell_type": "code",
      "source": [
        "for query in queries:\n",
        "  find_top_similarity_preprocess(query)\n",
        "  print()"
      ],
      "metadata": {
        "colab": {
          "base_uri": "https://localhost:8080/"
        },
        "id": "IEhohxUwPuYh",
        "outputId": "75136279-d7ab-445d-996c-b2a065322bd9"
      },
      "execution_count": 77,
      "outputs": [
        {
          "output_type": "stream",
          "name": "stdout",
          "text": [
            "Query: fruits\n",
            "Top 5 similar documents:\n",
            "Document 29: \tFruit dishes are those that use fruit as a primary ingredient. Condiments prepar, \tsimilarity score 0.44\n",
            "Document 6: \tTo a botanist, a fruit is an entity that develops from the fertilized ovary of a, \tsimilarity score 0.23\n",
            "Document 0: \tFresh Pomegranate from Anushka Avni International Bhagwa is a premium Pomegranat, \tsimilarity score 0.15\n",
            "Document 31: \tA fruit serving bowl is a round dish or container typically used to prepare and , \tsimilarity score 0.08\n",
            "Document 1: \tFresh Pomegranate Arakta from Anushka Avni International This Pomegranate are bi, \tsimilarity score 0.05\n",
            "\n",
            "Query: vegetables\n",
            "Top 5 similar documents:\n",
            "Document 10: \tCanada's Food Guide is a nutrition guide produced by Health Canada to promote He, \tsimilarity score 0.07\n",
            "Document 14: \tBerry Size: 18mm and above Packaging Packing Size: 4.5 kg loose in carry bags 8., \tsimilarity score 0.0\n",
            "Document 0: \tFresh Pomegranate from Anushka Avni International Bhagwa is a premium Pomegranat, \tsimilarity score 0.0\n",
            "Document 1: \tFresh Pomegranate Arakta from Anushka Avni International This Pomegranate are bi, \tsimilarity score 0.0\n",
            "Document 2: \tAbout Us Anushka Avni International (AAI) takes pleasure in presenting itself as, \tsimilarity score 0.0\n",
            "\n",
            "Query: healthy foods in Canada\n",
            "Top 5 similar documents:\n",
            "Document 10: \tCanada's Food Guide is a nutrition guide produced by Health Canada to promote He, \tsimilarity score 0.58\n",
            "Document 9: \tIn nutrition, the diet of an organism is the sum of foods it eats, which is larg, \tsimilarity score 0.24\n",
            "Document 12: \tCanadian Industry Statistics (CIS) analyses industry data on many economic indic, \tsimilarity score 0.12\n",
            "Document 31: \tA fruit serving bowl is a round dish or container typically used to prepare and , \tsimilarity score 0.12\n",
            "Document 28: \tThe Ford Bronco is a model line of sport utility vehicles manufactured and marke, \tsimilarity score 0.1\n",
            "\n"
          ]
        }
      ]
    },
    {
      "cell_type": "markdown",
      "source": [
        "What impact did the text cleaning / preprocessing have on your results?"
      ],
      "metadata": {
        "id": "eg7AQ9wGy1BA"
      }
    },
    {
      "cell_type": "markdown",
      "source": [
        "After preprocessing, the scores are a bit different for some queries. For example for query 'fruits', the top documents was Document 6 (score 0.16) without any preprocessing, but after preprocessing, Document 29 is the top document (score, 0.44). For query 'vegetables', the ranking of the documents are not different, neither are the scores. For query 'health foods in Canada', the top 3 documents are the same for both approaches. With preprocessing, it is able to pick up Document 31 and Document 28. Hence, for some queries, some important documents are missed if preprocessing steps did not take place."
      ],
      "metadata": {
        "id": "HnOEiP5bSIOo"
      }
    },
    {
      "cell_type": "code",
      "source": [],
      "metadata": {
        "id": "wRWtek5oy5tv"
      },
      "execution_count": 77,
      "outputs": []
    },
    {
      "cell_type": "markdown",
      "metadata": {
        "id": "H8V2kx6Epnxq"
      },
      "source": [
        "# Experiment 2: Semantic matching using GloVe embeddings\n",
        "***"
      ]
    },
    {
      "cell_type": "code",
      "metadata": {
        "id": "AGBg_Roo8FvP",
        "colab": {
          "base_uri": "https://localhost:8080/"
        },
        "outputId": "eed47a27-45cb-48db-ba71-2dd31777b034"
      },
      "source": [
        "# if you decide to use the gensim library and the sample codes below,\n",
        "# you would need gensim version >=4.0.1 to be installed\n",
        "\n",
        "import gensim\n",
        "print(gensim.__version__)"
      ],
      "execution_count": 78,
      "outputs": [
        {
          "output_type": "stream",
          "name": "stdout",
          "text": [
            "4.3.2\n"
          ]
        }
      ]
    },
    {
      "cell_type": "code",
      "metadata": {
        "id": "oywLsqBYrayZ"
      },
      "source": [
        "import logging\n",
        "import json\n",
        "import logging\n",
        "from re import sub\n",
        "from multiprocessing import cpu_count\n",
        "\n",
        "import numpy as np\n",
        "\n",
        "import gensim.downloader as api\n",
        "from gensim.utils import simple_preprocess\n",
        "from gensim.corpora import Dictionary\n",
        "from gensim.models import TfidfModel\n",
        "from gensim.similarities import WordEmbeddingSimilarityIndex\n",
        "from gensim.similarities import SparseTermSimilarityMatrix\n",
        "from gensim.similarities import SoftCosineSimilarity"
      ],
      "execution_count": 79,
      "outputs": []
    },
    {
      "cell_type": "code",
      "metadata": {
        "id": "Pa0dlD102lbp"
      },
      "source": [
        "# optional, but it helps\n",
        "import logging\n",
        "\n",
        "# Initialize logging.\n",
        "logging.basicConfig(format='%(asctime)s : %(levelname)s : %(message)s', level=logging.WARNING)"
      ],
      "execution_count": 80,
      "outputs": []
    },
    {
      "cell_type": "code",
      "metadata": {
        "id": "SwQBtaxk5rXS",
        "colab": {
          "base_uri": "https://localhost:8080/"
        },
        "outputId": "b5daf66b-4cf1-4eed-b07e-0198982fd58b"
      },
      "source": [
        "import nltk\n",
        "\n",
        "# Import and download stopwords from NLTK.\n",
        "nltk.download('stopwords')  # Download stopwords list.\n",
        "stopwords = set(nltk.corpus.stopwords.words(\"english\"))"
      ],
      "execution_count": 81,
      "outputs": [
        {
          "output_type": "stream",
          "name": "stderr",
          "text": [
            "[nltk_data] Downloading package stopwords to /root/nltk_data...\n",
            "[nltk_data]   Package stopwords is already up-to-date!\n"
          ]
        }
      ]
    },
    {
      "cell_type": "code",
      "metadata": {
        "id": "5mlGyZeZ2Nle"
      },
      "source": [
        "def preprocess(doc):\n",
        "    # Tokenize, clean up input document string\n",
        "    doc = sub(r'<img[^<>]+(>|$)', \" image_token \", doc)\n",
        "    # you may decide to add additional steps here\n",
        "    return [token for token in simple_preprocess(doc, min_len=0, max_len=float(\"inf\")) if token not in stopwords]"
      ],
      "execution_count": 82,
      "outputs": []
    },
    {
      "cell_type": "code",
      "metadata": {
        "id": "vP1s_4hMpqAn"
      },
      "source": [
        "# Load test data\n",
        "with open(filePath) as in_file:\n",
        "    repo_data = json.load(in_file)\n",
        "\n",
        "titles = [item[0] for item in repo_data['data']]\n",
        "documents = [item[1] for item in repo_data['data']]"
      ],
      "execution_count": 83,
      "outputs": []
    },
    {
      "cell_type": "code",
      "source": [
        "queries"
      ],
      "metadata": {
        "id": "4fj_43IAanD2",
        "outputId": "2acf2b2e-6b55-4976-c57a-aa266e492311",
        "colab": {
          "base_uri": "https://localhost:8080/"
        }
      },
      "execution_count": 84,
      "outputs": [
        {
          "output_type": "execute_result",
          "data": {
            "text/plain": [
              "['fruits', 'vegetables', 'healthy foods in Canada']"
            ]
          },
          "metadata": {},
          "execution_count": 84
        }
      ]
    },
    {
      "cell_type": "code",
      "metadata": {
        "id": "aaVXOXGDpqD5"
      },
      "source": [
        "# Preprocess the documents, including the query string\n",
        "corpus = [preprocess(document) for document in documents]"
      ],
      "execution_count": 85,
      "outputs": []
    },
    {
      "cell_type": "code",
      "metadata": {
        "id": "sR_F5zkipqH7"
      },
      "source": [
        "# Download and load the GloVe word vector embeddings\n",
        "if 'glove' not in locals():  # only load if not already in memory\n",
        "    glove = api.load(\"glove-wiki-gigaword-50\")\n",
        "\n",
        "similarity_index = WordEmbeddingSimilarityIndex(glove)"
      ],
      "execution_count": 86,
      "outputs": []
    },
    {
      "cell_type": "code",
      "source": [
        "def glove_find_top_similarity(query, top_n=5):\n",
        "  query = preprocess(query)\n",
        "\n",
        "  # Build the term dictionary, TF-idf model\n",
        "  dictionary = Dictionary(corpus+[query])\n",
        "  tfidf = TfidfModel(dictionary=dictionary)\n",
        "\n",
        "  # Create the term similarity matrix.\n",
        "  similarity_matrix = SparseTermSimilarityMatrix(similarity_index, dictionary, tfidf)\n",
        "\n",
        "  # Compute similarity measure between the query and the documents.\n",
        "  query_tf = tfidf[dictionary.doc2bow(query)]\n",
        "\n",
        "  index = SoftCosineSimilarity(\n",
        "              tfidf[[dictionary.doc2bow(document) for document in corpus]],\n",
        "              similarity_matrix)\n",
        "\n",
        "  doc_similarity_scores = index[query_tf]\n",
        "  print()\n",
        "\n",
        "  # sort documents by similarity scores\n",
        "  sorted_indices = np.argsort(doc_similarity_scores)[::-1]  # Sort indices in descending order\n",
        "  top_n_docs = [(documents[idx], idx, doc_similarity_scores[idx]) for idx in sorted_indices[:5]]\n",
        "\n",
        "  print(f\"Query: {query[0]}\")\n",
        "  for doc, idx, score in top_n_docs:\n",
        "    print(f\"Document {idx}: \\t{documents[idx][:80]}, \\tsimilarity score {score}\")"
      ],
      "metadata": {
        "id": "Id829_DYefvZ"
      },
      "execution_count": 100,
      "outputs": []
    },
    {
      "cell_type": "code",
      "source": [
        "for query in queries:\n",
        "  glove_find_top_similarity(query)\n",
        "  print()"
      ],
      "metadata": {
        "id": "H-bBqMzmefsG",
        "outputId": "edadbb8b-2f7a-43d5-e133-c96482efc7b5",
        "colab": {
          "base_uri": "https://localhost:8080/"
        }
      },
      "execution_count": 101,
      "outputs": [
        {
          "output_type": "stream",
          "name": "stderr",
          "text": [
            "100%|██████████| 568/568 [00:14<00:00, 40.10it/s]\n",
            "/usr/local/lib/python3.10/dist-packages/gensim/similarities/termsim.py:382: RuntimeWarning: divide by zero encountered in divide\n",
            "  normalized_corpus = np.multiply(corpus, 1.0 / corpus_norm)\n",
            "/usr/local/lib/python3.10/dist-packages/gensim/similarities/termsim.py:382: RuntimeWarning: invalid value encountered in multiply\n",
            "  normalized_corpus = np.multiply(corpus, 1.0 / corpus_norm)\n"
          ]
        },
        {
          "output_type": "stream",
          "name": "stdout",
          "text": [
            "\n",
            "Query: fruits\n",
            "Document 6: \tTo a botanist, a fruit is an entity that develops from the fertilized ovary of a, \tsimilarity score 0.8799999952316284\n",
            "Document 31: \tA fruit serving bowl is a round dish or container typically used to prepare and , \tsimilarity score 0.8399999737739563\n",
            "Document 29: \tFruit dishes are those that use fruit as a primary ingredient. Condiments prepar, \tsimilarity score 0.8399999737739563\n",
            "Document 0: \tFresh Pomegranate from Anushka Avni International Bhagwa is a premium Pomegranat, \tsimilarity score 0.8100000023841858\n",
            "Document 10: \tCanada's Food Guide is a nutrition guide produced by Health Canada to promote He, \tsimilarity score 0.7599999904632568\n",
            "\n"
          ]
        },
        {
          "output_type": "stream",
          "name": "stderr",
          "text": [
            "100%|██████████| 568/568 [00:13<00:00, 41.82it/s]\n"
          ]
        },
        {
          "output_type": "stream",
          "name": "stdout",
          "text": [
            "\n",
            "Query: vegetables\n",
            "Document 6: \tTo a botanist, a fruit is an entity that develops from the fertilized ovary of a, \tsimilarity score 0.8999999761581421\n",
            "Document 10: \tCanada's Food Guide is a nutrition guide produced by Health Canada to promote He, \tsimilarity score 0.8100000023841858\n",
            "Document 29: \tFruit dishes are those that use fruit as a primary ingredient. Condiments prepar, \tsimilarity score 0.7599999904632568\n",
            "Document 17: \tWe are one of the leading organizations engaged in delivering our customers with, \tsimilarity score 0.75\n",
            "Document 0: \tFresh Pomegranate from Anushka Avni International Bhagwa is a premium Pomegranat, \tsimilarity score 0.7300000190734863\n",
            "\n"
          ]
        },
        {
          "output_type": "stream",
          "name": "stderr",
          "text": [
            "100%|██████████| 568/568 [00:13<00:00, 42.64it/s]"
          ]
        },
        {
          "output_type": "stream",
          "name": "stdout",
          "text": [
            "\n",
            "Query: healthy\n",
            "Document 10: \tCanada's Food Guide is a nutrition guide produced by Health Canada to promote He, \tsimilarity score 0.9399999976158142\n",
            "Document 9: \tIn nutrition, the diet of an organism is the sum of foods it eats, which is larg, \tsimilarity score 0.6800000071525574\n",
            "Document 31: \tA fruit serving bowl is a round dish or container typically used to prepare and , \tsimilarity score 0.5899999737739563\n",
            "Document 16: \tAnushka Avni International (AAI) takes pleasure in presenting itself as one of t, \tsimilarity score 0.5899999737739563\n",
            "Document 0: \tFresh Pomegranate from Anushka Avni International Bhagwa is a premium Pomegranat, \tsimilarity score 0.5299999713897705\n",
            "\n"
          ]
        },
        {
          "output_type": "stream",
          "name": "stderr",
          "text": [
            "\n"
          ]
        }
      ]
    },
    {
      "cell_type": "code",
      "source": [],
      "metadata": {
        "id": "mjDgZKzwefm5"
      },
      "execution_count": null,
      "outputs": []
    },
    {
      "cell_type": "markdown",
      "metadata": {
        "id": "8at07gGAI-MH"
      },
      "source": [
        "# Experiment 3: BERT Model\n",
        "***\n",
        "Use a BERT model obtain sentence embeddings and calculate the similarity between queries and documents.\n",
        "\n",
        "> Hint: see the Module 07 jupyter notebook for examples of how to work with BERT."
      ]
    },
    {
      "cell_type": "code",
      "metadata": {
        "id": "aBSozs_tYFjg"
      },
      "source": [],
      "execution_count": null,
      "outputs": []
    },
    {
      "cell_type": "code",
      "metadata": {
        "id": "raaQrNXUKL2o"
      },
      "source": [
        "# for each query, output the similarity scores for the top 5 documents with\n",
        "# th highest score, and interpret your results"
      ],
      "execution_count": null,
      "outputs": []
    },
    {
      "cell_type": "code",
      "metadata": {
        "id": "sLH7jBj4KL7E"
      },
      "source": [],
      "execution_count": null,
      "outputs": []
    },
    {
      "cell_type": "markdown",
      "source": [
        " # Technique Comparison\n",
        " ***\n",
        "\n",
        "Compare all three techniques and interpret your findings. Do your best to explain the differences you observe in terms of concepts learned in class (not just the what, but also the how and why one technique produces different results from another).\n"
      ],
      "metadata": {
        "id": "XpX8H6_TEPOM"
      }
    },
    {
      "cell_type": "code",
      "source": [],
      "metadata": {
        "id": "LwKekAZX1kDj"
      },
      "execution_count": null,
      "outputs": []
    }
  ]
}